{
 "cells": [
  {
   "cell_type": "markdown",
   "id": "1e80c919",
   "metadata": {},
   "source": [
    "# 10. Functions in Python\n",
    "\n",
    "\n",
    "\n",
    " * In Python, a functions is a group of related statement that performs a spefici task.\n",
    " * Functions helps break our program into smaller and modular chunks. *As our programs grow larger and  larger, Functions make it more organized and manageable.\n",
    " * Furthermore, it avoids repetiton and makes the code reusable.\n",
    " * There are two types of functions:\n",
    " * 1. Pre-defined functions\n",
    " * 2. User-defined functions\n",
    " * In Python a function is defined using the def keyword followed by the function name and parentheses().\n",
    " * Keyword def that marks the start of the function header.\n",
    " * Function naming follows the same rule of writing identifiers in Python.\n",
    " * Parameters (arguments) though which we pass values to a function. They are optional.\n",
    " * A colon (:) to mark the end of the function header.\n",
    " * Optional documentation string (docstring) to describe what the function does.\n",
    " * One or more valid python statements that make  up the function body.\n",
    " * Statements must have the same identation level (usually 4 spaces).\n",
    " * An optional return statement to return a value from the function."
   ]
  },
  {
   "cell_type": "code",
   "execution_count": 1,
   "id": "ffe8600e",
   "metadata": {},
   "outputs": [
    {
     "name": "stdout",
     "output_type": "stream",
     "text": [
      "If you make the above operations with 20, the reuslt will be 10,30,2.0,200\n"
     ]
    },
    {
     "data": {
      "text/plain": [
       "(10, 30, 2.0, 200)"
      ]
     },
     "execution_count": 1,
     "metadata": {},
     "output_type": "execute_result"
    }
   ],
   "source": [
    "# Take a sample function.\n",
    "\n",
    "def process(x):\n",
    "    y1=x-10\n",
    "    y2=x+10\n",
    "    y3=x/10\n",
    "    y4=x*10\n",
    "    print(f'If you make the above operations with {x}, the reuslt will be {y1},{y2},{y3},{y4}')\n",
    "    return y1,y2,y3,y4\n",
    "\n",
    "process(20)  # pass the x value in the parameter as 20"
   ]
  },
  {
   "cell_type": "code",
   "execution_count": 3,
   "id": "a7782c27",
   "metadata": {},
   "outputs": [
    {
     "name": "stdout",
     "output_type": "stream",
     "text": [
      "If you make the above operations with 40, the reuslt will be 30,50,4.0,400\n"
     ]
    },
    {
     "data": {
      "text/plain": [
       "(30, 50, 4.0, 400)"
      ]
     },
     "execution_count": 3,
     "metadata": {},
     "output_type": "execute_result"
    }
   ],
   "source": [
    "process(40)\n"
   ]
  },
  {
   "cell_type": "code",
   "execution_count": 5,
   "id": "80619874",
   "metadata": {},
   "outputs": [
    {
     "name": "stdout",
     "output_type": "stream",
     "text": [
      "If you make the above operations with 50, the reuslt will be 40,60,5.0,500\n"
     ]
    },
    {
     "data": {
      "text/plain": [
       "(40, 60, 5.0, 500)"
      ]
     },
     "execution_count": 5,
     "metadata": {},
     "output_type": "execute_result"
    }
   ],
   "source": [
    "process(50)"
   ]
  },
  {
   "cell_type": "code",
   "execution_count": 6,
   "id": "1dee83b4",
   "metadata": {},
   "outputs": [
    {
     "name": "stdout",
     "output_type": "stream",
     "text": [
      "If you make the above operations with 3.14, the reuslt will be -6.859999999999999,13.14,0.314,31.400000000000002\n"
     ]
    },
    {
     "data": {
      "text/plain": [
       "(-6.859999999999999, 13.14, 0.314, 31.400000000000002)"
      ]
     },
     "execution_count": 6,
     "metadata": {},
     "output_type": "execute_result"
    }
   ],
   "source": [
    "process(3.14)"
   ]
  },
  {
   "cell_type": "code",
   "execution_count": 7,
   "id": "a16171d8",
   "metadata": {},
   "outputs": [
    {
     "name": "stdout",
     "output_type": "stream",
     "text": [
      "-34\n"
     ]
    }
   ],
   "source": [
    "# Define a function with multiple elements\n",
    "\n",
    "def multi(x,y):\n",
    "    z = 2*x-10*y+10\n",
    "    return z\n",
    "\n",
    "print(multi(3,5))"
   ]
  },
  {
   "cell_type": "code",
   "execution_count": 8,
   "id": "8d9fdec2",
   "metadata": {},
   "outputs": [
    {
     "data": {
      "text/plain": [
       "-590"
      ]
     },
     "execution_count": 8,
     "metadata": {},
     "output_type": "execute_result"
    }
   ],
   "source": [
    "multi(200,100)"
   ]
  },
  {
   "cell_type": "markdown",
   "id": "54eb020b",
   "metadata": {},
   "source": [
    "# Variable\n",
    "\n",
    " * The input to a function is called a formal parameter.\n",
    " * A variable that is declared inside a function is called a local variable.\n",
    " * The parameter only exists within the function (i.e the point where the function starts and stops).\n",
    " * A variable that is declared outside a function definition is a global variable, and its value is accessible and modifiable thoughtout the program."
   ]
  },
  {
   "cell_type": "code",
   "execution_count": 9,
   "id": "267e0d69",
   "metadata": {},
   "outputs": [
    {
     "name": "stdout",
     "output_type": "stream",
     "text": [
      "If your make the above operations with 15,the result will be 76.4.\n"
     ]
    }
   ],
   "source": [
    " # Define a function\n",
    "def function(x):\n",
    "    # take a local variable\n",
    "    y= 3.14\n",
    "    z = 3*x+10*y\n",
    "    \n",
    "    print(f'If your make the above operations with {x},the result will be {z}.')\n",
    "    \n",
    "function(15)"
   ]
  },
  {
   "cell_type": "code",
   "execution_count": 11,
   "id": "6cb30f88",
   "metadata": {},
   "outputs": [
    {
     "name": "stdout",
     "output_type": "stream",
     "text": [
      "If your make the above operations with 10,the result will be 61.400000000000006.\n",
      "None\n"
     ]
    }
   ],
   "source": [
    "# Define a function with global variable.\n",
    "\n",
    "a = 10\n",
    "\n",
    "s=function(a)\n",
    "print(s)"
   ]
  },
  {
   "cell_type": "markdown",
   "id": "3646b361",
   "metadata": {},
   "source": [
    "#  Withour return statement, the function return None."
   ]
  },
  {
   "cell_type": "code",
   "execution_count": 12,
   "id": "1cabdcc9",
   "metadata": {},
   "outputs": [
    {
     "name": "stdout",
     "output_type": "stream",
     "text": [
      "Hello World\n",
      "None\n",
      "Hello Python\n",
      "None\n"
     ]
    }
   ],
   "source": [
    "def msg1():\n",
    "    print('Hello World')\n",
    "    \n",
    "def msg2():\n",
    "    print('Hello Python')\n",
    "    \n",
    "    return None\n",
    "\n",
    "print(msg1())\n",
    "print(msg2())"
   ]
  },
  {
   "cell_type": "markdown",
   "id": "3837c575",
   "metadata": {},
   "source": [
    "#  Concatenation of two string with functions"
   ]
  },
  {
   "cell_type": "code",
   "execution_count": 14,
   "id": "bf4bdd5e",
   "metadata": {},
   "outputs": [
    {
     "data": {
      "text/plain": [
       "'Hello World'"
      ]
     },
     "execution_count": 14,
     "metadata": {},
     "output_type": "execute_result"
    }
   ],
   "source": [
    "# Define  a function\n",
    "\n",
    "def string(x,y):\n",
    "    \n",
    "    return x+y\n",
    "\n",
    "\n",
    "string('Hello ','World')"
   ]
  },
  {
   "cell_type": "code",
   "execution_count": 15,
   "id": "8b789388",
   "metadata": {},
   "outputs": [
    {
     "data": {
      "text/plain": [
       "30"
      ]
     },
     "execution_count": 15,
     "metadata": {},
     "output_type": "execute_result"
    }
   ],
   "source": [
    "string(10,20)"
   ]
  },
  {
   "cell_type": "code",
   "execution_count": 16,
   "id": "7ca4d30f",
   "metadata": {},
   "outputs": [
    {
     "data": {
      "text/plain": [
       "68.86"
      ]
     },
     "execution_count": 16,
     "metadata": {},
     "output_type": "execute_result"
    }
   ],
   "source": [
    "string(23.5,45.36)"
   ]
  },
  {
   "cell_type": "markdown",
   "id": "2c94f092",
   "metadata": {},
   "source": [
    "#  predefined functions like print(), sum(), min(), max(), len(), input().....etc"
   ]
  },
  {
   "cell_type": "code",
   "execution_count": 17,
   "id": "e95af2b7",
   "metadata": {},
   "outputs": [
    {
     "name": "stdout",
     "output_type": "stream",
     "text": [
      "[0.577, 2.718, 3.14, 1.618, 1729, 1025, 8975]\n"
     ]
    }
   ],
   "source": [
    "special_number=[0.577,2.718,3.14,1.618,1729,1025,8975]\n",
    "\n",
    "print(special_number)"
   ]
  },
  {
   "cell_type": "code",
   "execution_count": 18,
   "id": "b2619cb2",
   "metadata": {},
   "outputs": [
    {
     "data": {
      "text/plain": [
       "11737.053"
      ]
     },
     "execution_count": 18,
     "metadata": {},
     "output_type": "execute_result"
    }
   ],
   "source": [
    "sum(special_number)"
   ]
  },
  {
   "cell_type": "code",
   "execution_count": 19,
   "id": "3b8b460a",
   "metadata": {},
   "outputs": [
    {
     "data": {
      "text/plain": [
       "0.577"
      ]
     },
     "execution_count": 19,
     "metadata": {},
     "output_type": "execute_result"
    }
   ],
   "source": [
    "min(special_number)"
   ]
  },
  {
   "cell_type": "code",
   "execution_count": 20,
   "id": "20d9839a",
   "metadata": {},
   "outputs": [
    {
     "data": {
      "text/plain": [
       "8975"
      ]
     },
     "execution_count": 20,
     "metadata": {},
     "output_type": "execute_result"
    }
   ],
   "source": [
    "max(special_number)"
   ]
  },
  {
   "cell_type": "code",
   "execution_count": 21,
   "id": "d7f09059",
   "metadata": {},
   "outputs": [
    {
     "data": {
      "text/plain": [
       "7"
      ]
     },
     "execution_count": 21,
     "metadata": {},
     "output_type": "execute_result"
    }
   ],
   "source": [
    "len(special_number)"
   ]
  },
  {
   "cell_type": "markdown",
   "id": "f6c7bdf6",
   "metadata": {},
   "source": [
    "# Adjusting default value of independent variable in function."
   ]
  },
  {
   "cell_type": "code",
   "execution_count": 26,
   "id": "44fc595f",
   "metadata": {},
   "outputs": [
    {
     "name": "stdout",
     "output_type": "stream",
     "text": [
      "You should not watch the movie with the rating value of 5.5.\n",
      "You should watch the move with the rating value of 9.\n"
     ]
    }
   ],
   "source": [
    "def rating_value(rating=5.5):\n",
    "    if rating<8:\n",
    "        return (f'You should not watch the movie with the rating value of {rating}.')\n",
    "    else:\n",
    "        return (f'You should watch the move with the rating value of {rating}.')\n",
    "    \n",
    "print(rating_value())\n",
    "print(rating_value(9))"
   ]
  },
  {
   "cell_type": "code",
   "execution_count": null,
   "id": "ab9d5a36",
   "metadata": {},
   "outputs": [],
   "source": []
  }
 ],
 "metadata": {
  "kernelspec": {
   "display_name": "Python 3 (ipykernel)",
   "language": "python",
   "name": "python3"
  },
  "language_info": {
   "codemirror_mode": {
    "name": "ipython",
    "version": 3
   },
   "file_extension": ".py",
   "mimetype": "text/x-python",
   "name": "python",
   "nbconvert_exporter": "python",
   "pygments_lexer": "ipython3",
   "version": "3.9.13"
  }
 },
 "nbformat": 4,
 "nbformat_minor": 5
}
