{
 "cells": [
  {
   "cell_type": "markdown",
   "id": "e056c02c",
   "metadata": {},
   "source": [
    "# 10. Exceptional Handling in Python\n",
    "\n",
    " * An exception is an even, which occurs during the execution of program that disrupts the normal flow of the program's instructions.\n",
    " * In general, when a Python scripts encounters a situation that it can not cope with, it raise an exception.\n",
    " \n",
    "* An exception is a Python Object that represent an error.\n",
    "* When a Python script raise an exception. It must either handle the exception immediately otherwise it terminates and quits.\n",
    "* If you have some suspicious code that may raise an exception, you can defend your program by placing the suspicious code in a try:block.\n",
    "* After the try:block, include an except: statement, followed by a block of code which handles the problem as elegantlye as possible.\n",
    "\n",
    " * Comman execeptions:\n",
    " \n",
    "         * ZeroDivisionError\n",
    "         * NameError\n",
    "         * ValueError\n",
    "         * IOError\n",
    "         * EOFError\n",
    "         * Identation Error."
   ]
  },
  {
   "cell_type": "markdown",
   "id": "646a4d48",
   "metadata": {},
   "source": [
    "# ZeroDivisionErrror"
   ]
  },
  {
   "cell_type": "code",
   "execution_count": 5,
   "id": "28c7fbec",
   "metadata": {},
   "outputs": [
    {
     "name": "stdout",
     "output_type": "stream",
     "text": [
      "This code gives a ZeroDivisionError\n"
     ]
    },
    {
     "ename": "ZeroDivisionError",
     "evalue": "division by zero",
     "output_type": "error",
     "traceback": [
      "\u001b[1;31m---------------------------------------------------------------------------\u001b[0m",
      "\u001b[1;31mZeroDivisionError\u001b[0m                         Traceback (most recent call last)",
      "\u001b[1;32m~\\AppData\\Local\\Temp\\ipykernel_21520\\1309054406.py\u001b[0m in \u001b[0;36m<module>\u001b[1;34m\u001b[0m\n\u001b[0;32m      8\u001b[0m \u001b[1;33m\u001b[0m\u001b[0m\n\u001b[0;32m      9\u001b[0m \u001b[1;33m\u001b[0m\u001b[0m\n\u001b[1;32m---> 10\u001b[1;33m \u001b[0mprint\u001b[0m\u001b[1;33m(\u001b[0m\u001b[1;36m1\u001b[0m\u001b[1;33m/\u001b[0m\u001b[1;36m0\u001b[0m\u001b[1;33m)\u001b[0m\u001b[1;33m\u001b[0m\u001b[1;33m\u001b[0m\u001b[0m\n\u001b[0m\u001b[0;32m     11\u001b[0m \u001b[1;33m\u001b[0m\u001b[0m\n",
      "\u001b[1;31mZeroDivisionError\u001b[0m: division by zero"
     ]
    }
   ],
   "source": [
    "# If a number is divided by 0. It gives a ZeroDivisionError.\n",
    "\n",
    "try:\n",
    "    1/0\n",
    "except ZeroDivisionError:\n",
    "    \n",
    "    print('This code gives a ZeroDivisionError')\n",
    "    \n",
    "    \n",
    "print(1/0)\n",
    "    "
   ]
  },
  {
   "cell_type": "code",
   "execution_count": 9,
   "id": "e0c26fff",
   "metadata": {},
   "outputs": [
    {
     "name": "stdout",
     "output_type": "stream",
     "text": [
      "This code gives a ZeroDivisionError\n"
     ]
    },
    {
     "ename": "ZeroDivisionError",
     "evalue": "division by zero",
     "output_type": "error",
     "traceback": [
      "\u001b[1;31m---------------------------------------------------------------------------\u001b[0m",
      "\u001b[1;31mZeroDivisionError\u001b[0m                         Traceback (most recent call last)",
      "\u001b[1;32m~\\AppData\\Local\\Temp\\ipykernel_21520\\2157592276.py\u001b[0m in \u001b[0;36m<module>\u001b[1;34m\u001b[0m\n\u001b[0;32m     10\u001b[0m \u001b[1;33m\u001b[0m\u001b[0m\n\u001b[0;32m     11\u001b[0m \u001b[1;33m\u001b[0m\u001b[0m\n\u001b[1;32m---> 12\u001b[1;33m \u001b[0mprint\u001b[0m\u001b[1;33m(\u001b[0m\u001b[0mcount\u001b[0m\u001b[1;33m/\u001b[0m\u001b[0mlen\u001b[0m\u001b[1;33m(\u001b[0m\u001b[0mnlis\u001b[0m\u001b[1;33m)\u001b[0m\u001b[1;33m)\u001b[0m\u001b[1;33m\u001b[0m\u001b[1;33m\u001b[0m\u001b[0m\n\u001b[0m",
      "\u001b[1;31mZeroDivisionError\u001b[0m: division by zero"
     ]
    }
   ],
   "source": [
    "nlis=[]\n",
    "count=1\n",
    "\n",
    "try:\n",
    "    mean=count/len(nlis)\n",
    "    print('The mean value is:',mean)\n",
    "    \n",
    "except ZeroDivisionError:\n",
    "    print('This code gives a ZeroDivisionError')\n",
    "    \n",
    "    \n",
    "print(count/len(nlis))"
   ]
  },
  {
   "cell_type": "code",
   "execution_count": 10,
   "id": "c81737e9",
   "metadata": {},
   "outputs": [
    {
     "ename": "NameError",
     "evalue": "name 'ZeorDivisionError' is not defined",
     "output_type": "error",
     "traceback": [
      "\u001b[1;31m---------------------------------------------------------------------------\u001b[0m",
      "\u001b[1;31mZeroDivisionError\u001b[0m                         Traceback (most recent call last)",
      "\u001b[1;32m~\\AppData\\Local\\Temp\\ipykernel_21520\\3184419781.py\u001b[0m in \u001b[0;36m<module>\u001b[1;34m\u001b[0m\n\u001b[0;32m      4\u001b[0m \u001b[1;32mtry\u001b[0m\u001b[1;33m:\u001b[0m\u001b[1;33m\u001b[0m\u001b[1;33m\u001b[0m\u001b[0m\n\u001b[1;32m----> 5\u001b[1;33m     \u001b[1;32mTrue\u001b[0m\u001b[1;33m/\u001b[0m\u001b[1;32mFalse\u001b[0m\u001b[1;33m\u001b[0m\u001b[1;33m\u001b[0m\u001b[0m\n\u001b[0m\u001b[0;32m      6\u001b[0m \u001b[1;32mexcept\u001b[0m \u001b[0mZeorDivisionError\u001b[0m\u001b[1;33m:\u001b[0m\u001b[1;33m\u001b[0m\u001b[1;33m\u001b[0m\u001b[0m\n",
      "\u001b[1;31mZeroDivisionError\u001b[0m: division by zero",
      "\nDuring handling of the above exception, another exception occurred:\n",
      "\u001b[1;31mNameError\u001b[0m                                 Traceback (most recent call last)",
      "\u001b[1;32m~\\AppData\\Local\\Temp\\ipykernel_21520\\3184419781.py\u001b[0m in \u001b[0;36m<module>\u001b[1;34m\u001b[0m\n\u001b[0;32m      4\u001b[0m \u001b[1;32mtry\u001b[0m\u001b[1;33m:\u001b[0m\u001b[1;33m\u001b[0m\u001b[1;33m\u001b[0m\u001b[0m\n\u001b[0;32m      5\u001b[0m     \u001b[1;32mTrue\u001b[0m\u001b[1;33m/\u001b[0m\u001b[1;32mFalse\u001b[0m\u001b[1;33m\u001b[0m\u001b[1;33m\u001b[0m\u001b[0m\n\u001b[1;32m----> 6\u001b[1;33m \u001b[1;32mexcept\u001b[0m \u001b[0mZeorDivisionError\u001b[0m\u001b[1;33m:\u001b[0m\u001b[1;33m\u001b[0m\u001b[1;33m\u001b[0m\u001b[0m\n\u001b[0m\u001b[0;32m      7\u001b[0m     \u001b[0mprint\u001b[0m\u001b[1;33m(\u001b[0m\u001b[1;34m'The code gives a ZeroDivisionError'\u001b[0m\u001b[1;33m)\u001b[0m\u001b[1;33m\u001b[0m\u001b[1;33m\u001b[0m\u001b[0m\n\u001b[0;32m      8\u001b[0m \u001b[1;33m\u001b[0m\u001b[0m\n",
      "\u001b[1;31mNameError\u001b[0m: name 'ZeorDivisionError' is not defined"
     ]
    }
   ],
   "source": [
    "# The following code is like 1/0\n",
    "\n",
    "\n",
    "try:\n",
    "    True/False\n",
    "except ZeorDivisionError:\n",
    "    print('The code gives a ZeroDivisionError')\n",
    "    \n",
    "print(True/False)"
   ]
  },
  {
   "cell_type": "markdown",
   "id": "42d0c60d",
   "metadata": {},
   "source": [
    "# NameError"
   ]
  },
  {
   "cell_type": "code",
   "execution_count": 11,
   "id": "916ac5bd",
   "metadata": {},
   "outputs": [
    {
     "name": "stdout",
     "output_type": "stream",
     "text": [
      "This code gives a ZeroDivisionError\n"
     ]
    },
    {
     "ename": "NameError",
     "evalue": "name 'mean' is not defined",
     "output_type": "error",
     "traceback": [
      "\u001b[1;31m---------------------------------------------------------------------------\u001b[0m",
      "\u001b[1;31mNameError\u001b[0m                                 Traceback (most recent call last)",
      "\u001b[1;32m~\\AppData\\Local\\Temp\\ipykernel_21520\\3631159895.py\u001b[0m in \u001b[0;36m<module>\u001b[1;34m\u001b[0m\n\u001b[0;32m     10\u001b[0m \u001b[1;33m\u001b[0m\u001b[0m\n\u001b[0;32m     11\u001b[0m \u001b[1;33m\u001b[0m\u001b[0m\n\u001b[1;32m---> 12\u001b[1;33m \u001b[0mprint\u001b[0m\u001b[1;33m(\u001b[0m\u001b[0mmean\u001b[0m\u001b[1;33m)\u001b[0m\u001b[1;33m\u001b[0m\u001b[1;33m\u001b[0m\u001b[0m\n\u001b[0m",
      "\u001b[1;31mNameError\u001b[0m: name 'mean' is not defined"
     ]
    }
   ],
   "source": [
    "nlis=[]\n",
    "count=1\n",
    "\n",
    "try:\n",
    "    mean=count/len(nlis)\n",
    "    print('The mean value is:',mean)\n",
    "    \n",
    "except ZeroDivisionError:\n",
    "    print('This code gives a ZeroDivisionError')\n",
    "    \n",
    "    \n",
    "print(mean)"
   ]
  },
  {
   "cell_type": "code",
   "execution_count": 14,
   "id": "dfa553dc",
   "metadata": {},
   "outputs": [
    {
     "name": "stdout",
     "output_type": "stream",
     "text": [
      "The code gives a NameError\n"
     ]
    },
    {
     "ename": "NameError",
     "evalue": "name 'y' is not defined",
     "output_type": "error",
     "traceback": [
      "\u001b[1;31m---------------------------------------------------------------------------\u001b[0m",
      "\u001b[1;31mNameError\u001b[0m                                 Traceback (most recent call last)",
      "\u001b[1;32m~\\AppData\\Local\\Temp\\ipykernel_21520\\3544095975.py\u001b[0m in \u001b[0;36m<module>\u001b[1;34m\u001b[0m\n\u001b[0;32m      4\u001b[0m     \u001b[0mprint\u001b[0m\u001b[1;33m(\u001b[0m\u001b[1;34m'The code gives a NameError'\u001b[0m\u001b[1;33m)\u001b[0m\u001b[1;33m\u001b[0m\u001b[1;33m\u001b[0m\u001b[0m\n\u001b[0;32m      5\u001b[0m \u001b[1;33m\u001b[0m\u001b[0m\n\u001b[1;32m----> 6\u001b[1;33m \u001b[0mprint\u001b[0m\u001b[1;33m(\u001b[0m\u001b[0my\u001b[0m\u001b[1;33m)\u001b[0m\u001b[1;33m\u001b[0m\u001b[1;33m\u001b[0m\u001b[0m\n\u001b[0m",
      "\u001b[1;31mNameError\u001b[0m: name 'y' is not defined"
     ]
    }
   ],
   "source": [
    "try:\n",
    "    y=x+5\n",
    "except NameError:\n",
    "    print('The code gives a NameError')\n",
    "    \n",
    "print(y)"
   ]
  },
  {
   "cell_type": "code",
   "execution_count": 17,
   "id": "1cdf5030",
   "metadata": {},
   "outputs": [
    {
     "name": "stdout",
     "output_type": "stream",
     "text": [
      "This function gives a NameError\n"
     ]
    },
    {
     "ename": "NameError",
     "evalue": "name 'add' is not defined",
     "output_type": "error",
     "traceback": [
      "\u001b[1;31m---------------------------------------------------------------------------\u001b[0m",
      "\u001b[1;31mNameError\u001b[0m                                 Traceback (most recent call last)",
      "\u001b[1;32m~\\AppData\\Local\\Temp\\ipykernel_21520\\3234017082.py\u001b[0m in \u001b[0;36m<module>\u001b[1;34m\u001b[0m\n\u001b[0;32m      7\u001b[0m \u001b[1;33m\u001b[0m\u001b[0m\n\u001b[0;32m      8\u001b[0m \u001b[0mprint\u001b[0m\u001b[1;33m(\u001b[0m\u001b[1;34m'This function gives a NameError'\u001b[0m\u001b[1;33m)\u001b[0m\u001b[1;33m\u001b[0m\u001b[1;33m\u001b[0m\u001b[0m\n\u001b[1;32m----> 9\u001b[1;33m \u001b[0mtotal\u001b[0m\u001b[1;33m=\u001b[0m\u001b[0madd\u001b[0m\u001b[1;33m(\u001b[0m\u001b[1;36m3.14\u001b[0m\u001b[1;33m,\u001b[0m\u001b[1;36m123\u001b[0m\u001b[1;33m)\u001b[0m\u001b[1;33m\u001b[0m\u001b[1;33m\u001b[0m\u001b[0m\n\u001b[0m\u001b[0;32m     10\u001b[0m \u001b[0mprint\u001b[0m\u001b[1;33m(\u001b[0m\u001b[0mtotal\u001b[0m\u001b[1;33m)\u001b[0m\u001b[1;33m\u001b[0m\u001b[1;33m\u001b[0m\u001b[0m\n",
      "\u001b[1;31mNameError\u001b[0m: name 'add' is not defined"
     ]
    }
   ],
   "source": [
    "# Define a function giving a NameError\n",
    "\n",
    "\n",
    "def addition (x,y):\n",
    "    z=x+y\n",
    "    return z\n",
    "\n",
    "print('This function gives a NameError')\n",
    "total=add(3.14,123)\n",
    "print(total)"
   ]
  },
  {
   "cell_type": "code",
   "execution_count": 22,
   "id": "ed124047",
   "metadata": {},
   "outputs": [
    {
     "name": "stdout",
     "output_type": "stream",
     "text": [
      "This code gives a NameError\n"
     ]
    },
    {
     "ename": "NameError",
     "evalue": "name 'Jaishri' is not defined",
     "output_type": "error",
     "traceback": [
      "\u001b[1;31m---------------------------------------------------------------------------\u001b[0m",
      "\u001b[1;31mNameError\u001b[0m                                 Traceback (most recent call last)",
      "\u001b[1;32m~\\AppData\\Local\\Temp\\ipykernel_21520\\3373060853.py\u001b[0m in \u001b[0;36m<module>\u001b[1;34m\u001b[0m\n\u001b[0;32m      6\u001b[0m     \u001b[0mprint\u001b[0m\u001b[1;33m(\u001b[0m\u001b[1;34m'This code gives a NameError'\u001b[0m\u001b[1;33m)\u001b[0m\u001b[1;33m\u001b[0m\u001b[1;33m\u001b[0m\u001b[0m\n\u001b[0;32m      7\u001b[0m \u001b[1;33m\u001b[0m\u001b[0m\n\u001b[1;32m----> 8\u001b[1;33m \u001b[0mname\u001b[0m\u001b[1;33m=\u001b[0m\u001b[1;33m(\u001b[0m\u001b[0mJaishri\u001b[0m\u001b[1;33m)\u001b[0m\u001b[1;33m\u001b[0m\u001b[1;33m\u001b[0m\u001b[0m\n\u001b[0m\u001b[0;32m      9\u001b[0m \u001b[0mprint\u001b[0m\u001b[1;33m(\u001b[0m\u001b[0mname\u001b[0m\u001b[1;33m,\u001b[0m\u001b[1;34m'today is wedding day.'\u001b[0m\u001b[1;33m)\u001b[0m\u001b[1;33m\u001b[0m\u001b[1;33m\u001b[0m\u001b[0m\n",
      "\u001b[1;31mNameError\u001b[0m: name 'Jaishri' is not defined"
     ]
    }
   ],
   "source": [
    "try:\n",
    "    name=(Jayshree)\n",
    "    print(name,'today is your wedding day.')\n",
    "    \n",
    "except NameError:\n",
    "    print('This code gives a NameError')\n",
    "    \n",
    "name=(Jaishri)\n",
    "print(name,'today is wedding day.')"
   ]
  },
  {
   "cell_type": "markdown",
   "id": "d761d8cb",
   "metadata": {},
   "source": [
    "# IndexError"
   ]
  },
  {
   "cell_type": "code",
   "execution_count": 24,
   "id": "ae38ded7",
   "metadata": {},
   "outputs": [
    {
     "name": "stdout",
     "output_type": "stream",
     "text": [
      "This code gives us a IndexError\n"
     ]
    },
    {
     "ename": "IndexError",
     "evalue": "list index out of range",
     "output_type": "error",
     "traceback": [
      "\u001b[1;31m---------------------------------------------------------------------------\u001b[0m",
      "\u001b[1;31mIndexError\u001b[0m                                Traceback (most recent call last)",
      "\u001b[1;32m~\\AppData\\Local\\Temp\\ipykernel_21520\\616905681.py\u001b[0m in \u001b[0;36m<module>\u001b[1;34m\u001b[0m\n\u001b[0;32m      7\u001b[0m \u001b[1;33m\u001b[0m\u001b[0m\n\u001b[0;32m      8\u001b[0m \u001b[1;33m\u001b[0m\u001b[0m\n\u001b[1;32m----> 9\u001b[1;33m \u001b[0mprint\u001b[0m\u001b[1;33m(\u001b[0m\u001b[0mx\u001b[0m\u001b[1;33m[\u001b[0m\u001b[1;36m20\u001b[0m\u001b[1;33m]\u001b[0m\u001b[1;33m)\u001b[0m\u001b[1;33m\u001b[0m\u001b[1;33m\u001b[0m\u001b[0m\n\u001b[0m",
      "\u001b[1;31mIndexError\u001b[0m: list index out of range"
     ]
    }
   ],
   "source": [
    "x=[1,2,3,4,5,6,8,9]\n",
    "try:\n",
    "    x[20]\n",
    "    \n",
    "except IndexError:\n",
    "    print('This code gives us a IndexError')\n",
    "    \n",
    "    \n",
    "print(x[20])"
   ]
  },
  {
   "cell_type": "markdown",
   "id": "f8f2f02d",
   "metadata": {},
   "source": [
    "# KeyError"
   ]
  },
  {
   "cell_type": "code",
   "execution_count": 29,
   "id": "01f9cd21",
   "metadata": {},
   "outputs": [
    {
     "name": "stdout",
     "output_type": "stream",
     "text": [
      "This code gives a KeyError\n"
     ]
    },
    {
     "ename": "KeyError",
     "evalue": "'gender'",
     "output_type": "error",
     "traceback": [
      "\u001b[1;31m---------------------------------------------------------------------------\u001b[0m",
      "\u001b[1;31mKeyError\u001b[0m                                  Traceback (most recent call last)",
      "\u001b[1;32m~\\AppData\\Local\\Temp\\ipykernel_21520\\4213913592.py\u001b[0m in \u001b[0;36m<module>\u001b[1;34m\u001b[0m\n\u001b[0;32m      7\u001b[0m     \u001b[0mprint\u001b[0m\u001b[1;33m(\u001b[0m\u001b[1;34m'This code gives a KeyError'\u001b[0m\u001b[1;33m)\u001b[0m\u001b[1;33m\u001b[0m\u001b[1;33m\u001b[0m\u001b[0m\n\u001b[0;32m      8\u001b[0m \u001b[1;33m\u001b[0m\u001b[0m\n\u001b[1;32m----> 9\u001b[1;33m \u001b[0mdictionary\u001b[0m\u001b[1;33m=\u001b[0m\u001b[0mdictionary\u001b[0m\u001b[1;33m[\u001b[0m\u001b[1;34m'gender'\u001b[0m\u001b[1;33m]\u001b[0m\u001b[1;33m\u001b[0m\u001b[1;33m\u001b[0m\u001b[0m\n\u001b[0m\u001b[0;32m     10\u001b[0m \u001b[0mprint\u001b[0m\u001b[1;33m(\u001b[0m\u001b[0mdictonary\u001b[0m\u001b[1;33m)\u001b[0m\u001b[1;33m\u001b[0m\u001b[1;33m\u001b[0m\u001b[0m\n",
      "\u001b[1;31mKeyError\u001b[0m: 'gender'"
     ]
    }
   ],
   "source": [
    "dictionary={'name':'jayshri','age':45,'Weight':80}\n",
    "\n",
    "try:\n",
    "    dictionary=dictionary['gender']\n",
    "    \n",
    "except KeyError:\n",
    "    print('This code gives a KeyError')\n",
    "    \n",
    "dictionary=dictionary['gender']  \n",
    "print(dictonary)"
   ]
  },
  {
   "cell_type": "code",
   "execution_count": 30,
   "id": "7eccbec9",
   "metadata": {},
   "outputs": [
    {
     "name": "stdout",
     "output_type": "stream",
     "text": [
      "This code gives a nameerror\n"
     ]
    },
    {
     "ename": "NameError",
     "evalue": "name 'jaishree' is not defined",
     "output_type": "error",
     "traceback": [
      "\u001b[1;31m---------------------------------------------------------------------------\u001b[0m",
      "\u001b[1;31mNameError\u001b[0m                                 Traceback (most recent call last)",
      "\u001b[1;32m~\\AppData\\Local\\Temp\\ipykernel_21520\\2231081660.py\u001b[0m in \u001b[0;36m<module>\u001b[1;34m\u001b[0m\n\u001b[0;32m      4\u001b[0m \u001b[1;32mexcept\u001b[0m \u001b[0mNameError\u001b[0m\u001b[1;33m:\u001b[0m\u001b[1;33m\u001b[0m\u001b[1;33m\u001b[0m\u001b[0m\n\u001b[0;32m      5\u001b[0m     \u001b[0mprint\u001b[0m\u001b[1;33m(\u001b[0m\u001b[1;34m'This code gives a nameerror'\u001b[0m\u001b[1;33m)\u001b[0m\u001b[1;33m\u001b[0m\u001b[1;33m\u001b[0m\u001b[0m\n\u001b[1;32m----> 6\u001b[1;33m \u001b[0mprint\u001b[0m\u001b[1;33m(\u001b[0m\u001b[0mjaishree\u001b[0m\u001b[1;33m)\u001b[0m\u001b[1;33m\u001b[0m\u001b[1;33m\u001b[0m\u001b[0m\n\u001b[0m",
      "\u001b[1;31mNameError\u001b[0m: name 'jaishree' is not defined"
     ]
    }
   ],
   "source": [
    "# Write a program to print NameError.\n",
    "try:\n",
    "    name=(devyani)\n",
    "except NameError:\n",
    "    print('This code gives a nameerror')\n",
    "print(jaishree)"
   ]
  },
  {
   "cell_type": "code",
   "execution_count": 31,
   "id": "b6526cf0",
   "metadata": {},
   "outputs": [
    {
     "name": "stdout",
     "output_type": "stream",
     "text": [
      "The reusult is: 4.0\n",
      "4.0\n"
     ]
    }
   ],
   "source": [
    "# Write a program to divide two value with try and except.\n",
    "\n",
    "try:\n",
    "    x=100/25\n",
    "    print('The reusult is:',x)\n",
    "except ZeroDivisionError:\n",
    "    print('The code gives a ZeroDivisionError')\n",
    "print(x)"
   ]
  },
  {
   "cell_type": "code",
   "execution_count": 32,
   "id": "f4696c6f",
   "metadata": {},
   "outputs": [
    {
     "name": "stdout",
     "output_type": "stream",
     "text": [
      "Enter a number: 12\n",
      "The Entered value is:  12\n",
      "Enter second number: 3\n",
      "The Entered value is: 3\n",
      "The is running value: 4.0\n"
     ]
    }
   ],
   "source": [
    "num1=int(input('Enter a number: '))\n",
    "print('The Entered value is: ',num1)\n",
    "try:\n",
    "    num2=int(input('Enter second number: '))\n",
    "    print('The Entered value is:',num2)\n",
    "    value=num1/num2\n",
    "    print('The is running value:', value)\n",
    "    \n",
    "except:\n",
    "    print ('This is not running value')"
   ]
  },
  {
   "cell_type": "code",
   "execution_count": 33,
   "id": "d77d34a3",
   "metadata": {},
   "outputs": [
    {
     "name": "stdout",
     "output_type": "stream",
     "text": [
      "Enter the number12\n",
      "The entered value is: 12\n",
      "The reusult is: 0.48\n",
      "0.48\n"
     ]
    }
   ],
   "source": [
    "num=int(input('Enter the number'))\n",
    "print('The entered value is:',num)\n",
    "\n",
    "try:\n",
    "\n",
    "    x=num/25\n",
    "    print('The reusult is:',x)\n",
    "except ZeroDivisionError:\n",
    "    print('The code gives a ZeroDivisionError')\n",
    "print(x)"
   ]
  },
  {
   "cell_type": "markdown",
   "id": "744264ea",
   "metadata": {},
   "source": [
    "# try/except/else"
   ]
  },
  {
   "cell_type": "code",
   "execution_count": 41,
   "id": "963bd720",
   "metadata": {},
   "outputs": [
    {
     "name": "stdout",
     "output_type": "stream",
     "text": [
      "Enter a number: 45\n",
      "The Entered value is:  45\n",
      "Enter second number: 3\n",
      "The Entered value is: 3\n",
      "This process is running with the value: 15.0\n"
     ]
    }
   ],
   "source": [
    "num1=int(input('Enter a number: '))\n",
    "print('The Entered value is: ',num1)\n",
    "try:\n",
    "    num2=int(input('Enter second number: '))\n",
    "    print('The Entered value is:',num2)\n",
    "    value=num1/num2\n",
    "    #print('The is running value:', value)\n",
    "    \n",
    "\n",
    "except ZeroDivisonError:\n",
    "    print('This code gives ZeroDivsionError')\n",
    "    \n",
    "except ValueError:\n",
    "    print('You should provide a number')\n",
    "except:\n",
    "    print('Something Went Wrong')\n",
    "else:\n",
    "    print('This process is running with the value:',value)"
   ]
  },
  {
   "cell_type": "code",
   "execution_count": null,
   "id": "638213e4",
   "metadata": {},
   "outputs": [],
   "source": []
  }
 ],
 "metadata": {
  "kernelspec": {
   "display_name": "Python 3 (ipykernel)",
   "language": "python",
   "name": "python3"
  },
  "language_info": {
   "codemirror_mode": {
    "name": "ipython",
    "version": 3
   },
   "file_extension": ".py",
   "mimetype": "text/x-python",
   "name": "python",
   "nbconvert_exporter": "python",
   "pygments_lexer": "ipython3",
   "version": "3.9.13"
  }
 },
 "nbformat": 4,
 "nbformat_minor": 5
}
