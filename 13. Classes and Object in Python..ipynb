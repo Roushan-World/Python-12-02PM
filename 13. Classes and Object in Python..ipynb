{
 "cells": [
  {
   "cell_type": "markdown",
   "id": "8a58ab49",
   "metadata": {},
   "source": [
    "# 13. Classes and Object in Python.\n",
    "\n",
    "\n",
    " * Python is an object oriented programming language.\n",
    " * Unlike procedure-oriented programming, where the main emphasis is  on function, object-oriented programming stresses on objects.\n",
    " * An object is simply a collection of data (variable) and methods (functions) that act on those data.\n",
    " * Similarly, a class is a blueprint for that object.\n",
    " * Like function definitions begin with the def keyword in Python, class definition begin with a class keyword.\n",
    " * The first string inside the class is called docstring and has a brief description of the class.\n",
    " * Although not mandatory; this is highly recommended."
   ]
  },
  {
   "cell_type": "markdown",
   "id": "a14b28d3",
   "metadata": {},
   "source": [
    "# sample of class and object\n",
    "\n",
    "class Student:\n",
    "      school_name= 'ABC school'  ---------------->class variable.\n",
    "      \n",
    "      def __init__ (self,name,age): ------------------> Constructor.\n",
    "      \n",
    "                self.name=name\n",
    "                \n",
    "                self.age=age\n",
    "                \n",
    "                \n",
    "@staticmethod\n",
    "\n",
    "def change_school(cls,name):     #cls=class\n",
    "\n",
    "       print(student.school_name) -----------------> Access the class variable.\n",
    "       \n",
    "       school_name=name -----------------------> Modify the class\n",
    "       \n",
    "x = Student('Anjali',20)\n",
    "\n",
    "Student.school_name('XYZ School')----------------------> call class Method.\n",
    "\n",
    "\n"
   ]
  },
  {
   "cell_type": "code",
   "execution_count": 1,
   "id": "fc0d46a1",
   "metadata": {},
   "outputs": [
    {
     "name": "stdout",
     "output_type": "stream",
     "text": [
      "3.14\n"
     ]
    }
   ],
   "source": [
    "class Data:\n",
    "    \n",
    "    num=3.14\n",
    "    \n",
    "    \n",
    "x = Data()\n",
    "\n",
    "print(x.num)"
   ]
  },
  {
   "cell_type": "code",
   "execution_count": 2,
   "id": "2ff3a50e",
   "metadata": {},
   "outputs": [
    {
     "name": "stdout",
     "output_type": "stream",
     "text": [
      "25\n"
     ]
    }
   ],
   "source": [
    "class jaishri:\n",
    "    age=25\n",
    "    \n",
    "y=jaishri()\n",
    "print(y.age)"
   ]
  },
  {
   "cell_type": "code",
   "execution_count": 14,
   "id": "8b22ada2",
   "metadata": {},
   "outputs": [
    {
     "name": "stdout",
     "output_type": "stream",
     "text": [
      "Jaishri\n",
      "30\n",
      "123456789\n",
      "Female\n",
      "Maharastra\n"
     ]
    }
   ],
   "source": [
    "class person:\n",
    "    def __init__(self,name,age,contact,gender,state):\n",
    "        self.name = name\n",
    "        self.age = age\n",
    "        self.contact = contact\n",
    "        self.gender=gender\n",
    "        self.state=state\n",
    "        \n",
    "x = person('Jaishri',30,123456789,'Female','Maharastra')\n",
    "\n",
    "print(x.name)\n",
    "print(x.age)\n",
    "print(x.contact)\n",
    "print(x.gender)\n",
    "print(x.state)"
   ]
  },
  {
   "cell_type": "markdown",
   "id": "255d6d45",
   "metadata": {},
   "source": [
    "# Self Parameter\n",
    "\n",
    "\n",
    " * The self parameter is reference to the current instance of the class, and is used to access variables that belongs to the class.\n",
    " * It does not have to named self, you call it whatever you like, but it has to be the first parameter  of any function in the class.\n",
    " "
   ]
  },
  {
   "cell_type": "code",
   "execution_count": 15,
   "id": "72a0c3b7",
   "metadata": {},
   "outputs": [
    {
     "name": "stdout",
     "output_type": "stream",
     "text": [
      "Jaishri\n",
      "30\n",
      "123456789\n",
      "Female\n",
      "Maharastra\n"
     ]
    }
   ],
   "source": [
    "class person:\n",
    "    def __init__(first_parameter,name,age,contact,gender,state):\n",
    "        first_parameter.name = name\n",
    "        first_parameter.age = age\n",
    "        first_parameter.contact = contact\n",
    "        first_parameter.gender=gender\n",
    "        first_parameter.state=state\n",
    "        \n",
    "x = person('Jaishri',30,123456789,'Female','Maharastra')\n",
    "\n",
    "print(x.name)\n",
    "print(x.age)\n",
    "print(x.contact)\n",
    "print(x.gender)\n",
    "print(x.state)\n",
    "    "
   ]
  },
  {
   "cell_type": "markdown",
   "id": "f97dbfd8",
   "metadata": {},
   "source": [
    "# Create a Class to draw Rectangle."
   ]
  },
  {
   "cell_type": "code",
   "execution_count": 16,
   "id": "551d3039",
   "metadata": {},
   "outputs": [
    {
     "name": "stdout",
     "output_type": "stream",
     "text": [
      "20\n",
      "10\n",
      "blue\n"
     ]
    },
    {
     "data": {
      "image/png": "[encoded data removed]",
      "text/plain": [
       "<Figure size 640x480 with 1 Axes>"
      ]
     },
     "metadata": {},
     "output_type": "display_data"
    }
   ],
   "source": [
    "import matplotlib.pyplot as plt\n",
    "%matplotlib inline\n",
    "class Rectangle(object):\n",
    "    \n",
    "    # constructor\n",
    "    \n",
    "    def __init__(self,width, height, color):\n",
    "        self.width=width\n",
    "        self.height=height\n",
    "        self.color=color\n",
    "        \n",
    "    # Method\n",
    "    \n",
    "    def drawRectangle(self):\n",
    "        plt.gca().add_patch(plt.Rectangle((0,0),self.width,self.height,fc=self.color))\n",
    "        plt.axis('scaled')\n",
    "        plt.show()\n",
    "        \n",
    "# Creating an object with blue print.\n",
    "one_Rectangle=Rectangle(20,10,'blue')\n",
    "print(one_Rectangle.width)\n",
    "print(one_Rectangle.height)\n",
    "print(one_Rectangle.color)\n",
    "one_Rectangle.drawRectangle()"
   ]
  },
  {
   "cell_type": "code",
   "execution_count": 18,
   "id": "40d1b4d7",
   "metadata": {},
   "outputs": [
    {
     "data": {
      "image/png": "[encoded data removed]",
      "text/plain": [
       "<Figure size 640x480 with 1 Axes>"
      ]
     },
     "metadata": {},
     "output_type": "display_data"
    },
    {
     "name": "stdout",
     "output_type": "stream",
     "text": [
      "None\n"
     ]
    }
   ],
   "source": [
    "Two_Rectangle=Rectangle(10,10,'re')\n",
    "print(Two_Rectangle.drawRectangle())"
   ]
  },
  {
   "cell_type": "code",
   "execution_count": 19,
   "id": "8fa544a7",
   "metadata": {},
   "outputs": [
    {
     "data": {
      "image/png": "[encoded data removed]",
      "text/plain": [
       "<Figure size 640x480 with 1 Axes>"
      ]
     },
     "metadata": {},
     "output_type": "display_data"
    },
    {
     "name": "stdout",
     "output_type": "stream",
     "text": [
      "None\n"
     ]
    }
   ],
   "source": [
    "Two_Rectangle=Rectangle(10,5,'yellow')\n",
    "print(Two_Rectangle.drawRectangle())"
   ]
  },
  {
   "cell_type": "code",
   "execution_count": null,
   "id": "85bf7c4a",
   "metadata": {},
   "outputs": [],
   "source": []
  }
 ],
 "metadata": {
  "kernelspec": {
   "display_name": "Python 3 (ipykernel)",
   "language": "python",
   "name": "python3"
  },
  "language_info": {
   "codemirror_mode": {
    "name": "ipython",
    "version": 3
   },
   "file_extension": ".py",
   "mimetype": "text/x-python",
   "name": "python",
   "nbconvert_exporter": "python",
   "pygments_lexer": "ipython3",
   "version": "3.9.13"
  }
 },
 "nbformat": 4,
 "nbformat_minor": 5
}
