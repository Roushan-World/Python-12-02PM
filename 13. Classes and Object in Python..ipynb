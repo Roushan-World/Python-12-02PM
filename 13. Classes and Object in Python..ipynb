{
 "cells": [
  {
   "cell_type": "markdown",
   "id": "8a58ab49",
   "metadata": {},
   "source": [
    "# 13. Classes and Object in Python.\n",
    "\n",
    "\n",
    " * Python is an object oriented programming language.\n",
    " * Unlike procedure-oriented programming, where the main emphasis is  on function, object-oriented programming stresses on objects.\n",
    " * An object is simply a collection of data (variable) and methods (functions) that act on those data.\n",
    " * Similarly, a class is a blueprint for that object.\n",
    " * Like function definitions begin with the def keyword in Python, class definition begin with a class keyword.\n",
    " * The first string inside the class is called docstring and has a brief description of the class.\n",
    " * Although not mandatory; this is highly recommended."
   ]
  },
  {
   "cell_type": "markdown",
   "id": "a14b28d3",
   "metadata": {},
   "source": [
    "# sample of class and object\n",
    "\n",
    "class Student:\n",
    "      school_name= 'ABC school'  ---------------->class variable.\n",
    "      \n",
    "      def __init__ (self,name,age): ------------------> Constructor.\n",
    "      \n",
    "                self.name=name\n",
    "                \n",
    "                self.age=age\n",
    "                \n",
    "                \n",
    "@staticmethod\n",
    "\n",
    "def change_school(cls,name):     #cls=class\n",
    "\n",
    "       print(student.school_name) -----------------> Access the class variable.\n",
    "       \n",
    "       school_name=name -----------------------> Modify the class\n",
    "       \n",
    "x = Student('Anjali',20)\n",
    "\n",
    "Student.school_name('XYZ School')----------------------> call class Method.\n",
    "\n",
    "\n"
   ]
  },
  {
   "cell_type": "code",
   "execution_count": 1,
   "id": "fc0d46a1",
   "metadata": {},
   "outputs": [
    {
     "name": "stdout",
     "output_type": "stream",
     "text": [
      "3.14\n"
     ]
    }
   ],
   "source": [
    "class Data:\n",
    "    \n",
    "    num=3.14\n",
    "    \n",
    "    \n",
    "x = Data()\n",
    "\n",
    "print(x.num)"
   ]
  },
  {
   "cell_type": "code",
   "execution_count": 2,
   "id": "2ff3a50e",
   "metadata": {},
   "outputs": [
    {
     "name": "stdout",
     "output_type": "stream",
     "text": [
      "25\n"
     ]
    }
   ],
   "source": [
    "class jaishri:\n",
    "    age=25\n",
    "    \n",
    "y=jaishri()\n",
    "print(y.age)"
   ]
  },
  {
   "cell_type": "code",
   "execution_count": 8,
   "id": "8b22ada2",
   "metadata": {},
   "outputs": [
    {
     "name": "stdout",
     "output_type": "stream",
     "text": [
      "Jaishri\n",
      "30\n",
      "123456789\n",
      "Female\n",
      "Maharastra\n"
     ]
    }
   ],
   "source": [
    "class person:\n",
    "    def __init__(self,name,age,contact,gender,state):\n",
    "        self.name = name\n",
    "        self.age = age\n",
    "        self.contact = contact\n",
    "        self.gender=gender\n",
    "        self.state=state\n",
    "        \n",
    "x = person('Jaishri',30,123456789,'Female','Maharastra')\n",
    "\n",
    "print(x.name)\n",
    "print(x.age)\n",
    "print(x.contact)\n",
    "print(x.gender)\n",
    "print(x.state)"
   ]
  },
  {
   "cell_type": "code",
   "execution_count": null,
   "id": "30e462bf",
   "metadata": {},
   "outputs": [],
   "source": []
  }
 ],
 "metadata": {
  "kernelspec": {
   "display_name": "Python 3 (ipykernel)",
   "language": "python",
   "name": "python3"
  },
  "language_info": {
   "codemirror_mode": {
    "name": "ipython",
    "version": 3
   },
   "file_extension": ".py",
   "mimetype": "text/x-python",
   "name": "python",
   "nbconvert_exporter": "python",
   "pygments_lexer": "ipython3",
   "version": "3.9.13"
  }
 },
 "nbformat": 4,
 "nbformat_minor": 5
}
