{
 "cells": [
  {
   "cell_type": "markdown",
   "id": "e61c282c",
   "metadata": {},
   "source": [
    "# 5. Tuple in Python\n",
    "\n",
    " * Tuples are immutable lists and connot be changed in any way once it is created.\n",
    " \n",
    "     * Tuples are defined in the same way as lists.\n",
    "     * They are enclosed within parenthesis() and not within square braces[].\n",
    "     * Tuples are ordered, indexed collections of data.\n",
    "     * Similar to string indices, the first value in the tuple will have the index[0] the second value\n",
    "     is [1].\n",
    "     * Negative indices are counted from the end of the tuple, just like list.\n",
    "     * Tuple also has the same structure where commas seperated the values.\n",
    "     * Tuples can store duplicate values.\n",
    "     * Tuples allow you to store several data items including string, integer, float in one variable."
   ]
  },
  {
   "cell_type": "code",
   "execution_count": 1,
   "id": "6aad11a8",
   "metadata": {},
   "outputs": [
    {
     "name": "stdout",
     "output_type": "stream",
     "text": [
      "('Hello', 'Python', 3.14, 1.618, True, False, 32, {1, 2, 3}, [1, 2, 3], {'A': 2, 'B': 5}, (0, 1))\n"
     ]
    }
   ],
   "source": [
    "tuple_1=('Hello','Python',3.14,1.618,True, False,32,{1,2,3},[1,2,3],{'A':2,'B':5},(0,1))\n",
    "print(tuple_1)"
   ]
  },
  {
   "cell_type": "code",
   "execution_count": 2,
   "id": "96e5d29a",
   "metadata": {},
   "outputs": [
    {
     "name": "stdout",
     "output_type": "stream",
     "text": [
      "11\n"
     ]
    }
   ],
   "source": [
    "print(len(tuple_1))"
   ]
  },
  {
   "cell_type": "code",
   "execution_count": 7,
   "id": "3e8dc72a",
   "metadata": {},
   "outputs": [
    {
     "name": "stdout",
     "output_type": "stream",
     "text": [
      "Hello\n",
      "Python\n",
      "3.14\n",
      "1.618\n",
      "True\n",
      "False\n",
      "32\n",
      "{1, 2, 3}\n",
      "[1, 2, 3]\n",
      "{'A': 2, 'B': 5}\n",
      "(0, 1)\n"
     ]
    }
   ],
   "source": [
    "# Accessed by positive indexed\n",
    "print(tuple_1[0])\n",
    "print(tuple_1[1])\n",
    "print(tuple_1[2])\n",
    "print(tuple_1[3])\n",
    "print(tuple_1[4])\n",
    "print(tuple_1[5])\n",
    "print(tuple_1[6])\n",
    "print(tuple_1[7])\n",
    "print(tuple_1[8])\n",
    "print(tuple_1[9])\n",
    "print(tuple_1[10])\n"
   ]
  },
  {
   "cell_type": "code",
   "execution_count": 12,
   "id": "a7c1cdab",
   "metadata": {},
   "outputs": [
    {
     "name": "stdout",
     "output_type": "stream",
     "text": [
      "(0, 1)\n",
      "{'A': 2, 'B': 5}\n",
      "[1, 2, 3]\n",
      "{1, 2, 3}\n",
      "32\n",
      "False\n",
      "True\n",
      "1.618\n",
      "3.14\n",
      "Python\n",
      "Hello\n"
     ]
    }
   ],
   "source": [
    "# Accessed by Negative indexed\n",
    "print(tuple_1[-1])\n",
    "print(tuple_1[-2])\n",
    "print(tuple_1[-3])\n",
    "print(tuple_1[-4])\n",
    "print(tuple_1[-5])\n",
    "print(tuple_1[-6])\n",
    "print(tuple_1[-7])\n",
    "print(tuple_1[-8])\n",
    "print(tuple_1[-9])\n",
    "print(tuple_1[-10])\n",
    "print(tuple_1[-11])"
   ]
  },
  {
   "cell_type": "code",
   "execution_count": 30,
   "id": "c0f14729",
   "metadata": {},
   "outputs": [
    {
     "name": "stdout",
     "output_type": "stream",
     "text": [
      "<class 'str'>\n",
      "<class 'str'>\n",
      "<class 'float'>\n",
      "<class 'float'>\n",
      "<class 'bool'>\n",
      "<class 'bool'>\n",
      "<class 'int'>\n",
      "<class 'set'>\n",
      "<class 'list'>\n",
      "<class 'dict'>\n",
      "<class 'tuple'>\n"
     ]
    }
   ],
   "source": [
    "tuple_1=('Hello','Python',3.14,1.618,True, False,32,{1,2,3},[1,2,3],{'A':2,'B':5},(0,1))\n",
    "print(type(tuple_1[0]))\n",
    "print(type(tuple_1[1]))\n",
    "print(type(tuple_1[2]))\n",
    "print(type(tuple_1[3]))\n",
    "print(type(tuple_1[4]))\n",
    "print(type(tuple_1[5]))\n",
    "print(type(tuple_1[6]))\n",
    "print(type(tuple_1[7]))\n",
    "print(type(tuple_1[8]))\n",
    "print(type(tuple_1[9]))\n",
    "print(type(tuple_1[10]))\n"
   ]
  },
  {
   "cell_type": "markdown",
   "id": "ed448924",
   "metadata": {},
   "source": [
    "# Concatenation of tuples\n",
    "\n",
    "    To Concatenate tuple,+ sign is used."
   ]
  },
  {
   "cell_type": "code",
   "execution_count": 31,
   "id": "012063c6",
   "metadata": {},
   "outputs": [
    {
     "data": {
      "text/plain": [
       "('Hello',\n",
       " 'Python',\n",
       " 3.14,\n",
       " 1.618,\n",
       " True,\n",
       " False,\n",
       " 32,\n",
       " {1, 2, 3},\n",
       " [1, 2, 3],\n",
       " {'A': 2, 'B': 5},\n",
       " (0, 1),\n",
       " 'hello world',\n",
       " 2023)"
      ]
     },
     "execution_count": 31,
     "metadata": {},
     "output_type": "execute_result"
    }
   ],
   "source": [
    "tuple_2=tuple_1+('hello world',2023)\n",
    "tuple_2"
   ]
  },
  {
   "cell_type": "markdown",
   "id": "76f0b3f8",
   "metadata": {},
   "source": [
    "# Repetation of tuple\n",
    " It repeats the tuple items."
   ]
  },
  {
   "cell_type": "code",
   "execution_count": 33,
   "id": "2a1987a0",
   "metadata": {},
   "outputs": [
    {
     "data": {
      "text/plain": [
       "(1, 2, 3, 4, 1, 2, 3, 4)"
      ]
     },
     "execution_count": 33,
     "metadata": {},
     "output_type": "execute_result"
    }
   ],
   "source": [
    "rep_tup=(1,2,3,4)\n",
    "rep_tup*2"
   ]
  },
  {
   "cell_type": "code",
   "execution_count": 34,
   "id": "f60fb0aa",
   "metadata": {},
   "outputs": [
    {
     "data": {
      "text/plain": [
       "'JayshreeJayshreeJayshree'"
      ]
     },
     "execution_count": 34,
     "metadata": {},
     "output_type": "execute_result"
    }
   ],
   "source": [
    "rep_tup=('Jayshree')\n",
    "rep_tup*3"
   ]
  },
  {
   "cell_type": "markdown",
   "id": "ea25e489",
   "metadata": {},
   "source": [
    "# Membership"
   ]
  },
  {
   "cell_type": "code",
   "execution_count": 38,
   "id": "0403f541",
   "metadata": {},
   "outputs": [
    {
     "name": "stdout",
     "output_type": "stream",
     "text": [
      "True\n",
      "False\n",
      "False\n"
     ]
    }
   ],
   "source": [
    "rep_tup=(1,2,3,4)\n",
    "print(2 in rep_tup)\n",
    "print(2 not in rep_tup)\n",
    "print(10 in rep_tup)"
   ]
  },
  {
   "cell_type": "markdown",
   "id": "f97e464b",
   "metadata": {},
   "source": [
    "# min() function\n",
    "# max() function"
   ]
  },
  {
   "cell_type": "code",
   "execution_count": 40,
   "id": "6025e65c",
   "metadata": {},
   "outputs": [
    {
     "name": "stdout",
     "output_type": "stream",
     "text": [
      "1\n",
      "4\n"
     ]
    }
   ],
   "source": [
    "print(min(rep_tup))\n",
    "print(max(rep_tup))"
   ]
  },
  {
   "cell_type": "markdown",
   "id": "36856f5f",
   "metadata": {},
   "source": [
    "# tup(seq) function\n",
    "\n",
    "It converts a specific sequence to a tuple"
   ]
  },
  {
   "cell_type": "code",
   "execution_count": 41,
   "id": "03c56f93",
   "metadata": {},
   "outputs": [
    {
     "data": {
      "text/plain": [
       "('A', 'T', 'F', 'C', 'G', 'A', 'B', 'Z', 'X', 'Y')"
      ]
     },
     "execution_count": 41,
     "metadata": {},
     "output_type": "execute_result"
    }
   ],
   "source": [
    "seq='ATFCGABZXY'\n",
    "tuple(seq)"
   ]
  },
  {
   "cell_type": "markdown",
   "id": "ee77313a",
   "metadata": {},
   "source": [
    "# Slicing\n",
    " To obtain a new tuple form the current tuple, the slicing method is used."
   ]
  },
  {
   "cell_type": "code",
   "execution_count": 44,
   "id": "a5d00618",
   "metadata": {},
   "outputs": [
    {
     "name": "stdout",
     "output_type": "stream",
     "text": [
      "(3.14, 1.618, True, False, 32)\n",
      "({1, 2, 3}, [1, 2, 3], {'A': 2, 'B': 5})\n"
     ]
    }
   ],
   "source": [
    "tuple_1=('Hello','Python',3.14,1.618,True, False,32,{1,2,3},[1,2,3],{'A':2,'B':5},(0,1))\n",
    "\n",
    "print(tuple_1[2:7])\n",
    "print(tuple_1[-4:-1])"
   ]
  },
  {
   "cell_type": "markdown",
   "id": "bf186106",
   "metadata": {},
   "source": [
    "# len() function\n",
    "\n",
    "    To obtain how many elements there are in the tuple, use len() function."
   ]
  },
  {
   "cell_type": "code",
   "execution_count": 46,
   "id": "7d20d9ff",
   "metadata": {},
   "outputs": [
    {
     "name": "stdout",
     "output_type": "stream",
     "text": [
      "11\n",
      "13\n"
     ]
    }
   ],
   "source": [
    "print(len(tuple_1))\n",
    "print(len(tuple_2))"
   ]
  },
  {
   "cell_type": "code",
   "execution_count": null,
   "id": "f280f38a",
   "metadata": {},
   "outputs": [],
   "source": []
  }
 ],
 "metadata": {
  "kernelspec": {
   "display_name": "Python 3 (ipykernel)",
   "language": "python",
   "name": "python3"
  },
  "language_info": {
   "codemirror_mode": {
    "name": "ipython",
    "version": 3
   },
   "file_extension": ".py",
   "mimetype": "text/x-python",
   "name": "python",
   "nbconvert_exporter": "python",
   "pygments_lexer": "ipython3",
   "version": "3.9.13"
  }
 },
 "nbformat": 4,
 "nbformat_minor": 5
}
