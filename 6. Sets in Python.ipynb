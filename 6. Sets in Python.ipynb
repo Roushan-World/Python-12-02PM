{
 "cells": [
  {
   "cell_type": "markdown",
   "id": "5b84fc52",
   "metadata": {},
   "source": [
    "# 5. Sets in Python"
   ]
  },
  {
   "cell_type": "markdown",
   "id": "da276098",
   "metadata": {},
   "source": [
    " * Set is one of 4 build-in data type in python used to store collection of data including List, Tuple, and Dictionary.\n",
    " * Sets are unordered, but you can remove items and add new items.\n",
    " * Sets elements are unique. Duplicate elements are not allowed.\n",
    " * A set itself may be modified, but the elements contained in the set must be of an immutable type.\n",
    " * Sets are used to store multiple items in a single variable.\n",
    " * You can denote a set with a pair of curly brackets{}."
   ]
  },
  {
   "cell_type": "code",
   "execution_count": 1,
   "id": "1f7fde0c",
   "metadata": {},
   "outputs": [
    {
     "name": "stdout",
     "output_type": "stream",
     "text": [
      "<class 'dict'>\n"
     ]
    }
   ],
   "source": [
    "# The empty set of curly braces denotes the empty dictionary, not empty set.\n",
    "\n",
    "x={}\n",
    "print(type(x))"
   ]
  },
  {
   "cell_type": "code",
   "execution_count": 2,
   "id": "a42cf97a",
   "metadata": {},
   "outputs": [
    {
     "name": "stdout",
     "output_type": "stream",
     "text": [
      "<class 'set'>\n"
     ]
    }
   ],
   "source": [
    "#To take a set without elements, use set() function without any item.\n",
    "x=set()\n",
    "print(type(x))"
   ]
  },
  {
   "cell_type": "code",
   "execution_count": 4,
   "id": "9ef7b301",
   "metadata": {},
   "outputs": [
    {
     "name": "stdout",
     "output_type": "stream",
     "text": [
      "{False, 'Hello Python', True, 3.14, 2023, 'Hello World'}\n",
      "<class 'set'>\n"
     ]
    }
   ],
   "source": [
    "set1={'Hello World',3.14,2023,'Hello Python',3.14,2023,True, False,2023}\n",
    "print(set1)\n",
    "print(type(set1))"
   ]
  },
  {
   "cell_type": "markdown",
   "id": "2e0eacdc",
   "metadata": {},
   "source": [
    "# Converting list to set"
   ]
  },
  {
   "cell_type": "code",
   "execution_count": 7,
   "id": "d5fc80ef",
   "metadata": {},
   "outputs": [
    {
     "name": "stdout",
     "output_type": "stream",
     "text": [
      "['Hello World', 3.14, 2023, 'Hello Python', 3.14, 2023, True, False, 2023]\n",
      "<class 'list'>\n",
      "{False, 'Hello Python', True, 3.14, 2023, 'Hello World'}\n",
      "<class 'set'>\n"
     ]
    }
   ],
   "source": [
    "# A list can convert to a set\n",
    "# Take a list.\n",
    "list1=['Hello World',3.14,2023,'Hello Python',3.14,2023,True, False,2023]\n",
    "print(list1)\n",
    "print(type(list1))\n",
    "\n",
    "\n",
    "set2=set(list1)\n",
    "print(set2)\n",
    "print(type(set2))"
   ]
  },
  {
   "cell_type": "markdown",
   "id": "6bded03a",
   "metadata": {},
   "source": [
    "# Set operations"
   ]
  },
  {
   "cell_type": "code",
   "execution_count": 14,
   "id": "09a5f4cd",
   "metadata": {},
   "outputs": [
    {
     "data": {
      "text/plain": [
       "{2023, 3.14, False, 'Hello Python', 'Hello World', True}"
      ]
     },
     "execution_count": 14,
     "metadata": {},
     "output_type": "execute_result"
    }
   ],
   "source": [
    "# Take a set\n",
    "set3=set(['Hello World',3.14,2023,'Hello Python',3.14,2023,True, False,2023])\n",
    "set3"
   ]
  },
  {
   "cell_type": "markdown",
   "id": "acabd2d3",
   "metadata": {},
   "source": [
    "# add() function\n",
    "\n",
    " * To add the elemets to a set, we use the function add(), If the same element is added to the set, nothing happen because the set accepts no duplicates."
   ]
  },
  {
   "cell_type": "code",
   "execution_count": 21,
   "id": "d69fc012",
   "metadata": {},
   "outputs": [
    {
     "name": "stdout",
     "output_type": "stream",
     "text": [
      "{False, 'Hello Python', True, 3.14, 3, 'Jayshri', 2023, 'Hello World', 'Jasmeen'}\n",
      "{False, 'Hello Python', True, 3.14, 3, 'Jayshri', 2023, 'Hello World', 'Jasmeen'}\n",
      "{False, 'Hello Python', True, 3.14, 3, 'Jayshri', 2023, 'Hello World', 'Jasmeen'}\n",
      "{False, 'Hello Python', True, 3.14, 3, 'Jayshri', 2023, 'Hello World', 'Jasmeen'}\n"
     ]
    }
   ],
   "source": [
    "# Adding of an element to a set.\n",
    "\n",
    "print(set3)\n",
    "set3.add('Jayshri')\n",
    "print(set3)\n",
    "set3.add('Jasmeen')\n",
    "print(set3)\n",
    "set3.add(3)\n",
    "print(set3)"
   ]
  },
  {
   "cell_type": "markdown",
   "id": "176f7f75",
   "metadata": {},
   "source": [
    "# update() function\n",
    "\n",
    " * To add multiple elements into the set."
   ]
  },
  {
   "cell_type": "code",
   "execution_count": 18,
   "id": "d9305cf7",
   "metadata": {},
   "outputs": [
    {
     "name": "stdout",
     "output_type": "stream",
     "text": [
      "{8, 9, 6, 7}\n",
      "{3, 4, 5, 6, 7, 8, 9}\n"
     ]
    }
   ],
   "source": [
    "x_set={6,7,8,9}\n",
    "print(x_set)\n",
    "x_set.update({3,4,5,6})\n",
    "print(x_set)"
   ]
  },
  {
   "cell_type": "markdown",
   "id": "74287582",
   "metadata": {},
   "source": [
    "# remove() function\n",
    "\n",
    " * To remove an element from the set."
   ]
  },
  {
   "cell_type": "code",
   "execution_count": 23,
   "id": "19c14ea3",
   "metadata": {},
   "outputs": [
    {
     "name": "stdout",
     "output_type": "stream",
     "text": [
      "{False, 'Hello Python', True, 3.14, 3, 'Jayshri', 2023, 'Hello World', 'Jasmeen'}\n",
      "{False, 'Hello Python', True, 3.14, 3, 2023, 'Hello World', 'Jasmeen'}\n"
     ]
    }
   ],
   "source": [
    "print(set3)\n",
    "set3.remove('Jayshri')\n",
    "print(set3)"
   ]
  },
  {
   "cell_type": "markdown",
   "id": "5a3f8bd3",
   "metadata": {},
   "source": [
    "# discard() function\n",
    "\n",
    " * It leaves the set unchanged if the element to be deleted is not available."
   ]
  },
  {
   "cell_type": "code",
   "execution_count": 24,
   "id": "463d8dde",
   "metadata": {},
   "outputs": [
    {
     "name": "stdout",
     "output_type": "stream",
     "text": [
      "{False, 'Hello Python', True, 3, 2023, 'Hello World', 'Jasmeen'}\n"
     ]
    }
   ],
   "source": [
    "set3.discard(3.14)\n",
    "print(set3)"
   ]
  },
  {
   "cell_type": "code",
   "execution_count": 30,
   "id": "2fc07bc6",
   "metadata": {},
   "outputs": [
    {
     "name": "stdout",
     "output_type": "stream",
     "text": [
      "False\n",
      "False\n",
      "True\n"
     ]
    }
   ],
   "source": [
    "# To verify if the element is in the set.\n",
    "\n",
    "print(1.618 in set3)\n",
    "print('Jayshri' in set3)\n",
    "print('Jasmeen' in set3)"
   ]
  },
  {
   "cell_type": "markdown",
   "id": "46a616c7",
   "metadata": {},
   "source": [
    "# Logic operation in Set"
   ]
  },
  {
   "cell_type": "code",
   "execution_count": 37,
   "id": "976c3e11",
   "metadata": {},
   "outputs": [
    {
     "data": {
      "text/plain": [
       "({1.618, 3.14, 'Hello Python', 'Hello World'},\n",
       " {False, True, 1.618, 3.14, 2023})"
      ]
     },
     "execution_count": 37,
     "metadata": {},
     "output_type": "execute_result"
    }
   ],
   "source": [
    "# Take two sets\n",
    "\n",
    "set4=set(['Hello World',3.14,1.618,'Hello Python'])\n",
    "set5={3.14,2023,1.618, True, False}\n",
    "\n",
    "set4,set5\n"
   ]
  },
  {
   "cell_type": "markdown",
   "id": "c229f405",
   "metadata": {},
   "source": [
    "# To find the intersect of two set using &"
   ]
  },
  {
   "cell_type": "code",
   "execution_count": 35,
   "id": "8ce8fa4d",
   "metadata": {},
   "outputs": [
    {
     "data": {
      "text/plain": [
       "{1.618, 3.14}"
      ]
     },
     "execution_count": 35,
     "metadata": {},
     "output_type": "execute_result"
    }
   ],
   "source": [
    "intersect=set4&set5\n",
    "intersect"
   ]
  },
  {
   "cell_type": "code",
   "execution_count": 38,
   "id": "2a96ab95",
   "metadata": {},
   "outputs": [
    {
     "data": {
      "text/plain": [
       "{1.618, 3.14}"
      ]
     },
     "execution_count": 38,
     "metadata": {},
     "output_type": "execute_result"
    }
   ],
   "source": [
    "# other method to find the intersction of two sets, use intersection() function.\n",
    "\n",
    "set4.intersection(set5)"
   ]
  },
  {
   "cell_type": "markdown",
   "id": "7aba7288",
   "metadata": {},
   "source": [
    "# difference() function.\n",
    "\n",
    " * To find the difference between two sets.\n",
    " \n",
    " "
   ]
  },
  {
   "cell_type": "code",
   "execution_count": 41,
   "id": "f11d89d6",
   "metadata": {},
   "outputs": [
    {
     "name": "stdout",
     "output_type": "stream",
     "text": [
      "{'Hello Python', 'Hello World'}\n",
      "{False, True, 2023}\n",
      "{'Hello Python', 'Hello World'}\n",
      "{False, True, 2023}\n"
     ]
    }
   ],
   "source": [
    "print(set4.difference(set5))  #(A-B)\n",
    "print(set5.difference(set4))  #(B-A)\n",
    "\n",
    "\n",
    "\n",
    "# The same process can make using subtraction operators are as follows:\n",
    "\n",
    "print(set4-set5)\n",
    "print(set5-set4)"
   ]
  },
  {
   "cell_type": "markdown",
   "id": "d377d051",
   "metadata": {},
   "source": [
    "# union() function"
   ]
  },
  {
   "cell_type": "markdown",
   "id": "76dcf543",
   "metadata": {},
   "source": [
    " *  It corresponds all the elements in both sets."
   ]
  },
  {
   "cell_type": "code",
   "execution_count": 42,
   "id": "6963c91f",
   "metadata": {},
   "outputs": [
    {
     "data": {
      "text/plain": [
       "{1.618, 2023, 3.14, False, 'Hello Python', 'Hello World', True}"
      ]
     },
     "execution_count": 42,
     "metadata": {},
     "output_type": "execute_result"
    }
   ],
   "source": [
    "set4.union(set5)"
   ]
  },
  {
   "cell_type": "markdown",
   "id": "5a5320ea",
   "metadata": {},
   "source": [
    "# min(), max(), sum() functions."
   ]
  },
  {
   "cell_type": "code",
   "execution_count": 7,
   "id": "2112a97c",
   "metadata": {},
   "outputs": [
    {
     "name": "stdout",
     "output_type": "stream",
     "text": [
      "The maximum number of a is: 6\n",
      "The maximum number of b is: 6\n",
      "The minimum number of a is: 1\n",
      "The minimum number of b is: 1\n",
      "The sum of a is: 35\n",
      "The sum of b is: 21\n"
     ]
    }
   ],
   "source": [
    "a=[1,1,2,2,3,3,3,4,5,5,6]   # Take a list\n",
    "b={1,1,2,2,3,3,3,4,5,5,6}   # Take a set\n",
    "\n",
    "print('The maximum number of a is:',max(a))\n",
    "print('The maximum number of b is:', max(b))\n",
    "print('The minimum number of a is:',min(a))\n",
    "print('The minimum number of b is:',min(b))\n",
    "print('The sum of a is:',sum(a))\n",
    "print('The sum of b is:',sum(b))\n",
    "\n",
    "# you see that the sum of a and b is different. Because the set takes no duplicates."
   ]
  },
  {
   "cell_type": "markdown",
   "id": "a8cf1d75",
   "metadata": {},
   "source": [
    "# No mutable sequence in a set.\n",
    "\n",
    "A set can not have mutable elements such as list or dictionary in it. If any, it returns error as follows:"
   ]
  },
  {
   "cell_type": "code",
   "execution_count": 11,
   "id": "a55a6b0f",
   "metadata": {},
   "outputs": [
    {
     "ename": "TypeError",
     "evalue": "unhashable type: 'list'",
     "output_type": "error",
     "traceback": [
      "\u001b[1;31m---------------------------------------------------------------------------\u001b[0m",
      "\u001b[1;31mTypeError\u001b[0m                                 Traceback (most recent call last)",
      "\u001b[1;32m~\\AppData\\Local\\Temp\\ipykernel_11308\\3271542788.py\u001b[0m in \u001b[0;36m<module>\u001b[1;34m\u001b[0m\n\u001b[1;32m----> 1\u001b[1;33m \u001b[0mset6\u001b[0m\u001b[1;33m=\u001b[0m\u001b[1;33m{\u001b[0m\u001b[1;34m'Python'\u001b[0m\u001b[1;33m,\u001b[0m\u001b[1;36m1\u001b[0m\u001b[1;33m,\u001b[0m\u001b[1;36m2\u001b[0m\u001b[1;33m,\u001b[0m\u001b[1;36m3\u001b[0m\u001b[1;33m,\u001b[0m\u001b[1;33m[\u001b[0m\u001b[1;36m5\u001b[0m\u001b[1;33m,\u001b[0m\u001b[1;36m6\u001b[0m\u001b[1;33m]\u001b[0m\u001b[1;33m}\u001b[0m\u001b[1;33m\u001b[0m\u001b[1;33m\u001b[0m\u001b[0m\n\u001b[0m\u001b[0;32m      2\u001b[0m \u001b[0mprint\u001b[0m\u001b[1;33m(\u001b[0m\u001b[0mset6\u001b[0m\u001b[1;33m)\u001b[0m\u001b[1;33m\u001b[0m\u001b[1;33m\u001b[0m\u001b[0m\n",
      "\u001b[1;31mTypeError\u001b[0m: unhashable type: 'list'"
     ]
    }
   ],
   "source": [
    "set6={'Python',1,2,3,[5,6]}\n",
    "print(set6)"
   ]
  },
  {
   "cell_type": "markdown",
   "id": "85279ecb",
   "metadata": {},
   "source": [
    "# index() function\n",
    "\n",
    "This function does not work in set, since the set is unordered collection."
   ]
  },
  {
   "cell_type": "code",
   "execution_count": 13,
   "id": "9e657428",
   "metadata": {},
   "outputs": [
    {
     "ename": "TypeError",
     "evalue": "'set' object is not subscriptable",
     "output_type": "error",
     "traceback": [
      "\u001b[1;31m---------------------------------------------------------------------------\u001b[0m",
      "\u001b[1;31mTypeError\u001b[0m                                 Traceback (most recent call last)",
      "\u001b[1;32m~\\AppData\\Local\\Temp\\ipykernel_11308\\1232706903.py\u001b[0m in \u001b[0;36m<module>\u001b[1;34m\u001b[0m\n\u001b[0;32m      1\u001b[0m \u001b[0mset7\u001b[0m\u001b[1;33m=\u001b[0m\u001b[1;33m{\u001b[0m\u001b[1;36m1\u001b[0m\u001b[1;33m,\u001b[0m\u001b[1;36m2\u001b[0m\u001b[1;33m,\u001b[0m\u001b[1;36m3\u001b[0m\u001b[1;33m,\u001b[0m\u001b[1;36m4\u001b[0m\u001b[1;33m}\u001b[0m\u001b[1;33m\u001b[0m\u001b[1;33m\u001b[0m\u001b[0m\n\u001b[1;32m----> 2\u001b[1;33m \u001b[0mset7\u001b[0m\u001b[1;33m[\u001b[0m\u001b[1;36m1\u001b[0m\u001b[1;33m]\u001b[0m\u001b[1;33m\u001b[0m\u001b[1;33m\u001b[0m\u001b[0m\n\u001b[0m",
      "\u001b[1;31mTypeError\u001b[0m: 'set' object is not subscriptable"
     ]
    }
   ],
   "source": [
    "set7={1,2,3,4}\n",
    "set7[1]"
   ]
  },
  {
   "cell_type": "markdown",
   "id": "8df9b8c7",
   "metadata": {},
   "source": [
    "# copy the set"
   ]
  },
  {
   "cell_type": "code",
   "execution_count": 24,
   "id": "b0d551dd",
   "metadata": {},
   "outputs": [
    {
     "name": "stdout",
     "output_type": "stream",
     "text": [
      "{8, 1, 4, 9}\n",
      "{8, 1, 4, 9}\n",
      "{1, 4, 8, 9, 11}\n",
      "{1, 4, 8, 9, 11}\n"
     ]
    },
    {
     "data": {
      "text/plain": [
       "\"\\nAs you see that although the number 11 is added into the set 'set8', the added number is \\nalso added into the set 'set9'.\\n\""
      ]
     },
     "execution_count": 24,
     "metadata": {},
     "output_type": "execute_result"
    }
   ],
   "source": [
    "set8={1,4,8,9}\n",
    "print(set8)\n",
    "set9=set8\n",
    "print(set9)\n",
    "set8.add(11)\n",
    "print(set8)\n",
    "print(set9)\n",
    "\n",
    "'''\n",
    "As you see that although the number 11 is added into the set 'set8', the added number is \n",
    "also added into the set 'set9'.\n",
    "'''"
   ]
  },
  {
   "cell_type": "markdown",
   "id": "c2ed338d",
   "metadata": {},
   "source": [
    "# copy() function\n",
    "\n",
    "It returns a shallow copyt of the original set."
   ]
  },
  {
   "cell_type": "code",
   "execution_count": 23,
   "id": "67e743d3",
   "metadata": {},
   "outputs": [
    {
     "name": "stdout",
     "output_type": "stream",
     "text": [
      "{1, 2, 3, 4, 5, 6}\n",
      "{1, 2, 3, 4, 5, 6}\n",
      "{1, 2, 3, 4, 5, 6, 15}\n",
      "{1, 2, 3, 4, 5, 6}\n"
     ]
    },
    {
     "data": {
      "text/plain": [
       "\"\\nWhen this function is used, the original set stays unmodified.\\nA new copy stored in another set of memory locations is created.\\nThe change made in one copy won't reflect in another.\\n\""
      ]
     },
     "execution_count": 23,
     "metadata": {},
     "output_type": "execute_result"
    }
   ],
   "source": [
    "set10={1,2,3,4,5,6}\n",
    "print(set10)\n",
    "set11=set10.copy()\n",
    "print(set11)\n",
    "set10.add(15)\n",
    "print(set10)\n",
    "print(set11)\n",
    "\n",
    "'''\n",
    "When this function is used, the original set stays unmodified.\n",
    "A new copy stored in another set of memory locations is created.\n",
    "The change made in one copy won't reflect in another.\n",
    "'''"
   ]
  },
  {
   "cell_type": "markdown",
   "id": "5db62a50",
   "metadata": {},
   "source": [
    "# clear() function\n",
    "\n",
    "It removes all the elements in the set and then do the set empty."
   ]
  },
  {
   "cell_type": "code",
   "execution_count": 26,
   "id": "df0a588e",
   "metadata": {},
   "outputs": [
    {
     "name": "stdout",
     "output_type": "stream",
     "text": [
      "{0, 1, 2, 3, 4, 5, 6, 7, 8, 9, 10}\n",
      "set()\n"
     ]
    }
   ],
   "source": [
    "x={0,1,2,3,4,5,6,7,8,9,10}\n",
    "print(x)\n",
    "x.clear()\n",
    "print(x)"
   ]
  },
  {
   "cell_type": "markdown",
   "id": "bd3c9810",
   "metadata": {},
   "source": [
    "# pop() function.\n",
    "\n",
    "It removes and returns an arbitrary set element."
   ]
  },
  {
   "cell_type": "code",
   "execution_count": 29,
   "id": "6029a025",
   "metadata": {},
   "outputs": [
    {
     "name": "stdout",
     "output_type": "stream",
     "text": [
      "{0, 1, 2, 3, 4, 5, 6, 7, 8, 9, 10}\n",
      "{1, 2, 3, 4, 5, 6, 7, 8, 9, 10}\n"
     ]
    }
   ],
   "source": [
    "x={0,1,2,3,4,5,6,7,8,9,10}\n",
    "print(x)\n",
    "x.pop()\n",
    "print(x)"
   ]
  },
  {
   "cell_type": "markdown",
   "id": "85d23ce1",
   "metadata": {},
   "source": [
    "# symmetric_difference"
   ]
  },
  {
   "cell_type": "code",
   "execution_count": 30,
   "id": "542bacc9",
   "metadata": {},
   "outputs": [
    {
     "name": "stdout",
     "output_type": "stream",
     "text": [
      "{'google', 'microsoft', 'banana', 'cherry'}\n"
     ]
    }
   ],
   "source": [
    "x = {\"apple\", \"banana\", \"cherry\"}\n",
    "y = {\"google\", \"microsoft\", \"apple\"}\n",
    "\n",
    "z = x.symmetric_difference(y)\n",
    "\n",
    "print(z)"
   ]
  },
  {
   "cell_type": "code",
   "execution_count": 31,
   "id": "cf582f82",
   "metadata": {},
   "outputs": [
    {
     "data": {
      "text/plain": [
       "{40, 50, 60, 70, 80}"
      ]
     },
     "execution_count": 31,
     "metadata": {},
     "output_type": "execute_result"
    }
   ],
   "source": [
    "x={10,20,30,40,50}\n",
    "y={60,70,80,20,30,10}\n",
    "\n",
    "x.symmetric_difference(y)"
   ]
  },
  {
   "cell_type": "markdown",
   "id": "b034d43f",
   "metadata": {},
   "source": [
    "# remove() function"
   ]
  },
  {
   "cell_type": "code",
   "execution_count": 33,
   "id": "5363a6f3",
   "metadata": {},
   "outputs": [
    {
     "name": "stdout",
     "output_type": "stream",
     "text": [
      "{1, 2, 3, 4, 5, 6, 'Jayshree'}\n",
      "{1, 2, 3, 4, 5, 6}\n"
     ]
    }
   ],
   "source": [
    "xy={1,2,3,4,5,6,'Jayshree'}\n",
    "print(xy)\n",
    "\n",
    "xy.remove('Jayshree')\n",
    "print(xy)"
   ]
  },
  {
   "cell_type": "code",
   "execution_count": null,
   "id": "4dc6d4b8",
   "metadata": {},
   "outputs": [],
   "source": []
  }
 ],
 "metadata": {
  "kernelspec": {
   "display_name": "Python 3 (ipykernel)",
   "language": "python",
   "name": "python3"
  },
  "language_info": {
   "codemirror_mode": {
    "name": "ipython",
    "version": 3
   },
   "file_extension": ".py",
   "mimetype": "text/x-python",
   "name": "python",
   "nbconvert_exporter": "python",
   "pygments_lexer": "ipython3",
   "version": "3.9.13"
  }
 },
 "nbformat": 4,
 "nbformat_minor": 5
}
