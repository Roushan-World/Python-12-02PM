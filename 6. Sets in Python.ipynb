{
 "cells": [
  {
   "cell_type": "markdown",
   "id": "5b84fc52",
   "metadata": {},
   "source": [
    "# 5. Sets in Python"
   ]
  },
  {
   "cell_type": "markdown",
   "id": "da276098",
   "metadata": {},
   "source": [
    " * Set is one of 4 build-in data type in python used to store collection of data including List, Tuple, and Dictionary.\n",
    " * Sets are unordered, but you can remove items and add new items.\n",
    " * Sets elements are unique. Duplicate elements are not allowed.\n",
    " * A set itself may be modified, but the elements contained in the set must be of an immutable type.\n",
    " * Sets are used to store multiple items in a single variable.\n",
    " * You can denote a set with a pair of curly brackets{}."
   ]
  },
  {
   "cell_type": "code",
   "execution_count": 1,
   "id": "1f7fde0c",
   "metadata": {},
   "outputs": [
    {
     "name": "stdout",
     "output_type": "stream",
     "text": [
      "<class 'dict'>\n"
     ]
    }
   ],
   "source": [
    "# The empty set of curly braces denotes the empty dictionary, not empty set.\n",
    "\n",
    "x={}\n",
    "print(type(x))"
   ]
  },
  {
   "cell_type": "code",
   "execution_count": 2,
   "id": "a42cf97a",
   "metadata": {},
   "outputs": [
    {
     "name": "stdout",
     "output_type": "stream",
     "text": [
      "<class 'set'>\n"
     ]
    }
   ],
   "source": [
    "#To take a set without elements, use set() function without any item.\n",
    "x=set()\n",
    "print(type(x))"
   ]
  },
  {
   "cell_type": "code",
   "execution_count": 4,
   "id": "9ef7b301",
   "metadata": {},
   "outputs": [
    {
     "name": "stdout",
     "output_type": "stream",
     "text": [
      "{False, 'Hello Python', True, 3.14, 2023, 'Hello World'}\n",
      "<class 'set'>\n"
     ]
    }
   ],
   "source": [
    "set1={'Hello World',3.14,2023,'Hello Python',3.14,2023,True, False,2023}\n",
    "print(set1)\n",
    "print(type(set1))"
   ]
  },
  {
   "cell_type": "markdown",
   "id": "2e0eacdc",
   "metadata": {},
   "source": [
    "# Converting list to set"
   ]
  },
  {
   "cell_type": "code",
   "execution_count": 7,
   "id": "d5fc80ef",
   "metadata": {},
   "outputs": [
    {
     "name": "stdout",
     "output_type": "stream",
     "text": [
      "['Hello World', 3.14, 2023, 'Hello Python', 3.14, 2023, True, False, 2023]\n",
      "<class 'list'>\n",
      "{False, 'Hello Python', True, 3.14, 2023, 'Hello World'}\n",
      "<class 'set'>\n"
     ]
    }
   ],
   "source": [
    "# A list can convert to a set\n",
    "# Take a list.\n",
    "list1=['Hello World',3.14,2023,'Hello Python',3.14,2023,True, False,2023]\n",
    "print(list1)\n",
    "print(type(list1))\n",
    "\n",
    "\n",
    "set2=set(list1)\n",
    "print(set2)\n",
    "print(type(set2))"
   ]
  },
  {
   "cell_type": "markdown",
   "id": "6bded03a",
   "metadata": {},
   "source": [
    "# Set operations"
   ]
  },
  {
   "cell_type": "code",
   "execution_count": 14,
   "id": "09a5f4cd",
   "metadata": {},
   "outputs": [
    {
     "data": {
      "text/plain": [
       "{2023, 3.14, False, 'Hello Python', 'Hello World', True}"
      ]
     },
     "execution_count": 14,
     "metadata": {},
     "output_type": "execute_result"
    }
   ],
   "source": [
    "# Take a set\n",
    "set3=set(['Hello World',3.14,2023,'Hello Python',3.14,2023,True, False,2023])\n",
    "set3"
   ]
  },
  {
   "cell_type": "markdown",
   "id": "acabd2d3",
   "metadata": {},
   "source": [
    "# add() function\n",
    "\n",
    " * To add the elemets to a set, we use the function add(), If the same element is added to the set, nothing happen because the set accepts no duplicates."
   ]
  },
  {
   "cell_type": "code",
   "execution_count": 21,
   "id": "d69fc012",
   "metadata": {},
   "outputs": [
    {
     "name": "stdout",
     "output_type": "stream",
     "text": [
      "{False, 'Hello Python', True, 3.14, 3, 'Jayshri', 2023, 'Hello World', 'Jasmeen'}\n",
      "{False, 'Hello Python', True, 3.14, 3, 'Jayshri', 2023, 'Hello World', 'Jasmeen'}\n",
      "{False, 'Hello Python', True, 3.14, 3, 'Jayshri', 2023, 'Hello World', 'Jasmeen'}\n",
      "{False, 'Hello Python', True, 3.14, 3, 'Jayshri', 2023, 'Hello World', 'Jasmeen'}\n"
     ]
    }
   ],
   "source": [
    "# Adding of an element to a set.\n",
    "\n",
    "print(set3)\n",
    "set3.add('Jayshri')\n",
    "print(set3)\n",
    "set3.add('Jasmeen')\n",
    "print(set3)\n",
    "set3.add(3)\n",
    "print(set3)"
   ]
  },
  {
   "cell_type": "markdown",
   "id": "176f7f75",
   "metadata": {},
   "source": [
    "# update() function\n",
    "\n",
    " * To add multiple elements into the set."
   ]
  },
  {
   "cell_type": "code",
   "execution_count": 18,
   "id": "d9305cf7",
   "metadata": {},
   "outputs": [
    {
     "name": "stdout",
     "output_type": "stream",
     "text": [
      "{8, 9, 6, 7}\n",
      "{3, 4, 5, 6, 7, 8, 9}\n"
     ]
    }
   ],
   "source": [
    "x_set={6,7,8,9}\n",
    "print(x_set)\n",
    "x_set.update({3,4,5,6})\n",
    "print(x_set)"
   ]
  },
  {
   "cell_type": "markdown",
   "id": "74287582",
   "metadata": {},
   "source": [
    "# remove() function\n",
    "\n",
    " * To remove an element from the set."
   ]
  },
  {
   "cell_type": "code",
   "execution_count": 23,
   "id": "19c14ea3",
   "metadata": {},
   "outputs": [
    {
     "name": "stdout",
     "output_type": "stream",
     "text": [
      "{False, 'Hello Python', True, 3.14, 3, 'Jayshri', 2023, 'Hello World', 'Jasmeen'}\n",
      "{False, 'Hello Python', True, 3.14, 3, 2023, 'Hello World', 'Jasmeen'}\n"
     ]
    }
   ],
   "source": [
    "print(set3)\n",
    "set3.remove('Jayshri')\n",
    "print(set3)"
   ]
  },
  {
   "cell_type": "markdown",
   "id": "5a3f8bd3",
   "metadata": {},
   "source": [
    "# discard() function\n",
    "\n",
    " * It leaves the set unchanged if the element to be deleted is not available."
   ]
  },
  {
   "cell_type": "code",
   "execution_count": 24,
   "id": "463d8dde",
   "metadata": {},
   "outputs": [
    {
     "name": "stdout",
     "output_type": "stream",
     "text": [
      "{False, 'Hello Python', True, 3, 2023, 'Hello World', 'Jasmeen'}\n"
     ]
    }
   ],
   "source": [
    "set3.discard(3.14)\n",
    "print(set3)"
   ]
  },
  {
   "cell_type": "code",
   "execution_count": 30,
   "id": "2fc07bc6",
   "metadata": {},
   "outputs": [
    {
     "name": "stdout",
     "output_type": "stream",
     "text": [
      "False\n",
      "False\n",
      "True\n"
     ]
    }
   ],
   "source": [
    "# To verify if the element is in the set.\n",
    "\n",
    "print(1.618 in set3)\n",
    "print('Jayshri' in set3)\n",
    "print('Jasmeen' in set3)"
   ]
  },
  {
   "cell_type": "markdown",
   "id": "46a616c7",
   "metadata": {},
   "source": [
    "# Logic operation in Set"
   ]
  },
  {
   "cell_type": "code",
   "execution_count": 37,
   "id": "976c3e11",
   "metadata": {},
   "outputs": [
    {
     "data": {
      "text/plain": [
       "({1.618, 3.14, 'Hello Python', 'Hello World'},\n",
       " {False, True, 1.618, 3.14, 2023})"
      ]
     },
     "execution_count": 37,
     "metadata": {},
     "output_type": "execute_result"
    }
   ],
   "source": [
    "# Take two sets\n",
    "\n",
    "set4=set(['Hello World',3.14,1.618,'Hello Python'])\n",
    "set5={3.14,2023,1.618, True, False}\n",
    "\n",
    "set4,set5\n"
   ]
  },
  {
   "cell_type": "markdown",
   "id": "c229f405",
   "metadata": {},
   "source": [
    "# To find the intersect of two set using &"
   ]
  },
  {
   "cell_type": "code",
   "execution_count": 35,
   "id": "8ce8fa4d",
   "metadata": {},
   "outputs": [
    {
     "data": {
      "text/plain": [
       "{1.618, 3.14}"
      ]
     },
     "execution_count": 35,
     "metadata": {},
     "output_type": "execute_result"
    }
   ],
   "source": [
    "intersect=set4&set5\n",
    "intersect"
   ]
  },
  {
   "cell_type": "code",
   "execution_count": 38,
   "id": "2a96ab95",
   "metadata": {},
   "outputs": [
    {
     "data": {
      "text/plain": [
       "{1.618, 3.14}"
      ]
     },
     "execution_count": 38,
     "metadata": {},
     "output_type": "execute_result"
    }
   ],
   "source": [
    "# other method to find the intersction of two sets, use intersection() function.\n",
    "\n",
    "set4.intersection(set5)"
   ]
  },
  {
   "cell_type": "markdown",
   "id": "7aba7288",
   "metadata": {},
   "source": [
    "# difference() function.\n",
    "\n",
    " * To find the difference between two sets.\n",
    " \n",
    " "
   ]
  },
  {
   "cell_type": "code",
   "execution_count": 41,
   "id": "f11d89d6",
   "metadata": {},
   "outputs": [
    {
     "name": "stdout",
     "output_type": "stream",
     "text": [
      "{'Hello Python', 'Hello World'}\n",
      "{False, True, 2023}\n",
      "{'Hello Python', 'Hello World'}\n",
      "{False, True, 2023}\n"
     ]
    }
   ],
   "source": [
    "print(set4.difference(set5))  #(A-B)\n",
    "print(set5.difference(set4))  #(B-A)\n",
    "\n",
    "\n",
    "\n",
    "# The same process can make using subtraction operators are as follows:\n",
    "\n",
    "print(set4-set5)\n",
    "print(set5-set4)"
   ]
  },
  {
   "cell_type": "markdown",
   "id": "d377d051",
   "metadata": {},
   "source": [
    "# union() function"
   ]
  },
  {
   "cell_type": "code",
   "execution_count": 42,
   "id": "6963c91f",
   "metadata": {},
   "outputs": [
    {
     "data": {
      "text/plain": [
       "{1.618, 2023, 3.14, False, 'Hello Python', 'Hello World', True}"
      ]
     },
     "execution_count": 42,
     "metadata": {},
     "output_type": "execute_result"
    }
   ],
   "source": [
    "set4.union(set5)"
   ]
  },
  {
   "cell_type": "code",
   "execution_count": null,
   "id": "305f2008",
   "metadata": {},
   "outputs": [],
   "source": []
  }
 ],
 "metadata": {
  "kernelspec": {
   "display_name": "Python 3 (ipykernel)",
   "language": "python",
   "name": "python3"
  },
  "language_info": {
   "codemirror_mode": {
    "name": "ipython",
    "version": 3
   },
   "file_extension": ".py",
   "mimetype": "text/x-python",
   "name": "python",
   "nbconvert_exporter": "python",
   "pygments_lexer": "ipython3",
   "version": "3.9.13"
  }
 },
 "nbformat": 4,
 "nbformat_minor": 5
}
