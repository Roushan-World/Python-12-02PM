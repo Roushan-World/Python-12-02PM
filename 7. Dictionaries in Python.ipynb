{
 "cells": [
  {
   "cell_type": "markdown",
   "id": "1873e1c1",
   "metadata": {},
   "source": [
    "# 7.Dictionary in Python\n",
    "\n",
    "    * Dictionaries are used to store data value in key:value pairs.\n",
    "    * A dictionary is a collection which is ordered, changeable or mutable and do not allow duplicates.\n",
    "    * Dictionary items are ordered, changeable, and does not allow duplicates.\n",
    "    * Dictionary items are presented in key:value pairs, and can be referred to by using the key name.\n",
    "    * Dictionaries are changeable, meaning that we can change, add or remove items after the dictionary has been created.\n",
    "    * Dictionaries cannot have two items with same key.\n",
    "    * A dictionary can nested and can contains another dictionary.\n",
    "    \n",
    "    \n",
    "    \n",
    "    \n",
    "    \n",
    "                     Keys------------------------------Values\n",
    "                     \n",
    "                     \n",
    "                     'name'----------------------------'John'\n",
    "                     'age'------------------------------25\n",
    "                     'job'-----------------------------'Python'\n",
    "                     'city'----------------------------'New York'\n",
    "                     'emial'---------------------------'john@web.com'"
   ]
  },
  {
   "cell_type": "code",
   "execution_count": 20,
   "id": "4d581015",
   "metadata": {},
   "outputs": [
    {
     "data": {
      "text/plain": [
       "{'key_1': 3.14,\n",
       " 'key_2': 1.618,\n",
       " 'key_3': True,\n",
       " 'key_4': False,\n",
       " 'key_5': 'Hello World'}"
      ]
     },
     "execution_count": 20,
     "metadata": {},
     "output_type": "execute_result"
    }
   ],
   "source": [
    "# Take a sample dictionary\n",
    "\n",
    "sample_dict={ 'key_1':3.14,'key_2':1.618,\n",
    "             'key_3':True,'key_4':False,\n",
    "             'key_5':'Hello World'\n",
    "            \n",
    "}\n",
    "\n",
    "sample_dict"
   ]
  },
  {
   "cell_type": "markdown",
   "id": "f3cd5c2f",
   "metadata": {},
   "source": [
    "# Note: As you see that the whole dictionary is enclosed in curly braces, each key is separated from its value by a column \":\" , and commas are used to separated the items in the dictionary."
   ]
  },
  {
   "cell_type": "code",
   "execution_count": 21,
   "id": "228ae5c8",
   "metadata": {},
   "outputs": [
    {
     "name": "stdout",
     "output_type": "stream",
     "text": [
      "3.14\n",
      "1.618\n",
      "True\n",
      "False\n",
      "Hello World\n"
     ]
    }
   ],
   "source": [
    "#Accessing to the value using the key.\n",
    "\n",
    "print(sample_dict['key_1'])\n",
    "print(sample_dict['key_2'])\n",
    "print(sample_dict['key_3'])\n",
    "print(sample_dict['key_4'])\n",
    "print(sample_dict['key_5'])    #key can be any immutable object like tuple."
   ]
  },
  {
   "cell_type": "code",
   "execution_count": 28,
   "id": "aa2090e6",
   "metadata": {},
   "outputs": [
    {
     "data": {
      "text/plain": [
       "{'name': 'Jayshree',\n",
       " 'age': 25,\n",
       " 'state': 'Maharashtra',\n",
       " 'Nationalism': 'Indian',\n",
       " 'Pin': 411014,\n",
       " 'Religion': 'Hindusm',\n",
       " 123: 'Female'}"
      ]
     },
     "execution_count": 28,
     "metadata": {},
     "output_type": "execute_result"
    }
   ],
   "source": [
    "# Take a sample dictionary\n",
    "\n",
    "sample_dict2={'name':'Jayshree','age':25,\n",
    "              'state':'Maharashtra','Nationalism':'Indian',\n",
    "              'Pin':411014,'Religion':'Hindusm',\n",
    "              123:'Female'\n",
    "    \n",
    "}\n",
    "\n",
    "sample_dict2"
   ]
  },
  {
   "cell_type": "code",
   "execution_count": 29,
   "id": "96e80234",
   "metadata": {},
   "outputs": [
    {
     "name": "stdout",
     "output_type": "stream",
     "text": [
      "Jayshree\n",
      "25\n",
      "Maharashtra\n",
      "Indian\n",
      "411014\n",
      "Hindusm\n"
     ]
    }
   ],
   "source": [
    "print(sample_dict2['name'])\n",
    "print(sample_dict2['age'])\n",
    "print(sample_dict2['state'])\n",
    "print(sample_dict2['Nationalism'])\n",
    "print(sample_dict2['Pin'])\n",
    "print(sample_dict2['Religion'])"
   ]
  },
  {
   "cell_type": "markdown",
   "id": "bdbb2ad6",
   "metadata": {},
   "source": [
    "# keys() function to get the keys in the dictionary\n",
    "\n"
   ]
  },
  {
   "cell_type": "code",
   "execution_count": 30,
   "id": "244c2564",
   "metadata": {},
   "outputs": [
    {
     "data": {
      "text/plain": [
       "dict_keys(['name', 'age', 'state', 'Nationalism', 'Pin', 'Religion', 123])"
      ]
     },
     "execution_count": 30,
     "metadata": {},
     "output_type": "execute_result"
    }
   ],
   "source": [
    "# What are the keys in the dictionary.\n",
    "\n",
    "sample_dict2.keys()"
   ]
  },
  {
   "cell_type": "code",
   "execution_count": 31,
   "id": "82ab4bf9",
   "metadata": {},
   "outputs": [
    {
     "data": {
      "text/plain": [
       "dict_keys(['key_1', 'key_2', 'key_3', 'key_4', 'key_5'])"
      ]
     },
     "execution_count": 31,
     "metadata": {},
     "output_type": "execute_result"
    }
   ],
   "source": [
    "sample_dict.keys()"
   ]
  },
  {
   "cell_type": "markdown",
   "id": "7851d257",
   "metadata": {},
   "source": [
    "# values() function to the the values in the dictionary."
   ]
  },
  {
   "cell_type": "code",
   "execution_count": 32,
   "id": "f48ec9c7",
   "metadata": {},
   "outputs": [
    {
     "data": {
      "text/plain": [
       "dict_values(['Jayshree', 25, 'Maharashtra', 'Indian', 411014, 'Hindusm', 'Female'])"
      ]
     },
     "execution_count": 32,
     "metadata": {},
     "output_type": "execute_result"
    }
   ],
   "source": [
    "sample_dict2.values()"
   ]
  },
  {
   "cell_type": "code",
   "execution_count": 33,
   "id": "2a578b40",
   "metadata": {},
   "outputs": [
    {
     "data": {
      "text/plain": [
       "dict_values([3.14, 1.618, True, False, 'Hello World'])"
      ]
     },
     "execution_count": 33,
     "metadata": {},
     "output_type": "execute_result"
    }
   ],
   "source": [
    "sample_dict.values()"
   ]
  },
  {
   "cell_type": "code",
   "execution_count": null,
   "id": "13f16215",
   "metadata": {},
   "outputs": [],
   "source": []
  }
 ],
 "metadata": {
  "kernelspec": {
   "display_name": "Python 3 (ipykernel)",
   "language": "python",
   "name": "python3"
  },
  "language_info": {
   "codemirror_mode": {
    "name": "ipython",
    "version": 3
   },
   "file_extension": ".py",
   "mimetype": "text/x-python",
   "name": "python",
   "nbconvert_exporter": "python",
   "pygments_lexer": "ipython3",
   "version": "3.9.13"
  }
 },
 "nbformat": 4,
 "nbformat_minor": 5
}
