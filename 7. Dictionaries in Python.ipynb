{
 "cells": [
  {
   "cell_type": "markdown",
   "id": "a71c0aba",
   "metadata": {},
   "source": [
    "# 7.Dictionary in Python\n",
    "\n",
    "    * Dictionaries are used to store data value in key:value pairs.\n",
    "    * A dictionary is a collection which is ordered, changeable or mutable and do not allow duplicates.\n",
    "    * Dictionary items are ordered, changeable, and does not allow duplicates.\n",
    "    * Dictionary items are presented in key:value pairs, and can be referred to by using the key name.\n",
    "    * Dictionaries are changeable, meaning that we can change, add or remove items after the dictionary has been created.\n",
    "    * Dictionaries cannot have two items with same key.\n",
    "    * A dictionary can nested and can contains another dictionary.\n",
    "    \n",
    "    \n",
    "    \n",
    "    \n",
    "    \n",
    "                     Keys------------------------------Values\n",
    "                     \n",
    "                     \n",
    "                     'name'----------------------------'John'\n",
    "                     'age'------------------------------25\n",
    "                     'job'-----------------------------'Python'\n",
    "                     'city'----------------------------'New York'\n",
    "                     'emial'---------------------------'john@web.com'"
   ]
  },
  {
   "cell_type": "code",
   "execution_count": 1,
   "id": "7f0a5553",
   "metadata": {},
   "outputs": [
    {
     "data": {
      "text/plain": [
       "{'key_1': 3.14,\n",
       " 'key_2': 1.618,\n",
       " 'key_3': True,\n",
       " 'key_4': False,\n",
       " 'key_5': 'Hello World'}"
      ]
     },
     "execution_count": 1,
     "metadata": {},
     "output_type": "execute_result"
    }
   ],
   "source": [
    "# Take a sample dictionary\n",
    "\n",
    "sample_dict={ 'key_1':3.14,'key_2':1.618,\n",
    "             'key_3':True,'key_4':False,\n",
    "             'key_5':'Hello World'\n",
    "            \n",
    "}\n",
    "\n",
    "sample_dict"
   ]
  },
  {
   "cell_type": "markdown",
   "id": "522eda03",
   "metadata": {},
   "source": [
    "# Note: As you see that the whole dictionary is enclosed in curly braces, each key is separated from its value by a column \":\" , and commas are used to separated the items in the dictionary."
   ]
  },
  {
   "cell_type": "code",
   "execution_count": 2,
   "id": "210edcf5",
   "metadata": {},
   "outputs": [
    {
     "name": "stdout",
     "output_type": "stream",
     "text": [
      "3.14\n",
      "1.618\n",
      "True\n",
      "False\n",
      "Hello World\n"
     ]
    }
   ],
   "source": [
    "#Accessing to the value using the key.\n",
    "\n",
    "print(sample_dict['key_1'])\n",
    "print(sample_dict['key_2'])\n",
    "print(sample_dict['key_3'])\n",
    "print(sample_dict['key_4'])\n",
    "print(sample_dict['key_5'])    #key can be any immutable object like tuple."
   ]
  },
  {
   "cell_type": "code",
   "execution_count": 3,
   "id": "7259c887",
   "metadata": {},
   "outputs": [
    {
     "data": {
      "text/plain": [
       "{'name': 'Jayshree',\n",
       " 'age': 25,\n",
       " 'state': 'Maharashtra',\n",
       " 'Nationalism': 'Indian',\n",
       " 'Pin': 411014,\n",
       " 'Religion': 'Hindusm',\n",
       " 123: 'Female'}"
      ]
     },
     "execution_count": 3,
     "metadata": {},
     "output_type": "execute_result"
    }
   ],
   "source": [
    "# Take a sample dictionary\n",
    "\n",
    "sample_dict2={'name':'Jayshree','age':25,\n",
    "              'state':'Maharashtra','Nationalism':'Indian',\n",
    "              'Pin':411014,'Religion':'Hindusm',\n",
    "              123:'Female'\n",
    "    \n",
    "}\n",
    "\n",
    "sample_dict2"
   ]
  },
  {
   "cell_type": "code",
   "execution_count": 4,
   "id": "1cf1d995",
   "metadata": {},
   "outputs": [
    {
     "name": "stdout",
     "output_type": "stream",
     "text": [
      "Jayshree\n",
      "25\n",
      "Maharashtra\n",
      "Indian\n",
      "411014\n",
      "Hindusm\n"
     ]
    }
   ],
   "source": [
    "print(sample_dict2['name'])\n",
    "print(sample_dict2['age'])\n",
    "print(sample_dict2['state'])\n",
    "print(sample_dict2['Nationalism'])\n",
    "print(sample_dict2['Pin'])\n",
    "print(sample_dict2['Religion'])"
   ]
  },
  {
   "cell_type": "markdown",
   "id": "7ab4bbf9",
   "metadata": {},
   "source": [
    "# keys() function to get the keys in the dictionary\n",
    "\n"
   ]
  },
  {
   "cell_type": "code",
   "execution_count": 5,
   "id": "0b6719f5",
   "metadata": {},
   "outputs": [
    {
     "data": {
      "text/plain": [
       "dict_keys(['name', 'age', 'state', 'Nationalism', 'Pin', 'Religion', 123])"
      ]
     },
     "execution_count": 5,
     "metadata": {},
     "output_type": "execute_result"
    }
   ],
   "source": [
    "# What are the keys in the dictionary.\n",
    "\n",
    "sample_dict2.keys()"
   ]
  },
  {
   "cell_type": "code",
   "execution_count": 6,
   "id": "80db3893",
   "metadata": {},
   "outputs": [
    {
     "data": {
      "text/plain": [
       "dict_keys(['key_1', 'key_2', 'key_3', 'key_4', 'key_5'])"
      ]
     },
     "execution_count": 6,
     "metadata": {},
     "output_type": "execute_result"
    }
   ],
   "source": [
    "sample_dict.keys()"
   ]
  },
  {
   "cell_type": "markdown",
   "id": "8042ff7d",
   "metadata": {},
   "source": [
    "# values() function to the the values in the dictionary."
   ]
  },
  {
   "cell_type": "code",
   "execution_count": 7,
   "id": "dff0f62c",
   "metadata": {},
   "outputs": [
    {
     "data": {
      "text/plain": [
       "dict_values(['Jayshree', 25, 'Maharashtra', 'Indian', 411014, 'Hindusm', 'Female'])"
      ]
     },
     "execution_count": 7,
     "metadata": {},
     "output_type": "execute_result"
    }
   ],
   "source": [
    "sample_dict2.values()"
   ]
  },
  {
   "cell_type": "code",
   "execution_count": 8,
   "id": "42d4d39f",
   "metadata": {},
   "outputs": [
    {
     "data": {
      "text/plain": [
       "dict_values([3.14, 1.618, True, False, 'Hello World'])"
      ]
     },
     "execution_count": 8,
     "metadata": {},
     "output_type": "execute_result"
    }
   ],
   "source": [
    "sample_dict.values()"
   ]
  },
  {
   "cell_type": "markdown",
   "id": "31dfc73e",
   "metadata": {},
   "source": [
    "# Addition of a new key:values pair in the dictionary."
   ]
  },
  {
   "cell_type": "code",
   "execution_count": 17,
   "id": "733a7753",
   "metadata": {},
   "outputs": [
    {
     "name": "stdout",
     "output_type": "stream",
     "text": [
      "{'name': 'Jayshree', 'age': 25, 'state': 'Maharashtra', 'Nationalism': 'Indian', 'Pin': 411014, 'Religion': 'Hindusm', 123: 'Female', 'Mobile_No.:': 7801254535}\n",
      "{'name': 'Jayshree', 'age': 25, 'state': 'Maharashtra', 'Nationalism': 'Indian', 'Pin': 411014, 'Religion': 'Hindusm', 123: 'Female', 'Mobile_No.:': 7801254535}\n"
     ]
    }
   ],
   "source": [
    "print(sample_dict2)\n",
    "sample_dict2['Mobile_No.:']=7801254535\n",
    "print(sample_dict2)"
   ]
  },
  {
   "cell_type": "code",
   "execution_count": 18,
   "id": "bd603bfa",
   "metadata": {},
   "outputs": [
    {
     "data": {
      "text/plain": [
       "dict_keys(['name', 'age', 'state', 'Nationalism', 'Pin', 'Religion', 123, 'Mobile_No.:'])"
      ]
     },
     "execution_count": 18,
     "metadata": {},
     "output_type": "execute_result"
    }
   ],
   "source": [
    "sample_dict2.keys()"
   ]
  },
  {
   "cell_type": "markdown",
   "id": "93c5c3c2",
   "metadata": {},
   "source": [
    "# Deleting an item using del() function in the dictionary by key."
   ]
  },
  {
   "cell_type": "code",
   "execution_count": 19,
   "id": "39ca04da",
   "metadata": {},
   "outputs": [
    {
     "name": "stdout",
     "output_type": "stream",
     "text": [
      "{'name': 'Jayshree', 'age': 25, 'Nationalism': 'Indian', 'Pin': 411014, 'Religion': 'Hindusm', 123: 'Female', 'Mobile_No.:': 7801254535}\n"
     ]
    }
   ],
   "source": [
    "del(sample_dict2['state'])\n",
    "print(sample_dict2)"
   ]
  },
  {
   "cell_type": "markdown",
   "id": "58eade1c",
   "metadata": {},
   "source": [
    "# Verification using in or not in "
   ]
  },
  {
   "cell_type": "code",
   "execution_count": 21,
   "id": "72f85599",
   "metadata": {},
   "outputs": [
    {
     "name": "stdout",
     "output_type": "stream",
     "text": [
      "True\n",
      "False\n"
     ]
    }
   ],
   "source": [
    "print('age' in sample_dict2)\n",
    "print('name' not in sample_dict2)"
   ]
  },
  {
   "cell_type": "markdown",
   "id": "56facc02",
   "metadata": {},
   "source": [
    "# dict() function\n",
    "\n",
    "\n",
    "This function is used to create dictionary."
   ]
  },
  {
   "cell_type": "code",
   "execution_count": 23,
   "id": "8ace0830",
   "metadata": {},
   "outputs": [
    {
     "data": {
      "text/plain": [
       "{'family': 'music', 'type': 'pop', 'year': 2023, 'name': 'Jasmeen'}"
      ]
     },
     "execution_count": 23,
     "metadata": {},
     "output_type": "execute_result"
    }
   ],
   "source": [
    "dict_sample=dict(family='music',type='pop',year=2023,name='Jasmeen')\n",
    "dict_sample"
   ]
  },
  {
   "cell_type": "code",
   "execution_count": 24,
   "id": "c69f58cf",
   "metadata": {},
   "outputs": [
    {
     "data": {
      "text/plain": [
       "dict_keys(['family', 'type', 'year', 'name'])"
      ]
     },
     "execution_count": 24,
     "metadata": {},
     "output_type": "execute_result"
    }
   ],
   "source": [
    "dict_sample.keys()"
   ]
  },
  {
   "cell_type": "code",
   "execution_count": 25,
   "id": "5429ef53",
   "metadata": {},
   "outputs": [
    {
     "data": {
      "text/plain": [
       "dict_values(['music', 'pop', 2023, 'Jasmeen'])"
      ]
     },
     "execution_count": 25,
     "metadata": {},
     "output_type": "execute_result"
    }
   ],
   "source": [
    "dict_sample.values()"
   ]
  },
  {
   "cell_type": "code",
   "execution_count": 26,
   "id": "e6e28efc",
   "metadata": {},
   "outputs": [
    {
     "ename": "KeyError",
     "evalue": "1",
     "output_type": "error",
     "traceback": [
      "\u001b[1;31m---------------------------------------------------------------------------\u001b[0m",
      "\u001b[1;31mKeyError\u001b[0m                                  Traceback (most recent call last)",
      "\u001b[1;32m~\\AppData\\Local\\Temp\\ipykernel_2800\\1578904631.py\u001b[0m in \u001b[0;36m<module>\u001b[1;34m\u001b[0m\n\u001b[0;32m      1\u001b[0m \u001b[1;31m# Numerical index is not used to take the dictonary values. It gives a KeyError.\u001b[0m\u001b[1;33m\u001b[0m\u001b[1;33m\u001b[0m\u001b[0m\n\u001b[0;32m      2\u001b[0m \u001b[1;33m\u001b[0m\u001b[0m\n\u001b[1;32m----> 3\u001b[1;33m \u001b[0mdict_sample\u001b[0m\u001b[1;33m[\u001b[0m\u001b[1;36m1\u001b[0m\u001b[1;33m]\u001b[0m\u001b[1;33m\u001b[0m\u001b[1;33m\u001b[0m\u001b[0m\n\u001b[0m",
      "\u001b[1;31mKeyError\u001b[0m: 1"
     ]
    }
   ],
   "source": [
    "# Numerical index is not used to take the dictonary values. It gives a KeyError.\n",
    "\n",
    "dict_sample[1]"
   ]
  },
  {
   "cell_type": "markdown",
   "id": "53f576bd",
   "metadata": {},
   "source": [
    "# clear() function\n",
    "\n",
    "It removes all  the items in the dictionary and returns an empty dictionary."
   ]
  },
  {
   "cell_type": "code",
   "execution_count": 28,
   "id": "a58ed638",
   "metadata": {},
   "outputs": [
    {
     "name": "stdout",
     "output_type": "stream",
     "text": [
      "{'family': 'music', 'type': 'pop', 'year': 2023, 'name': 'Jasmeen'}\n",
      "{}\n"
     ]
    }
   ],
   "source": [
    "dict_sample=dict(family='music',type='pop',year=2023,name='Jasmeen')\n",
    "print(dict_sample)\n",
    "\n",
    "dict_sample.clear()\n",
    "print(dict_sample)"
   ]
  },
  {
   "cell_type": "markdown",
   "id": "50675b45",
   "metadata": {},
   "source": [
    "# copy() function\n",
    "\n",
    "\n",
    "It returns a shallow copy of the main dictionary."
   ]
  },
  {
   "cell_type": "code",
   "execution_count": 29,
   "id": "c4fe22ed",
   "metadata": {},
   "outputs": [
    {
     "name": "stdout",
     "output_type": "stream",
     "text": [
      "{'family': 'music', 'type': 'pop', 'year': 2023, 'name': 'Jasmeen'}\n",
      "{'family': 'music', 'type': 'pop', 'year': 2023, 'name': 'Jasmeen'}\n"
     ]
    }
   ],
   "source": [
    "sample_original=dict(family='music',type='pop',year=2023,name='Jasmeen')\n",
    "sample_copy=sample_original.copy()\n",
    "print(sample_original)\n",
    "print(sample_copy)"
   ]
  },
  {
   "cell_type": "code",
   "execution_count": 30,
   "id": "9bc6b6d0",
   "metadata": {},
   "outputs": [
    {
     "name": "stdout",
     "output_type": "stream",
     "text": [
      "{'family': 'music', 'type': 'pop', 'year': 2023, 'name': 'Jasmeen'}\n",
      "{'family': 'music', 'type': 'pop', 'year': 2023, 'name': 'Jasmeen'}\n"
     ]
    }
   ],
   "source": [
    "# This method can be made using '=' sign\n",
    "\n",
    "sample_copy=sample_original\n",
    "print(sample_copy)\n",
    "print(sample_original)"
   ]
  },
  {
   "cell_type": "markdown",
   "id": "d90791b4",
   "metadata": {},
   "source": [
    "# pop() fucntion\n",
    "\n",
    "It is used to remove the arbitrary items from the dictionary and returns as a tuple."
   ]
  },
  {
   "cell_type": "code",
   "execution_count": 32,
   "id": "705cd48c",
   "metadata": {},
   "outputs": [
    {
     "name": "stdout",
     "output_type": "stream",
     "text": [
      "('name', 'Jasmeen')\n",
      "{'family': 'music', 'type': 'pop', 'year': 2023}\n"
     ]
    }
   ],
   "source": [
    "sample=dict(family='music',type='pop',year=2023,name='Jasmeen')\n",
    "print(sample.popitem())\n",
    "print(sample)"
   ]
  },
  {
   "cell_type": "code",
   "execution_count": 35,
   "id": "9d9f6d6c",
   "metadata": {},
   "outputs": [
    {
     "name": "stdout",
     "output_type": "stream",
     "text": [
      "('name', 'Jasmeen')\n",
      "{'family': 'music', 'type': 'pop', 'year': 2023}\n"
     ]
    }
   ],
   "source": [
    "sample=dict(family='music',type='pop',year=2023,name='Jasmeen')\n",
    "print(sample.popitem())\n",
    "print(sample)"
   ]
  },
  {
   "cell_type": "markdown",
   "id": "485addbd",
   "metadata": {},
   "source": [
    "# get() function\n",
    "\n",
    "This method returns the value for the specified key if it is available in the dictionary. If the key is not available\n",
    "it returns None."
   ]
  },
  {
   "cell_type": "code",
   "execution_count": 37,
   "id": "737f692d",
   "metadata": {},
   "outputs": [
    {
     "name": "stdout",
     "output_type": "stream",
     "text": [
      "Jasmeen\n",
      "{'family': 'music', 'type': 'pop', 'year': 2023, 'name': 'Jasmeen'}\n"
     ]
    }
   ],
   "source": [
    "sample2=dict(family='music',type='pop',year=2023,name='Jasmeen')\n",
    "print(sample2.get('name'))\n",
    "print(sample2)"
   ]
  },
  {
   "cell_type": "markdown",
   "id": "a45a75d2",
   "metadata": {},
   "source": [
    "# fromkeys() fuction\n",
    "\n",
    "It returns a new dictionary with the certain sequence of the items as the keys of the dictionary and values\n",
    "are assigned with None."
   ]
  },
  {
   "cell_type": "code",
   "execution_count": 38,
   "id": "0e39559a",
   "metadata": {},
   "outputs": [
    {
     "name": "stdout",
     "output_type": "stream",
     "text": [
      "{'A': None, 'B': None, 'C': None, 'D': None}\n"
     ]
    }
   ],
   "source": [
    "keys={'A','B','C','D'}\n",
    "sequence=dict.fromkeys(keys)\n",
    "print(sequence)"
   ]
  },
  {
   "cell_type": "markdown",
   "id": "674715ab",
   "metadata": {},
   "source": [
    "# update() function.\n",
    "\n",
    "It integrates a dictionary with another dictionary or with an iterable of key:value pairs."
   ]
  },
  {
   "cell_type": "code",
   "execution_count": 42,
   "id": "9005742e",
   "metadata": {},
   "outputs": [
    {
     "data": {
      "text/plain": [
       "{'Biscuit': 'Oreo', 'Oil': 'Hair oil', 'soap': 'Lux', 'Sampoo': 'Dove'}"
      ]
     },
     "execution_count": 42,
     "metadata": {},
     "output_type": "execute_result"
    }
   ],
   "source": [
    "product={'Biscuit':'Oreo',\n",
    "       'Oil':'Hair oil',\n",
    "       'soap':'Lux',\n",
    "        'Sampoo':'Dove',\n",
    "       }\n",
    "\n",
    "product"
   ]
  },
  {
   "cell_type": "code",
   "execution_count": 43,
   "id": "3cbdaa9b",
   "metadata": {},
   "outputs": [
    {
     "name": "stdout",
     "output_type": "stream",
     "text": [
      "{'Biscuit': 'Oreo', 'Oil': 'Hair oil', 'soap': 'Lux', 'Sampoo': 'Dove', 'name': 'Jayshree', 'age': 25, 'Nationalism': 'Indian', 'Pin': 411014, 'Religion': 'Hindusm', 123: 'Female', 'Mobile_No.:': 7801254535}\n"
     ]
    }
   ],
   "source": [
    "product.update(sample_dict2)\n",
    "print(product)"
   ]
  },
  {
   "cell_type": "markdown",
   "id": "4dfd65fc",
   "metadata": {},
   "source": [
    "# Items() function.\n",
    "\n",
    "It returns a list of key:value pairs in a dictionary. The element in the list are tuples. "
   ]
  },
  {
   "cell_type": "code",
   "execution_count": 44,
   "id": "b47e90b2",
   "metadata": {},
   "outputs": [
    {
     "data": {
      "text/plain": [
       "{'Biscuit': 'Oreo', 'Oil': 'Hair oil', 'soap': 'Lux', 'Sampoo': 'Dove'}"
      ]
     },
     "execution_count": 44,
     "metadata": {},
     "output_type": "execute_result"
    }
   ],
   "source": [
    "product={'Biscuit':'Oreo',\n",
    "       'Oil':'Hair oil',\n",
    "       'soap':'Lux',\n",
    "        'Sampoo':'Dove',\n",
    "       }\n",
    "\n",
    "product"
   ]
  },
  {
   "cell_type": "code",
   "execution_count": 45,
   "id": "74872a4f",
   "metadata": {},
   "outputs": [
    {
     "data": {
      "text/plain": [
       "dict_items([('Biscuit', 'Oreo'), ('Oil', 'Hair oil'), ('soap', 'Lux'), ('Sampoo', 'Dove')])"
      ]
     },
     "execution_count": 45,
     "metadata": {},
     "output_type": "execute_result"
    }
   ],
   "source": [
    "product.items()"
   ]
  },
  {
   "cell_type": "markdown",
   "id": "faad655a",
   "metadata": {},
   "source": [
    "# remove() function "
   ]
  },
  {
   "cell_type": "code",
   "execution_count": 47,
   "id": "958cffe9",
   "metadata": {},
   "outputs": [
    {
     "name": "stdout",
     "output_type": "stream",
     "text": [
      "{'Arushi': 22, 'Anuradha': 21, 'Mani': 21, 'Haritha': 21}\n",
      "{'Arushi': 22, 'Mani': 21, 'Haritha': 21}\n"
     ]
    }
   ],
   "source": [
    "test_dict = {\"Arushi\": 22, \"Anuradha\": 21, \"Mani\": 21, \"Haritha\": 21}\n",
    "print(test_dict)\n",
    "\n",
    "\n",
    "#Remove function used as pop function.\n",
    "test_dict.pop('Anuradha')\n",
    "print(test_dict)"
   ]
  },
  {
   "cell_type": "code",
   "execution_count": 58,
   "id": "0e6c8b9c",
   "metadata": {},
   "outputs": [
    {
     "name": "stdout",
     "output_type": "stream",
     "text": [
      "Biscuit\n",
      "Oil\n",
      "soap\n",
      "Sampoo\n"
     ]
    }
   ],
   "source": [
    "# 'for' loop to print the items of the dictionary by using itmes() method.\n",
    "\n",
    "product={'Biscuit':'Oreo',\n",
    "       'Oil':'Hair oil',\n",
    "       'soap':'Lux',\n",
    "        'Sampoo':'Dove',\n",
    "       }\n",
    "\n",
    "for x in product:\n",
    "    print(x)"
   ]
  },
  {
   "cell_type": "code",
   "execution_count": 54,
   "id": "5e550de1",
   "metadata": {},
   "outputs": [
    {
     "name": "stdout",
     "output_type": "stream",
     "text": [
      "('Biscuit', 'Oreo')\n",
      "('Oil', 'Hair oil')\n",
      "('soap', 'Lux')\n",
      "('Sampoo', 'Dove')\n"
     ]
    }
   ],
   "source": [
    "product={'Biscuit':'Oreo',\n",
    "       'Oil':'Hair oil',\n",
    "       'soap':'Lux',\n",
    "        'Sampoo':'Dove',\n",
    "       }\n",
    "\n",
    "for x in product.items():\n",
    "    print(x)"
   ]
  },
  {
   "cell_type": "code",
   "execution_count": 55,
   "id": "379d3627",
   "metadata": {},
   "outputs": [
    {
     "name": "stdout",
     "output_type": "stream",
     "text": [
      "Oreo\n",
      "Hair oil\n",
      "Lux\n",
      "Dove\n"
     ]
    }
   ],
   "source": [
    "product={'Biscuit':'Oreo',\n",
    "       'Oil':'Hair oil',\n",
    "       'soap':'Lux',\n",
    "        'Sampoo':'Dove',\n",
    "       }\n",
    "\n",
    "for x in product.values():\n",
    "    print(x)"
   ]
  },
  {
   "cell_type": "code",
   "execution_count": 59,
   "id": "6e2c4d74",
   "metadata": {},
   "outputs": [
    {
     "name": "stdout",
     "output_type": "stream",
     "text": [
      "Biscuit\n",
      "Oil\n",
      "soap\n",
      "Sampoo\n"
     ]
    }
   ],
   "source": [
    "product={'Biscuit':'Oreo',\n",
    "       'Oil':'Hair oil',\n",
    "       'soap':'Lux',\n",
    "        'Sampoo':'Dove',\n",
    "       }\n",
    "\n",
    "for x in product.keys():\n",
    "    print(x)"
   ]
  },
  {
   "cell_type": "code",
   "execution_count": null,
   "id": "111335dc",
   "metadata": {},
   "outputs": [],
   "source": []
  }
 ],
 "metadata": {
  "kernelspec": {
   "display_name": "Python 3 (ipykernel)",
   "language": "python",
   "name": "python3"
  },
  "language_info": {
   "codemirror_mode": {
    "name": "ipython",
    "version": 3
   },
   "file_extension": ".py",
   "mimetype": "text/x-python",
   "name": "python",
   "nbconvert_exporter": "python",
   "pygments_lexer": "ipython3",
   "version": "3.9.13"
  }
 },
 "nbformat": 4,
 "nbformat_minor": 5
}
