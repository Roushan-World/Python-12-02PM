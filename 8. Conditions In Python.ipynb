{
 "cells": [
  {
   "cell_type": "markdown",
   "id": "8b609cb4",
   "metadata": {},
   "source": [
    "# 8. Conditions in Python\n",
    "\n",
    "\n",
    "# Comparison operators\n",
    "\n",
    "\n",
    "Comparison operators compare some value or operands and based on a condition, produce a Boolean. Python has six comparison operators below:\n",
    "\n",
    "\n",
    "    * Less than (<)\n",
    "    * Less than or equal to(<=)\n",
    "    * Greater than(>)\n",
    "    * Greater than or equal to(>=)\n",
    "    * Equal to(==)\n",
    "    * Not equal to(!=)"
   ]
  },
  {
   "cell_type": "code",
   "execution_count": 2,
   "id": "26200732",
   "metadata": {},
   "outputs": [
    {
     "name": "stdout",
     "output_type": "stream",
     "text": [
      "True\n",
      "False\n"
     ]
    }
   ],
   "source": [
    "ratio=1.618\n",
    "\n",
    "\n",
    "print(ratio<2)\n",
    "print(ratio>2)"
   ]
  },
  {
   "cell_type": "code",
   "execution_count": 7,
   "id": "39db5813",
   "metadata": {},
   "outputs": [
    {
     "name": "stdout",
     "output_type": "stream",
     "text": [
      "True\n",
      "False\n",
      "True\n",
      "True\n"
     ]
    }
   ],
   "source": [
    "print(ratio<=5)\n",
    "print(ratio>=2)\n",
    "print(ratio==1.618)\n",
    "print(ratio!=4)"
   ]
  },
  {
   "cell_type": "markdown",
   "id": "e7bd617f",
   "metadata": {},
   "source": [
    "# Braching (if, elif and else)\n",
    "\n",
    "    * Decision making is required when we want to execute a code only if a certain condition is satisfied.\n",
    "    * The if/elif/else statement is used in Python for decision making.\n",
    "    * An else statement can be combined with an if statement.\n",
    "    * An else statement contains the block of code that executes if the conditional expression in the if statement resolves to 0 or a false value.\n",
    "    * The else statement is an optional statement and there could be at most only one else statement following if.\n",
    "    * The elif statement follows you to check multiple expression for True and execute a block of code as soon as one of the condition evaluates to True.\n",
    "    * Similar to the else the elif statement is optional.\n",
    "    * However, unlike else, for which there can be almost one statement, there can be an arbitrary number of elif statement following an if."
   ]
  },
  {
   "cell_type": "code",
   "execution_count": 22,
   "id": "efb71f54",
   "metadata": {},
   "outputs": [
    {
     "name": "stdout",
     "output_type": "stream",
     "text": [
      "The number 3.14 is greater than the ratio 1.618.\n",
      "The number 3.14 is greater then the ratio 1.618\n",
      "Done!\n"
     ]
    },
    {
     "data": {
      "text/plain": [
       "'F-strings are faster than the two most commonly used string formatting \\nmechanisms, which are % formatting and str.format().'"
      ]
     },
     "execution_count": 22,
     "metadata": {},
     "output_type": "execute_result"
    }
   ],
   "source": [
    "pi= 3.14\n",
    "ratio=1.618\n",
    "\n",
    "if pi>ratio:\n",
    "    print(f'The number {pi} is greater than the ratio {ratio}.')   # f string.\n",
    "    print('The number 3.14 is greater then the ratio 1.618')\n",
    "    \n",
    "print('Done!')\n",
    "\n",
    "'''F-strings are faster than the two most commonly used string formatting \n",
    "mechanisms, which are % formatting and str.format().'''"
   ]
  },
  {
   "cell_type": "code",
   "execution_count": 26,
   "id": "1ab1c37d",
   "metadata": {},
   "outputs": [
    {
     "name": "stdout",
     "output_type": "stream",
     "text": [
      "The number ratio 1.618 is lower than the numper pi 3.14.\n",
      "Done!\n"
     ]
    }
   ],
   "source": [
    "pi=3.14\n",
    "\n",
    "ratio=1.618\n",
    "\n",
    "if pi<ratio:\n",
    "    print(f'The number pi {pi} is greater than the ratio {ratio}.')\n",
    "    \n",
    "    \n",
    "else:\n",
    "    print(f'The number ratio { ratio} is lower than the numper pi {pi}.')\n",
    "    \n",
    "print('Done!')\n"
   ]
  },
  {
   "cell_type": "code",
   "execution_count": 29,
   "id": "dfad6ce9",
   "metadata": {},
   "outputs": [
    {
     "name": "stdout",
     "output_type": "stream",
     "text": [
      "You should go to KinderGarden.\n"
     ]
    }
   ],
   "source": [
    "age=5\n",
    "\n",
    "if age>6:\n",
    "    print('You can go to primary school')\n",
    "    \n",
    "elif age==5:\n",
    "    print('You should go to KinderGarden.')\n",
    "    \n",
    "    \n",
    "else:\n",
    "    print('You are a Baby')"
   ]
  },
  {
   "cell_type": "code",
   "execution_count": 31,
   "id": "208adf85",
   "metadata": {},
   "outputs": [
    {
     "name": "stdout",
     "output_type": "stream",
     "text": [
      "Enter you age: 7\n",
      "You are Teenager.\n"
     ]
    }
   ],
   "source": [
    "# Write a program to check whether a peson is elegible  for voting or not.\n",
    "\n",
    "age=int(input('Enter you age: '))\n",
    "\n",
    "\n",
    "if age>=18:\n",
    "    print('You are elegible for voting.')\n",
    "    \n",
    "else:\n",
    "    print('You are Teenager.')\n",
    "    \n",
    "    "
   ]
  },
  {
   "cell_type": "code",
   "execution_count": 32,
   "id": "9703b646",
   "metadata": {},
   "outputs": [
    {
     "name": "stdout",
     "output_type": "stream",
     "text": [
      "Enter your age.12\n",
      "you can go to home watch the movie with your family.\n"
     ]
    }
   ],
   "source": [
    "# write a program if your is age is 20 above then you can watch movie in theater \n",
    "# otherwise you can watch movie at your home with family.\n",
    "\n",
    "age=int(input('Enter your age.'))\n",
    "\n",
    "if age>=20:\n",
    "    \n",
    "    print('you can watch the movie in therater.')\n",
    "    \n",
    "    \n",
    "else:\n",
    "    \n",
    "    print('you can go to home watch the movie with your family.')"
   ]
  },
  {
   "cell_type": "code",
   "execution_count": 33,
   "id": "aa2074ed",
   "metadata": {},
   "outputs": [
    {
     "name": "stdout",
     "output_type": "stream",
     "text": [
      "Enter your number.25\n",
      "You entered odd number.\n"
     ]
    }
   ],
   "source": [
    "# Write a program to check whether a number is entered by user is even or odd.\n",
    "\n",
    "number=int(input('Enter your number.'))\n",
    "\n",
    "\n",
    "if number%2==0:\n",
    "    print('You entered even number.')\n",
    "    \n",
    "    \n",
    "else:\n",
    "     print('You entered odd number.')\n"
   ]
  },
  {
   "cell_type": "code",
   "execution_count": 35,
   "id": "036c0d84",
   "metadata": {},
   "outputs": [
    {
     "name": "stdout",
     "output_type": "stream",
     "text": [
      "Enter your number.5166161615616\n",
      "Your number is not divided by 7.\n"
     ]
    }
   ],
   "source": [
    "# Write a program to check whether a number is divisible by 7 or not.\n",
    "\n",
    "num=int(input('Enter your number.'))\n",
    "if num%7==0:\n",
    "    print('Your number is divided by 7.')\n",
    "else:\n",
    "    print('Your number is not divided by 7.')"
   ]
  },
  {
   "cell_type": "code",
   "execution_count": 36,
   "id": "c26c4025",
   "metadata": {},
   "outputs": [
    {
     "name": "stdout",
     "output_type": "stream",
     "text": [
      "Enter your number.23\n",
      "Your name is not found.\n"
     ]
    }
   ],
   "source": [
    "# Write a progtram to display your name if a number is entered by the user is a multiple of 5.\n",
    "\n",
    "num=int(input('Enter your number.'))\n",
    "if num%5==0:\n",
    "    print('Your name is Jayshree.')\n",
    "else:\n",
    "     print('Your name is not found.')"
   ]
  },
  {
   "cell_type": "code",
   "execution_count": 2,
   "id": "de6a8fad",
   "metadata": {},
   "outputs": [
    {
     "name": "stdout",
     "output_type": "stream",
     "text": [
      "Enter any number 1 to 7:4\n",
      "Thursday\n"
     ]
    }
   ],
   "source": [
    "# Write a program to dispaly week name if you entered 1 to display \n",
    "# Monday and 2 to display Tuesday.\n",
    "\n",
    "\n",
    "num1=int(input('Enter any number 1 to 7:'))\n",
    "if num1==1:\n",
    "        print('Monday')\n",
    "        \n",
    "elif num1==2:\n",
    "    print('Tuesday')\n",
    "elif num1==3:\n",
    "    print('wednesday')\n",
    "elif num1==4:\n",
    "    print('Thursday')\n",
    "elif num1==5:\n",
    "    print('Friday')    \n",
    "elif num1==6:\n",
    "    print('Saturday')    \n",
    "elif num1==7:\n",
    "    print('Sunday')        \n",
    "else:\n",
    "    print('you enter the invalid number:')"
   ]
  },
  {
   "cell_type": "code",
   "execution_count": 3,
   "id": "9b08f5a8",
   "metadata": {},
   "outputs": [
    {
     "name": "stdout",
     "output_type": "stream",
     "text": [
      "Enter your percentage: 70\n",
      "Your Remark is Excellent: 70\n"
     ]
    }
   ],
   "source": [
    "# Write a program to accept percentage and display the Category \n",
    "# according to the following Criteria:\n",
    "\n",
    "# Percentage----------------> Category\n",
    "# <40-----------------------> Failed\n",
    "# >=40 and <55---------------> Fair\n",
    "# >=55 and <65 --------------> Good\n",
    "# >= 65---------------------> Excellent.\n",
    "\n",
    "\n",
    "percentage=int(input('Enter your percentage: '))\n",
    "\n",
    "if percentage<40:\n",
    "    print('You are failed:',percentage)\n",
    "    \n",
    "elif percentage>=40 and percentage<50:\n",
    "    print('Your Remark is Fair:',percentage)\n",
    "elif percentage>=55 and percentage<65:\n",
    "    print('Your Remark is Good:',percentage)\n",
    "elif percentage>=65:\n",
    "    print('Your Remark is Excellent:',percentage)"
   ]
  },
  {
   "cell_type": "code",
   "execution_count": 6,
   "id": "99385475",
   "metadata": {},
   "outputs": [
    {
     "name": "stdout",
     "output_type": "stream",
     "text": [
      "Enter your percentage: 65\n",
      "You are Extellent:\n"
     ]
    }
   ],
   "source": [
    "Percentage=int(input('Enter your percentage: '))\n",
    "if Percentage<40:\n",
    "    print('you are failed:')\n",
    "elif Percentage>=40 and Percentage<55:\n",
    "    print('You are fair:')\n",
    "elif Percentage>=55 and Percentage<65:\n",
    "    print('You are good')\n",
    "elif Percentage>=65:\n",
    "    print('You are Extellent:')"
   ]
  },
  {
   "cell_type": "code",
   "execution_count": 14,
   "id": "b7ef6342",
   "metadata": {},
   "outputs": [
    {
     "name": "stdout",
     "output_type": "stream",
     "text": [
      "Enter your percentage: 70\n",
      "You are Grade is A: \n"
     ]
    }
   ],
   "source": [
    "#  Accept the percentage form the user and display the \n",
    "# Grade according to the following criteria:\n",
    "\n",
    "# Below 25-------------> D\n",
    "# 25 to 45 ------------> C\n",
    "# 45 to 50-------------> B\n",
    "# 50 to 60 ------------> B+\n",
    "# 60 to 80 ------------> A\n",
    "# Above 80-------------> A+\n",
    "\n",
    "percentage=int(input('Enter your percentage: '))\n",
    "if percentage<25:\n",
    "    print('You are Grade is D: ')\n",
    "elif percentage>=25 and percentage<45:\n",
    "    print('You are Grade is C: ')\n",
    "elif percentage>=45 and Percentage<50:\n",
    "    print('You are Grade is B: ')\n",
    "elif percentage>=50 and Percentage<60:\n",
    "    print('You are Grade is B+: ')\n",
    "elif percentage>=60 and Percentage<80:\n",
    "    print('You are Grade is A: ')\n",
    "elif percentage>=80:\n",
    "    print('You are Grade is A+ : ')\n"
   ]
  },
  {
   "cell_type": "code",
   "execution_count": 15,
   "id": "760ab52d",
   "metadata": {},
   "outputs": [
    {
     "name": "stdout",
     "output_type": "stream",
     "text": [
      "Enter your age: 36\n",
      "Enter your age: 35\n",
      "Age of Olderst Person is: 36\n"
     ]
    }
   ],
   "source": [
    "# Accept the age of 2 people and display the olderst person.\n",
    "\n",
    "age1=int(input('Enter your age: '))\n",
    "age2=int(input('Enter your age: '))\n",
    "\n",
    "if age1>age2:\n",
    "    print('Age of Olderst Person is:',age1)\n",
    "    \n",
    "else:\n",
    "    print('Age of Olderst Person is:',age2)"
   ]
  },
  {
   "cell_type": "code",
   "execution_count": null,
   "id": "97f9e2fa",
   "metadata": {},
   "outputs": [],
   "source": [
    "# Accept the age of 4 people and display the olderst person.\n",
    "\n",
    "age1=input(input('Enter your age: '))\n",
    "age2=input(input('Enter your age: '))\n",
    "age3=input(input('Enter your age: '))\n",
    "age4=input(input('Enter your age: '))\n",
    "\n",
    "if age1>age2 and age1>age3 and age1>age4:\n",
    "    print('Age of Oldeset Person is:',age1)"
   ]
  },
  {
   "cell_type": "code",
   "execution_count": 17,
   "id": "e1a0caf1",
   "metadata": {},
   "outputs": [
    {
     "name": "stdout",
     "output_type": "stream",
     "text": [
      "Enter you are age: 85\n",
      "Enter you are age: 45\n",
      "Enter you are age: 63\n",
      "Enter you are age: 99\n",
      "Age of oldest person4 is: \n"
     ]
    }
   ],
   "source": [
    "person1=int(input('Enter you are age: '))\n",
    "person2=int(input('Enter you are age: '))\n",
    "person3=int(input('Enter you are age: '))\n",
    "person4=int(input('Enter you are age: '))\n",
    "if person1>person2 and person1>person3 and person1>person4:\n",
    "    print('Age of oldest person1 is: ')\n",
    "elif person2>person1 and person2>person3 and person2>person4:\n",
    "    print('Age of oldest person2 is: ')\n",
    "elif person3>person1 and person3>person2 and person3>person4:\n",
    "    print('Age of oldest person3 is: ')\n",
    "elif person4>person1 and person4>person2 and person4>person3:\n",
    "    print('Age of oldest person4 is: ')"
   ]
  },
  {
   "cell_type": "code",
   "execution_count": 19,
   "id": "663ac9a9",
   "metadata": {},
   "outputs": [
    {
     "name": "stdout",
     "output_type": "stream",
     "text": [
      "Enter you are first number: 12\n",
      "Enter you are second number: 13\n",
      "Enter you are third number: 14\n",
      "The samllest number is first: 12\n"
     ]
    }
   ],
   "source": [
    "# Write a program to find the smallest number out of three number accepted from the user.\n",
    "num1=int(input('Enter you are first number: '))\n",
    "num2=int(input('Enter you are second number: '))\n",
    "num3=int(input('Enter you are third number: '))\n",
    "if num1<num2 and num1<num3:\n",
    "    print('The samllest number is first:',num1)\n",
    "elif num2<num1 and num2<num3:\n",
    "    print('The samllest number is second:',num2)\n",
    "elif num3<num1 and num3<num2:\n",
    "    print('The samllest number is third:',num3)"
   ]
  },
  {
   "cell_type": "code",
   "execution_count": 21,
   "id": "108e219b",
   "metadata": {},
   "outputs": [
    {
     "name": "stdout",
     "output_type": "stream",
     "text": [
      "Enter any number:-3\n",
      "Number is Negative\n"
     ]
    }
   ],
   "source": [
    "# write a program to check whether a number is positive or negative entered by the user.\n",
    "\n",
    "num1=int(input('Enter any number:'))\n",
    "\n",
    "if num1>=0:\n",
    "    print('Number is Positive:')\n",
    "    \n",
    "else:\n",
    "    print('Number is Negative')"
   ]
  },
  {
   "cell_type": "code",
   "execution_count": 29,
   "id": "33001b5f",
   "metadata": {},
   "outputs": [
    {
     "name": "stdout",
     "output_type": "stream",
     "text": [
      "Enter you are age: 74\n",
      "You are Senior Citizen: 74\n"
     ]
    }
   ],
   "source": [
    "# Write a program to check whether a person is senior citizen(upto 65),Adult(18-64), \n",
    "# and Teenager(15-17).\n",
    "num=int(input('Enter you are age: '))\n",
    "if num>15 and num<=17:\n",
    "    print('You are Teenager:',num)\n",
    "elif num>=18 and num<64:\n",
    "    print('You are Adult:',num)\n",
    "elif num>65:\n",
    "    print('You are Senior Citizen:',num)\n"
   ]
  },
  {
   "cell_type": "code",
   "execution_count": 31,
   "id": "57a29169",
   "metadata": {},
   "outputs": [
    {
     "name": "stdout",
     "output_type": "stream",
     "text": [
      "Enter number to 1 to 12: 11\n",
      "November\n"
     ]
    }
   ],
   "source": [
    "# Write a program to display month name 1 for January, 2 for February and 3 for March etc.\n",
    "num=int(input('Enter number to 1 to 12: '))\n",
    "if num==1:\n",
    "    print('January')\n",
    "elif num==2:\n",
    "    print('February')\n",
    "elif num==3:\n",
    "    print('March')\n",
    "elif num==4:\n",
    "    print('April')\n",
    "elif num==5:\n",
    "    print('May')\n",
    "elif num==6:\n",
    "    print('June')\n",
    "elif num==7:\n",
    "    print('July')\n",
    "elif num==8:\n",
    "    print('Augest')\n",
    "elif num==9:\n",
    "    print('September')\n",
    "elif num==10:\n",
    "    print('Octomber')\n",
    "elif num==11:\n",
    "    print('November')\n",
    "elif num==12:\n",
    "    print('December')\n",
    "else:\n",
    "    print('You entered the invalid number')"
   ]
  },
  {
   "cell_type": "code",
   "execution_count": 12,
   "id": "c3a4af0d",
   "metadata": {},
   "outputs": [
    {
     "name": "stdout",
     "output_type": "stream",
     "text": [
      "Enter the price of Bike: 75000\n",
      "Tax to be paid: 7500.0\n",
      "Total Price of your Bike is: 82500.0\n"
     ]
    }
   ],
   "source": [
    "# Write a program to accept the cost price of a bike and display the road tax to be paid according\n",
    "# to the following criteria:\n",
    "\n",
    "# Cost Price(in Rs)--------------------> Tax\n",
    "# >100000------------------------------> 15%\n",
    "# 50000 and <=100000-------------------> 10%\n",
    "#<=50000 ------------------------------> 5%\n",
    "\n",
    "\n",
    "\n",
    "\n",
    "price=int(input('Enter the price of Bike: '))\n",
    "\n",
    "if price>=100000:\n",
    "    total_tax=15/100*price\n",
    "    \n",
    "    \n",
    "elif price>50000 and price<=1000000:\n",
    "    total_tax=10/100*price\n",
    "    \n",
    "    \n",
    "else:\n",
    "    total_tax=5/100*price\n",
    "print('Tax to be paid:',total_tax)\n",
    "print('Total Price of your Bike is:',price+total_tax)"
   ]
  },
  {
   "cell_type": "code",
   "execution_count": 18,
   "id": "8ad8f142",
   "metadata": {},
   "outputs": [
    {
     "name": "stdout",
     "output_type": "stream",
     "text": [
      "Enter the price of Bike: 30000\n",
      "Total Tax to be Paid: 3000.0\n",
      "Total Price of the Bike 33000.0\n"
     ]
    }
   ],
   "source": [
    "# Write a program to accept the cost price of a bike and display the road tax to be paid according\n",
    "# to the following criteria:\n",
    "\n",
    "# Cost Price(in Rs)--------------------> Tax\n",
    "# >=200000-------------------------------> 25%\n",
    "# 150000 and <200000-------------------> 20%\n",
    "# 100000 and <= 1500000 ----------------> 15%\n",
    "# 50000 and <=100000 -------------------> 10%\n",
    "\n",
    "price=int(input('Enter the price of Bike: '))\n",
    "\n",
    "if price>=200000:\n",
    "    total_tax=25/100*price\n",
    "elif price>150000 and price<200000:\n",
    "    total_tax=20/100*price\n",
    "elif price>100000 and price<=150000:\n",
    "    total_tax=15/100*price\n",
    "else:\n",
    "    total_tax=10/100*price\n",
    "print('Total Tax to be Paid:',total_tax)\n",
    "print('Total Price of the Bike',total_tax+price)\n"
   ]
  },
  {
   "cell_type": "code",
   "execution_count": 23,
   "id": "03f49c7e",
   "metadata": {},
   "outputs": [
    {
     "name": "stdout",
     "output_type": "stream",
     "text": [
      "Enter Your City Name:punjab\n",
      "Golden Temple , Ram Bagh Palace\n"
     ]
    }
   ],
   "source": [
    "# Write a program to enterd a city name by user and display monument of the city.\n",
    "\n",
    "# city------------------> Monument.\n",
    "\n",
    "# Delhi----------------> 'Red Fort','India Gate','Lotus Temple'\n",
    "# Agra-----------------> Taj Mahal\n",
    "# Jaipur --------------> Jal Mahal\n",
    "# Pune ----------------> Shaniwar Wada\n",
    "# Mumbai --------------> Gateway of India\n",
    "# Bihar ---------------> Sher ShahSuri Tomb\n",
    "# Rajasthan -----------> 'SherGrah Fort','Vijay Stambh','Grave of Layla Munjun'\n",
    "# Punjab --------------> 'Golden Temple','Ram Bagh Palace'\n",
    "# Madhya Pradesh------->'Elephant Place','Bhojpur Palace','Heliodorus Pillars'\n",
    "# Kerala --------------> 'Dutch Palace','Poonjar Palace'\n",
    "\n",
    "\n",
    "city=str(input('Enter Your City Name:'))\n",
    "\n",
    "if city.lower()=='delhi':\n",
    "    print('Red Fort')\n",
    "elif city.lower()=='agra':\n",
    "    print(' Taj Mahal')    \n",
    "elif city.lower()=='jaipur':\n",
    "    print(' Jal Mahal')\n",
    "elif city=='pune':\n",
    "    print('Shaniwar Wada')\n",
    "elif city.lower()=='mumbai':\n",
    "    print('Gateway of India')\n",
    "elif city.lower()=='bihar':\n",
    "    print('Sher Sahasuri Tomb') \n",
    "elif city.lower()=='rajasthan':\n",
    "    print('SherGrah Fort',',','Vijay Stambh',',','Grave of Layla Munjun')  \n",
    "elif city.lower()=='punjab':\n",
    "    print('Golden Temple',',','Ram Bagh Palace')\n",
    "elif city.lower()=='madhya pradesh':\n",
    "    print('Elephant palace',',','Bhojpur Palace',',','Heliodorus Pillars')\n",
    "elif city.lower()=='kerla':\n",
    "    print('Dutch Palace',',','Poonjar Palace') \n",
    "else:\n",
    "    print('You entered invalid city name:')"
   ]
  },
  {
   "cell_type": "code",
   "execution_count": null,
   "id": "c1bc17cd",
   "metadata": {},
   "outputs": [],
   "source": [
    "# Write a program to check whether a number is divisible by  2 and 3 both.\n",
    "# Accept the age of 4 people and display the youngest one.\n",
    "# Write a program to check a character in your name is vowel or consonent. "
   ]
  },
  {
   "cell_type": "code",
   "execution_count": 6,
   "id": "a1fcfcc6",
   "metadata": {},
   "outputs": [
    {
     "name": "stdout",
     "output_type": "stream",
     "text": [
      "Enter your number is:12\n",
      "Number is divisible by 2 and 3 Both\n"
     ]
    }
   ],
   "source": [
    "num=int(input('Enter your number is:'))\n",
    "\n",
    "\n",
    "if num%2==0 and num%3==0:\n",
    "    print('Number is divisible by 2 and 3 Both')\n",
    "else:\n",
    "    print(\"Number is not divisible by Both\")"
   ]
  },
  {
   "cell_type": "code",
   "execution_count": 7,
   "id": "6936c0e8",
   "metadata": {},
   "outputs": [
    {
     "name": "stdout",
     "output_type": "stream",
     "text": [
      "Enter Your Age:23\n",
      "Enter Your Age:32\n",
      "Enter Your Age:56\n",
      "Enter Your Age:89\n",
      "Your Are The Youngest Person is 1: 23\n"
     ]
    }
   ],
   "source": [
    "# accept the age of 4 people and display the younges one.\n",
    "person1=int(input('Enter Your Age:'))\n",
    "person2=int(input('Enter Your Age:'))\n",
    "person3=int(input('Enter Your Age:'))\n",
    "person4=int(input('Enter Your Age:'))\n",
    "\n",
    "if person1<person2 and person1<person3 and person1<person4:\n",
    "    print('Your Are The Youngest Person is 1:',person1)\n",
    "elif person2<person1 and person2<person3 and person2<person4:\n",
    "    print('You Are The Youngest Person is 2:',person2)\n",
    "elif person3<person1 and person3<person2 and person3<person4:\n",
    "    print('You Are The Youngest Person is 3:',person3)\n",
    "elif person4<person1 and person4<person2 and person4<person3:\n",
    "    print('You Are The Youngest Person is 4:',person4)"
   ]
  },
  {
   "cell_type": "code",
   "execution_count": 10,
   "id": "9b74c4aa",
   "metadata": {},
   "outputs": [
    {
     "name": "stdout",
     "output_type": "stream",
     "text": [
      "Enter your NameA\n",
      "Entered Character is Vowel\n"
     ]
    }
   ],
   "source": [
    "# Write a program to check a character in your name is vowel or consonent. \n",
    "\n",
    "ch=input('Enter your Name')\n",
    "vowel='AEIOUaeiou'\n",
    "\n",
    "if ch in vowel:\n",
    "    print('Entered Character is Vowel')\n",
    "else:\n",
    "    print('Entered Character is Consonent')"
   ]
  },
  {
   "cell_type": "code",
   "execution_count": 11,
   "id": "dfb32463",
   "metadata": {},
   "outputs": [
    {
     "name": "stdout",
     "output_type": "stream",
     "text": [
      "Enter your Name: Jaishri\n",
      "Vowels: 3\n",
      "Consonent: 4\n"
     ]
    }
   ],
   "source": [
    "vowels=['a','e','i','o','u','A','E','I','O','U']\n",
    "ch=input('Enter your Name: ')\n",
    "vow_ch=0\n",
    "cons_ch=0\n",
    "for x in ch:\n",
    "    if x in vowels:\n",
    "        vow_ch+=1\n",
    "    elif x != '':\n",
    "        cons_ch+=1\n",
    "print('Vowels:',vow_ch)\n",
    "print('Consonent:',cons_ch)"
   ]
  },
  {
   "cell_type": "code",
   "execution_count": 22,
   "id": "36a4e270",
   "metadata": {},
   "outputs": [
    {
     "name": "stdout",
     "output_type": "stream",
     "text": [
      "Enter total number of working days:100\n",
      "Enter number of days absent:30\n",
      "Your attendence is 70.0\n",
      "You are not elegible for Examination.\n"
     ]
    }
   ],
   "source": [
    "# Accept the following from the user and calculate the percentage of the class attended:\n",
    "# a. Total number of working days.\n",
    "# b. Total number of days for absent.\n",
    "# After calculatiing percentage show that, if the percentage is less than 75, then student will\n",
    "# not be able to sit in the exam.\n",
    "\n",
    "\n",
    "w_days=int(input('Enter total number of working days:'))\n",
    "absent=int(input('Enter number of days absent:'))\n",
    "\n",
    "per=(w_days-absent)/w_days*100\n",
    "\n",
    "print('Your attendence is',per)\n",
    "\n",
    "if per>=75:\n",
    "    print('You are elegible for Examination')\n",
    "    \n",
    "else:\n",
    "    print('You are not elegible for Examination.')"
   ]
  },
  {
   "cell_type": "code",
   "execution_count": 26,
   "id": "0ae0c4ed",
   "metadata": {},
   "outputs": [
    {
     "name": "stdout",
     "output_type": "stream",
     "text": [
      "Enter the time of period service: 11\n",
      "Enter your salary: 15000\n",
      "Your Net Bonus:  1500.0\n",
      "Your Total Salary:  16500.0\n"
     ]
    }
   ],
   "source": [
    "# A company decided to give bonus to an employee according the following criteria:\n",
    "\n",
    "# Time Period of Service-------------------> Bonus\n",
    "# More than 10 Years ----------------------> 10%\n",
    "# >=6 and <=10----------------------------> 8%\n",
    "# Less than 6 years ----------------------> 5%\n",
    "\n",
    "# Ask user for their salary and years of service and print the net bonus amount.\n",
    "\n",
    "\n",
    "service=int(input('Enter the time of period service: '))\n",
    "sal=int(input('Enter your salary: '))\n",
    "\n",
    "if service>=10:\n",
    "    net_bonus=10/100*sal\n",
    "elif service>=6 and service<10:\n",
    "    net_bonus=8/100*sal\n",
    "elif service<6:\n",
    "    net_bonus=5/100*sal\n",
    "print('Your Net Bonus: ',net_bonus)\n",
    "print('Your Total Salary: ',sal+net_bonus)"
   ]
  },
  {
   "cell_type": "code",
   "execution_count": 46,
   "id": "573bde6c",
   "metadata": {},
   "outputs": [
    {
     "name": "stdout",
     "output_type": "stream",
     "text": [
      "Enter your unit:230\n",
      "you are charges is 800\n"
     ]
    }
   ],
   "source": [
    "# Write a program to calculate bill(accept a number of unit form user) according \n",
    "# to the following criteria:\n",
    "# unit--------------------------> Charges\n",
    "# first 100 unit----------------> no. charges\n",
    "# next 100 unit-----------------> 5 rs. per unit.\n",
    "# After 200 unit----------------> 10 rs. per unit.\n",
    "\n",
    "# Ex-\n",
    "# First 100 units-------> use 100 cost 0\n",
    "# Next 100 units--------> use 100 cost 500\n",
    "# After 200 units-------> use 150 cost 250\n",
    "# total paid----> if above 200 units add 500 extra amount.\n",
    "\n",
    "unit=int(input('Enter your unit:'))\n",
    "\n",
    "if unit<=100:\n",
    "    print('no charges:')\n",
    "elif unit>100 and unit<=200:\n",
    "    charges=(unit-100)*5\n",
    "    print('you are charges is:',charges)\n",
    "elif unit>200:\n",
    "    charges=(unit-200)*10\n",
    "    print('you are charges is',charges+500)"
   ]
  },
  {
   "cell_type": "code",
   "execution_count": 35,
   "id": "48aa4a6a",
   "metadata": {},
   "outputs": [
    {
     "name": "stdout",
     "output_type": "stream",
     "text": [
      "Enter your units: 250\n",
      "Total cost: 1000\n"
     ]
    }
   ],
   "source": [
    "units = int(input('Enter your units: '))\n",
    "\n",
    "if units<=100:\n",
    "    print('No Charges')\n",
    "elif units>100 and units<=200:\n",
    "    cost=(units-100)*5\n",
    "    print('Total Cost:',cost)\n",
    "elif units>200:\n",
    "    cost= (units-200)*10\n",
    "    print('Total cost:',cost+500)"
   ]
  },
  {
   "cell_type": "code",
   "execution_count": 3,
   "id": "fe9ccd7d",
   "metadata": {},
   "outputs": [
    {
     "name": "stdout",
     "output_type": "stream",
     "text": [
      "Enter your unit:150\n",
      "Your charges is: 150\n"
     ]
    }
   ],
   "source": [
    "# Write a program to check whether a number is divisible by  2 and 3 both.\n",
    "# Accept the age of 4 people and display the youngest one.\n",
    "# Write a program to check a character in your name is vowel or consonent.\n",
    "\n",
    "\n",
    "\n",
    "\n",
    "# Write a program to calculate bill(accept a number of unit form user) according \n",
    "# to the following criteria:\n",
    "# unit--------------------------> Charges\n",
    "# first 100 unit----------------> no. charges\n",
    "# next 100 unit-----------------> 3 rs. per unit.\n",
    "# next 200 unit----------------> 7 rs. per unit.\n",
    "# above 300 unit---------------> 10 rs. per unit\n",
    "\n",
    "# Ex-\n",
    "# First 100 units-------> use 100 cost 0\n",
    "# Next 100 units--------> use 100 cost 500\n",
    "# After 200 units-------> use 150 cost 250\n",
    "# total paid----> if above 200 units add 500 extra amount.\n",
    "unit=int(input('Enter your unit:'))\n",
    "if unit<=100:\n",
    "    print('No charges:',charges)\n",
    "elif unit>=100 and unit<=200:\n",
    "    charges=(unit-100)*3\n",
    "    print('Your charges is:',charges)\n",
    "elif unit>=200 and unit<=300:\n",
    "    charges=(unit-200)*7\n",
    "    print('Your charges is:',charges)\n",
    "elif unit>=300:\n",
    "    chargers=(unit-300)*10\n",
    "    print('Your charges is:',charges)"
   ]
  },
  {
   "cell_type": "code",
   "execution_count": 8,
   "id": "11599e34",
   "metadata": {},
   "outputs": [
    {
     "name": "stdout",
     "output_type": "stream",
     "text": [
      "Enter your unit:258\n",
      "you are charges is 906\n"
     ]
    }
   ],
   "source": [
    "unit=int(input('Enter your unit:'))\n",
    "\n",
    "if unit<=100:\n",
    "    print('no charges:')\n",
    "elif unit>100 and unit<=200:\n",
    "    charges=(unit-100)*3\n",
    "    print('you are charges is:',charges)\n",
    "elif unit>200 and unit<=300:\n",
    "    charges=(unit-200)*7\n",
    "    print('you are charges is',charges+500)\n",
    "elif unit>300:\n",
    "    charges=(unit-300)*10\n",
    "    print('your charges is:',charges)"
   ]
  },
  {
   "cell_type": "code",
   "execution_count": 9,
   "id": "ffcf5000",
   "metadata": {},
   "outputs": [
    {
     "name": "stdout",
     "output_type": "stream",
     "text": [
      "Enter your service Years:12\n",
      "Enter your salary:30000\n",
      "Your Bonus is : 6000.0\n",
      "Your total salary is: 36000.0\n"
     ]
    }
   ],
   "source": [
    "# A company decided to give bonus to an employee according the following criteria:\n",
    "\n",
    "# Time Period of Service-------------------> Bonus\n",
    "# More than 10 Years ----------------------> 20%\n",
    "# >=6 and <=10----------------------------> 10%\n",
    "# Less than 6 years ----------------------> 8%\n",
    "\n",
    "# Ask user for their salary and years of service and print the net bonus amount.\n",
    "service=int(input('Enter your service Years:'))\n",
    "sal=int(input('Enter your salary:'))\n",
    "if service>=10:\n",
    "    net_bonus=20/100*sal\n",
    "elif service>=6 and service<=10:\n",
    "    net_bonus=10/100*sal\n",
    "elif service<6:\n",
    "    net_bonus=8/100*sal\n",
    "    \n",
    "print('Your Bonus is :',net_bonus)\n",
    "print('Your total salary is:',net_bonus+sal)\n"
   ]
  },
  {
   "cell_type": "code",
   "execution_count": 11,
   "id": "936e47c3",
   "metadata": {},
   "outputs": [
    {
     "name": "stdout",
     "output_type": "stream",
     "text": [
      "Enter total number of working days:250\n",
      "Enter total number of absent days:150\n",
      "Your attendance is: 40.0\n",
      "Your not elligible for exam\n"
     ]
    }
   ],
   "source": [
    "# Accept the following from the user and calculate the percentage of the class attended:\n",
    "# a. Total number of working days.\n",
    "# b. Total number of days for absent.\n",
    "# After calculating percentage show that, if the percentage is less than 60, then student will\n",
    "# not be able to sit in the exam.\n",
    "work=int(input('Enter total number of working days:'))\n",
    "absent=int(input('Enter total number of absent days:'))\n",
    "\n",
    "per=(work-absent)/work*100\n",
    "print('Your attendance is:',per)\n",
    "if per>=60:\n",
    "    print('Your elligible for exam')\n",
    "else:\n",
    "    print('Your not elligible for exam')"
   ]
  },
  {
   "cell_type": "code",
   "execution_count": 12,
   "id": "9a7ad24c",
   "metadata": {},
   "outputs": [
    {
     "name": "stdout",
     "output_type": "stream",
     "text": [
      "Enter your city:mumbai\n",
      "GATEWAY OF INDIA\n"
     ]
    }
   ],
   "source": [
    "# Write a program to enterd a city name by user and display monument of the city.\n",
    "\n",
    "# city------------------> Monument.\n",
    "\n",
    "# Delhi----------------> 'Red Fort','India Gate','Lotus Temple'\n",
    "# Agra-----------------> Taj Mahal\n",
    "# Jaipur --------------> Jal Mahal\n",
    "# Pune ----------------> Shaniwar Wada\n",
    "# Mumbai --------------> Gateway of India\n",
    "# Bihar ---------------> Sher ShahSuri Tomb\n",
    "# Rajasthan -----------> 'SherGrah Fort','Vijay Stambh','Grave of Layla Munjun'\n",
    "# Punjab --------------> 'Golden Temple','Ram Bagh Palace'\n",
    "# Madhya Pradesh------->'Elephant Place','Bhojpur Palace','Heliodorus Pillars'\n",
    "# Kerala --------------> 'Dutch Palace','Poonjar Palace'\n",
    "city=input('Enter your city:')\n",
    "if city.lower()=='delhi':\n",
    "    print('RED FORT')\n",
    "if city.lower()=='agra':\n",
    "    print('TAJ MAHAL')\n",
    "if city.lower()=='jaipur':\n",
    "    print('JAL MAHAL')\n",
    "if city.lower()=='pune':\n",
    "    print('SHANIWAR WADA')\n",
    "if city.lower()=='mumbai':\n",
    "    print('GATEWAY OF INDIA')\n",
    "if city.lower()=='bihar':\n",
    "    print('SHER SHAHSURI TOMB')\n",
    "if city.lower()=='rajasthan':\n",
    "    print('SHERGRAH FORT',',''VIJAY STAMBH',',''GRAVE OF LAYLA MUNJUN')\n",
    "if city.lower()=='punjab':\n",
    "    print('GOLDEN TEMPLE',',''RAM BAGH PALACE')\n",
    "if city.lower()=='madhya pradesh':\n",
    "    print('ELEPHANT PLACE',',''BHOJPUR PALACE',',''HELIODORUS PILLARS')    \n",
    "if city.lower()=='kerla':\n",
    "    print('DUTCH PALACE','POONJAR PALACE')"
   ]
  },
  {
   "cell_type": "code",
   "execution_count": null,
   "id": "984d4ae6",
   "metadata": {},
   "outputs": [],
   "source": []
  }
 ],
 "metadata": {
  "kernelspec": {
   "display_name": "Python 3 (ipykernel)",
   "language": "python",
   "name": "python3"
  },
  "language_info": {
   "codemirror_mode": {
    "name": "ipython",
    "version": 3
   },
   "file_extension": ".py",
   "mimetype": "text/x-python",
   "name": "python",
   "nbconvert_exporter": "python",
   "pygments_lexer": "ipython3",
   "version": "3.9.13"
  }
 },
 "nbformat": 4,
 "nbformat_minor": 5
}
