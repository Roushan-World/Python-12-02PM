{
 "cells": [
  {
   "cell_type": "markdown",
   "id": "8b609cb4",
   "metadata": {},
   "source": [
    "# 8. Conditions in Python\n",
    "\n",
    "\n",
    "# Comparison operators\n",
    "\n",
    "\n",
    "Comparison operators compare some value or operands and based on a condition, produce a Boolean. Python has six comparison operators below:\n",
    "\n",
    "\n",
    "    * Less than (<)\n",
    "    * Less than or equal to(<=)\n",
    "    * Greater than(>)\n",
    "    * Greater than or equal to(>=)\n",
    "    * Equal to(==)\n",
    "    * Not equal to(!=)"
   ]
  },
  {
   "cell_type": "code",
   "execution_count": 2,
   "id": "26200732",
   "metadata": {},
   "outputs": [
    {
     "name": "stdout",
     "output_type": "stream",
     "text": [
      "True\n",
      "False\n"
     ]
    }
   ],
   "source": [
    "ratio=1.618\n",
    "\n",
    "\n",
    "print(ratio<2)\n",
    "print(ratio>2)"
   ]
  },
  {
   "cell_type": "code",
   "execution_count": 7,
   "id": "39db5813",
   "metadata": {},
   "outputs": [
    {
     "name": "stdout",
     "output_type": "stream",
     "text": [
      "True\n",
      "False\n",
      "True\n",
      "True\n"
     ]
    }
   ],
   "source": [
    "print(ratio<=5)\n",
    "print(ratio>=2)\n",
    "print(ratio==1.618)\n",
    "print(ratio!=4)"
   ]
  },
  {
   "cell_type": "markdown",
   "id": "e7bd617f",
   "metadata": {},
   "source": [
    "# Braching (if, elif and else)\n",
    "\n",
    "    * Decision making is required when we want to execute a code only if a certain condition is satisfied.\n",
    "    * The if/elif/else statement is used in Python for decision making.\n",
    "    * An else statement can be combined with an if statement.\n",
    "    * An else statement contains the block of code that executes if the conditional expression in the if statement resolves to 0 or a false value.\n",
    "    * The else statement is an optional statement and there could be at most only one else statement following if.\n",
    "    * The elif statement follows you to check multiple expression for True and execute a block of code as soon as one of the condition evaluates to True.\n",
    "    * Similar to the else the elif statement is optional.\n",
    "    * However, unlike else, for which there can be almost one statement, there can be an arbitrary number of elif statement following an if."
   ]
  },
  {
   "cell_type": "code",
   "execution_count": 22,
   "id": "efb71f54",
   "metadata": {},
   "outputs": [
    {
     "name": "stdout",
     "output_type": "stream",
     "text": [
      "The number 3.14 is greater than the ratio 1.618.\n",
      "The number 3.14 is greater then the ratio 1.618\n",
      "Done!\n"
     ]
    },
    {
     "data": {
      "text/plain": [
       "'F-strings are faster than the two most commonly used string formatting \\nmechanisms, which are % formatting and str.format().'"
      ]
     },
     "execution_count": 22,
     "metadata": {},
     "output_type": "execute_result"
    }
   ],
   "source": [
    "pi= 3.14\n",
    "ratio=1.618\n",
    "\n",
    "if pi>ratio:\n",
    "    print(f'The number {pi} is greater than the ratio {ratio}.')   # f string.\n",
    "    print('The number 3.14 is greater then the ratio 1.618')\n",
    "    \n",
    "print('Done!')\n",
    "\n",
    "'''F-strings are faster than the two most commonly used string formatting \n",
    "mechanisms, which are % formatting and str.format().'''"
   ]
  },
  {
   "cell_type": "code",
   "execution_count": 26,
   "id": "1ab1c37d",
   "metadata": {},
   "outputs": [
    {
     "name": "stdout",
     "output_type": "stream",
     "text": [
      "The number ratio 1.618 is lower than the numper pi 3.14.\n",
      "Done!\n"
     ]
    }
   ],
   "source": [
    "pi=3.14\n",
    "\n",
    "ratio=1.618\n",
    "\n",
    "if pi<ratio:\n",
    "    print(f'The number pi {pi} is greater than the ratio {ratio}.')\n",
    "    \n",
    "    \n",
    "else:\n",
    "    print(f'The number ratio { ratio} is lower than the numper pi {pi}.')\n",
    "    \n",
    "print('Done!')\n"
   ]
  },
  {
   "cell_type": "code",
   "execution_count": 29,
   "id": "dfad6ce9",
   "metadata": {},
   "outputs": [
    {
     "name": "stdout",
     "output_type": "stream",
     "text": [
      "You should go to KinderGarden.\n"
     ]
    }
   ],
   "source": [
    "age=5\n",
    "\n",
    "if age>6:\n",
    "    print('You can go to primary school')\n",
    "    \n",
    "elif age==5:\n",
    "    print('You should go to KinderGarden.')\n",
    "    \n",
    "    \n",
    "else:\n",
    "    print('You are a Baby')"
   ]
  },
  {
   "cell_type": "code",
   "execution_count": 31,
   "id": "208adf85",
   "metadata": {},
   "outputs": [
    {
     "name": "stdout",
     "output_type": "stream",
     "text": [
      "Enter you age: 7\n",
      "You are Teenager.\n"
     ]
    }
   ],
   "source": [
    "# Write a program to check whether a peson is elegible  for voting or not.\n",
    "\n",
    "age=int(input('Enter you age: '))\n",
    "\n",
    "\n",
    "if age>=18:\n",
    "    print('You are elegible for voting.')\n",
    "    \n",
    "else:\n",
    "    print('You are Teenager.')\n",
    "    \n",
    "    "
   ]
  },
  {
   "cell_type": "code",
   "execution_count": 32,
   "id": "9703b646",
   "metadata": {},
   "outputs": [
    {
     "name": "stdout",
     "output_type": "stream",
     "text": [
      "Enter your age.12\n",
      "you can go to home watch the movie with your family.\n"
     ]
    }
   ],
   "source": [
    "# write a program if your is age is 20 above then you can watch movie in theater \n",
    "# otherwise you can watch movie at your home with family.\n",
    "\n",
    "age=int(input('Enter your age.'))\n",
    "\n",
    "if age>=20:\n",
    "    \n",
    "    print('you can watch the movie in therater.')\n",
    "    \n",
    "    \n",
    "else:\n",
    "    \n",
    "    print('you can go to home watch the movie with your family.')"
   ]
  },
  {
   "cell_type": "code",
   "execution_count": 33,
   "id": "aa2074ed",
   "metadata": {},
   "outputs": [
    {
     "name": "stdout",
     "output_type": "stream",
     "text": [
      "Enter your number.25\n",
      "You entered odd number.\n"
     ]
    }
   ],
   "source": [
    "# Write a program to check whether a number is entered by user is even or odd.\n",
    "\n",
    "number=int(input('Enter your number.'))\n",
    "\n",
    "\n",
    "if number%2==0:\n",
    "    print('You entered even number.')\n",
    "    \n",
    "    \n",
    "else:\n",
    "     print('You entered odd number.')\n"
   ]
  },
  {
   "cell_type": "code",
   "execution_count": 35,
   "id": "036c0d84",
   "metadata": {},
   "outputs": [
    {
     "name": "stdout",
     "output_type": "stream",
     "text": [
      "Enter your number.5166161615616\n",
      "Your number is not divided by 7.\n"
     ]
    }
   ],
   "source": [
    "# Write a program to check whether a number is divisible by 7 or not.\n",
    "\n",
    "num=int(input('Enter your number.'))\n",
    "if num%7==0:\n",
    "    print('Your number is divided by 7.')\n",
    "else:\n",
    "    print('Your number is not divided by 7.')"
   ]
  },
  {
   "cell_type": "code",
   "execution_count": 36,
   "id": "c26c4025",
   "metadata": {},
   "outputs": [
    {
     "name": "stdout",
     "output_type": "stream",
     "text": [
      "Enter your number.23\n",
      "Your name is not found.\n"
     ]
    }
   ],
   "source": [
    "# Write a progtram to display your name if a number is entered by the user is a multiple of 5.\n",
    "\n",
    "num=int(input('Enter your number.'))\n",
    "if num%5==0:\n",
    "    print('Your name is Jayshree.')\n",
    "else:\n",
    "     print('Your name is not found.')"
   ]
  },
  {
   "cell_type": "code",
   "execution_count": 2,
   "id": "de6a8fad",
   "metadata": {},
   "outputs": [
    {
     "name": "stdout",
     "output_type": "stream",
     "text": [
      "Enter any number 1 to 7:4\n",
      "Thursday\n"
     ]
    }
   ],
   "source": [
    "# Write a program to dispaly week name if you entered 1 to display \n",
    "# Monday and 2 to display Tuesday.\n",
    "\n",
    "\n",
    "num1=int(input('Enter any number 1 to 7:'))\n",
    "if num1==1:\n",
    "        print('Monday')\n",
    "        \n",
    "elif num1==2:\n",
    "    print('Tuesday')\n",
    "elif num1==3:\n",
    "    print('wednesday')\n",
    "elif num1==4:\n",
    "    print('Thursday')\n",
    "elif num1==5:\n",
    "    print('Friday')    \n",
    "elif num1==6:\n",
    "    print('Saturday')    \n",
    "elif num1==7:\n",
    "    print('Sunday')        \n",
    "else:\n",
    "    print('you enter the invalid number:')"
   ]
  },
  {
   "cell_type": "code",
   "execution_count": 3,
   "id": "9b08f5a8",
   "metadata": {},
   "outputs": [
    {
     "name": "stdout",
     "output_type": "stream",
     "text": [
      "Enter your percentage: 70\n",
      "Your Remark is Excellent: 70\n"
     ]
    }
   ],
   "source": [
    "# Write a program to accept percentage and display the Category \n",
    "# according to the following Criteria:\n",
    "\n",
    "# Percentage----------------> Category\n",
    "# <40-----------------------> Failed\n",
    "# >=40 and <55---------------> Fair\n",
    "# >=55 and <65 --------------> Good\n",
    "# >= 65---------------------> Excellent.\n",
    "\n",
    "\n",
    "percentage=int(input('Enter your percentage: '))\n",
    "\n",
    "if percentage<40:\n",
    "    print('You are failed:',percentage)\n",
    "    \n",
    "elif percentage>=40 and percentage<50:\n",
    "    print('Your Remark is Fair:',percentage)\n",
    "elif percentage>=55 and percentage<65:\n",
    "    print('Your Remark is Good:',percentage)\n",
    "elif percentage>=65:\n",
    "    print('Your Remark is Excellent:',percentage)"
   ]
  },
  {
   "cell_type": "code",
   "execution_count": 6,
   "id": "99385475",
   "metadata": {},
   "outputs": [
    {
     "name": "stdout",
     "output_type": "stream",
     "text": [
      "Enter your percentage: 65\n",
      "You are Extellent:\n"
     ]
    }
   ],
   "source": [
    "Percentage=int(input('Enter your percentage: '))\n",
    "if Percentage<40:\n",
    "    print('you are failed:')\n",
    "elif Percentage>=40 and Percentage<55:\n",
    "    print('You are fair:')\n",
    "elif Percentage>=55 and Percentage<65:\n",
    "    print('You are good')\n",
    "elif Percentage>=65:\n",
    "    print('You are Extellent:')"
   ]
  },
  {
   "cell_type": "code",
   "execution_count": 14,
   "id": "b7ef6342",
   "metadata": {},
   "outputs": [
    {
     "name": "stdout",
     "output_type": "stream",
     "text": [
      "Enter your percentage: 70\n",
      "You are Grade is A: \n"
     ]
    }
   ],
   "source": [
    "#  Accept the percentage form the user and display the \n",
    "# Grade according to the following criteria:\n",
    "\n",
    "# Below 25-------------> D\n",
    "# 25 to 45 ------------> C\n",
    "# 45 to 50-------------> B\n",
    "# 50 to 60 ------------> B+\n",
    "# 60 to 80 ------------> A\n",
    "# Above 80-------------> A+\n",
    "\n",
    "percentage=int(input('Enter your percentage: '))\n",
    "if percentage<25:\n",
    "    print('You are Grade is D: ')\n",
    "elif percentage>=25 and percentage<45:\n",
    "    print('You are Grade is C: ')\n",
    "elif percentage>=45 and Percentage<50:\n",
    "    print('You are Grade is B: ')\n",
    "elif percentage>=50 and Percentage<60:\n",
    "    print('You are Grade is B+: ')\n",
    "elif percentage>=60 and Percentage<80:\n",
    "    print('You are Grade is A: ')\n",
    "elif percentage>=80:\n",
    "    print('You are Grade is A+ : ')\n"
   ]
  },
  {
   "cell_type": "code",
   "execution_count": 15,
   "id": "760ab52d",
   "metadata": {},
   "outputs": [
    {
     "name": "stdout",
     "output_type": "stream",
     "text": [
      "Enter your age: 36\n",
      "Enter your age: 35\n",
      "Age of Olderst Person is: 36\n"
     ]
    }
   ],
   "source": [
    "# Accept the age of 2 people and display the olderst person.\n",
    "\n",
    "age1=int(input('Enter your age: '))\n",
    "age2=int(input('Enter your age: '))\n",
    "\n",
    "if age1>age2:\n",
    "    print('Age of Olderst Person is:',age1)\n",
    "    \n",
    "else:\n",
    "    print('Age of Olderst Person is:',age2)"
   ]
  },
  {
   "cell_type": "code",
   "execution_count": null,
   "id": "97f9e2fa",
   "metadata": {},
   "outputs": [],
   "source": [
    "# Accept the age of 4 people and display the olderst person.\n",
    "\n",
    "age1=input(input('Enter your age: '))\n",
    "age2=input(input('Enter your age: '))\n",
    "age3=input(input('Enter your age: '))\n",
    "age4=input(input('Enter your age: '))\n",
    "\n",
    "if age1>age2 and age1>age3 and age1>age4:\n",
    "    print('Age of Oldeset Person is:',age1)"
   ]
  },
  {
   "cell_type": "code",
   "execution_count": 17,
   "id": "e1a0caf1",
   "metadata": {},
   "outputs": [
    {
     "name": "stdout",
     "output_type": "stream",
     "text": [
      "Enter you are age: 85\n",
      "Enter you are age: 45\n",
      "Enter you are age: 63\n",
      "Enter you are age: 99\n",
      "Age of oldest person4 is: \n"
     ]
    }
   ],
   "source": [
    "person1=int(input('Enter you are age: '))\n",
    "person2=int(input('Enter you are age: '))\n",
    "person3=int(input('Enter you are age: '))\n",
    "person4=int(input('Enter you are age: '))\n",
    "if person1>person2 and person1>person3 and person1>person4:\n",
    "    print('Age of oldest person1 is: ')\n",
    "elif person2>person1 and person2>person3 and person2>person4:\n",
    "    print('Age of oldest person2 is: ')\n",
    "elif person3>person1 and person3>person2 and person3>person4:\n",
    "    print('Age of oldest person3 is: ')\n",
    "elif person4>person1 and person4>person2 and person4>person3:\n",
    "    print('Age of oldest person4 is: ')"
   ]
  },
  {
   "cell_type": "code",
   "execution_count": 19,
   "id": "663ac9a9",
   "metadata": {},
   "outputs": [
    {
     "name": "stdout",
     "output_type": "stream",
     "text": [
      "Enter you are first number: 12\n",
      "Enter you are second number: 13\n",
      "Enter you are third number: 14\n",
      "The samllest number is first: 12\n"
     ]
    }
   ],
   "source": [
    "# Write a program to find the smallest number out of three number accepted from the user.\n",
    "num1=int(input('Enter you are first number: '))\n",
    "num2=int(input('Enter you are second number: '))\n",
    "num3=int(input('Enter you are third number: '))\n",
    "if num1<num2 and num1<num3:\n",
    "    print('The samllest number is first:',num1)\n",
    "elif num2<num1 and num2<num3:\n",
    "    print('The samllest number is second:',num2)\n",
    "elif num3<num1 and num3<num2:\n",
    "    print('The samllest number is third:',num3)"
   ]
  },
  {
   "cell_type": "code",
   "execution_count": 21,
   "id": "108e219b",
   "metadata": {},
   "outputs": [
    {
     "name": "stdout",
     "output_type": "stream",
     "text": [
      "Enter any number:-3\n",
      "Number is Negative\n"
     ]
    }
   ],
   "source": [
    "# write a program to check whether a number is positive or negative entered by the user.\n",
    "\n",
    "num1=int(input('Enter any number:'))\n",
    "\n",
    "if num1>=0:\n",
    "    print('Number is Positive:')\n",
    "    \n",
    "else:\n",
    "    print('Number is Negative')"
   ]
  },
  {
   "cell_type": "code",
   "execution_count": 29,
   "id": "33001b5f",
   "metadata": {},
   "outputs": [
    {
     "name": "stdout",
     "output_type": "stream",
     "text": [
      "Enter you are age: 74\n",
      "You are Senior Citizen: 74\n"
     ]
    }
   ],
   "source": [
    "# Write a program to check whether a person is senior citizen(upto 65),Adult(18-64), \n",
    "# and Teenager(15-17).\n",
    "num=int(input('Enter you are age: '))\n",
    "if num>15 and num<=17:\n",
    "    print('You are Teenager:',num)\n",
    "elif num>=18 and num<64:\n",
    "    print('You are Adult:',num)\n",
    "elif num>65:\n",
    "    print('You are Senior Citizen:',num)\n"
   ]
  },
  {
   "cell_type": "code",
   "execution_count": 31,
   "id": "57a29169",
   "metadata": {},
   "outputs": [
    {
     "name": "stdout",
     "output_type": "stream",
     "text": [
      "Enter number to 1 to 12: 11\n",
      "November\n"
     ]
    }
   ],
   "source": [
    "# Write a program to display month name 1 for January, 2 for February and 3 for March etc.\n",
    "num=int(input('Enter number to 1 to 12: '))\n",
    "if num==1:\n",
    "    print('January')\n",
    "elif num==2:\n",
    "    print('February')\n",
    "elif num==3:\n",
    "    print('March')\n",
    "elif num==4:\n",
    "    print('April')\n",
    "elif num==5:\n",
    "    print('May')\n",
    "elif num==6:\n",
    "    print('June')\n",
    "elif num==7:\n",
    "    print('July')\n",
    "elif num==8:\n",
    "    print('Augest')\n",
    "elif num==9:\n",
    "    print('September')\n",
    "elif num==10:\n",
    "    print('Octomber')\n",
    "elif num==11:\n",
    "    print('November')\n",
    "elif num==12:\n",
    "    print('December')\n",
    "else:\n",
    "    print('You entered the invalid number')"
   ]
  },
  {
   "cell_type": "code",
   "execution_count": null,
   "id": "c3a4af0d",
   "metadata": {},
   "outputs": [],
   "source": []
  }
 ],
 "metadata": {
  "kernelspec": {
   "display_name": "Python 3 (ipykernel)",
   "language": "python",
   "name": "python3"
  },
  "language_info": {
   "codemirror_mode": {
    "name": "ipython",
    "version": 3
   },
   "file_extension": ".py",
   "mimetype": "text/x-python",
   "name": "python",
   "nbconvert_exporter": "python",
   "pygments_lexer": "ipython3",
   "version": "3.9.13"
  }
 },
 "nbformat": 4,
 "nbformat_minor": 5
}
