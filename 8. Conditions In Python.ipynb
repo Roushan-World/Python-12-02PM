{
 "cells": [
  {
   "cell_type": "markdown",
   "id": "8b609cb4",
   "metadata": {},
   "source": [
    "# 8. Conditions in Python\n",
    "\n",
    "\n",
    "# Comparison operators\n",
    "\n",
    "\n",
    "Comparison operators compare some value or operands and based on a condition, produce a Boolean. Python has six comparison operators below:\n",
    "\n",
    "\n",
    "    * Less than (<)\n",
    "    * Less than or equal to(<=)\n",
    "    * Greater than(>)\n",
    "    * Greater than or equal to(>=)\n",
    "    * Equal to(==)\n",
    "    * Not equal to(!=)"
   ]
  },
  {
   "cell_type": "code",
   "execution_count": 2,
   "id": "26200732",
   "metadata": {},
   "outputs": [
    {
     "name": "stdout",
     "output_type": "stream",
     "text": [
      "True\n",
      "False\n"
     ]
    }
   ],
   "source": [
    "ratio=1.618\n",
    "\n",
    "\n",
    "print(ratio<2)\n",
    "print(ratio>2)"
   ]
  },
  {
   "cell_type": "code",
   "execution_count": 7,
   "id": "39db5813",
   "metadata": {},
   "outputs": [
    {
     "name": "stdout",
     "output_type": "stream",
     "text": [
      "True\n",
      "False\n",
      "True\n",
      "True\n"
     ]
    }
   ],
   "source": [
    "print(ratio<=5)\n",
    "print(ratio>=2)\n",
    "print(ratio==1.618)\n",
    "print(ratio!=4)"
   ]
  },
  {
   "cell_type": "markdown",
   "id": "e7bd617f",
   "metadata": {},
   "source": [
    "# Braching (if, elif and else)\n",
    "\n",
    "    * Decision making is required when we want to execute a code only if a certain condition is satisfied.\n",
    "    * The if/elif/else statement is used in Python for decision making.\n",
    "    * An else statement can be combined with an if statement.\n",
    "    * An else statement contains the block of code that executes if the conditional expression in the if statement resolves to 0 or a false value.\n",
    "    * The else statement is an optional statement and there could be at most only one else statement following if.\n",
    "    * The elif statement follows you to check multiple expression for True and execute a block of code as soon as one of the condition evaluates to True.\n",
    "    * Similar to the else the elif statement is optional.\n",
    "    * However, unlike else, for which there can be almost one statement, there can be an arbitrary number of elif statement following an if."
   ]
  },
  {
   "cell_type": "code",
   "execution_count": 22,
   "id": "efb71f54",
   "metadata": {},
   "outputs": [
    {
     "name": "stdout",
     "output_type": "stream",
     "text": [
      "The number 3.14 is greater than the ratio 1.618.\n",
      "The number 3.14 is greater then the ratio 1.618\n",
      "Done!\n"
     ]
    },
    {
     "data": {
      "text/plain": [
       "'F-strings are faster than the two most commonly used string formatting \\nmechanisms, which are % formatting and str.format().'"
      ]
     },
     "execution_count": 22,
     "metadata": {},
     "output_type": "execute_result"
    }
   ],
   "source": [
    "pi= 3.14\n",
    "ratio=1.618\n",
    "\n",
    "if pi>ratio:\n",
    "    print(f'The number {pi} is greater than the ratio {ratio}.')   # f string.\n",
    "    print('The number 3.14 is greater then the ratio 1.618')\n",
    "    \n",
    "print('Done!')\n",
    "\n",
    "'''F-strings are faster than the two most commonly used string formatting \n",
    "mechanisms, which are % formatting and str.format().'''"
   ]
  },
  {
   "cell_type": "code",
   "execution_count": 26,
   "id": "1ab1c37d",
   "metadata": {},
   "outputs": [
    {
     "name": "stdout",
     "output_type": "stream",
     "text": [
      "The number ratio 1.618 is lower than the numper pi 3.14.\n",
      "Done!\n"
     ]
    }
   ],
   "source": [
    "pi=3.14\n",
    "\n",
    "ratio=1.618\n",
    "\n",
    "if pi<ratio:\n",
    "    print(f'The number pi {pi} is greater than the ratio {ratio}.')\n",
    "    \n",
    "    \n",
    "else:\n",
    "    print(f'The number ratio { ratio} is lower than the numper pi {pi}.')\n",
    "    \n",
    "print('Done!')\n"
   ]
  },
  {
   "cell_type": "code",
   "execution_count": 29,
   "id": "dfad6ce9",
   "metadata": {},
   "outputs": [
    {
     "name": "stdout",
     "output_type": "stream",
     "text": [
      "You should go to KinderGarden.\n"
     ]
    }
   ],
   "source": [
    "age=5\n",
    "\n",
    "if age>6:\n",
    "    print('You can go to primary school')\n",
    "    \n",
    "elif age==5:\n",
    "    print('You should go to KinderGarden.')\n",
    "    \n",
    "    \n",
    "else:\n",
    "    print('You are a Baby')"
   ]
  },
  {
   "cell_type": "code",
   "execution_count": 31,
   "id": "208adf85",
   "metadata": {},
   "outputs": [
    {
     "name": "stdout",
     "output_type": "stream",
     "text": [
      "Enter you age: 7\n",
      "You are Teenager.\n"
     ]
    }
   ],
   "source": [
    "# Write a program to check whether a peson is elegible  for voting or not.\n",
    "\n",
    "age=int(input('Enter you age: '))\n",
    "\n",
    "\n",
    "if age>=18:\n",
    "    print('You are elegible for voting.')\n",
    "    \n",
    "else:\n",
    "    print('You are Teenager.')\n",
    "    \n",
    "    "
   ]
  },
  {
   "cell_type": "code",
   "execution_count": 32,
   "id": "9703b646",
   "metadata": {},
   "outputs": [
    {
     "name": "stdout",
     "output_type": "stream",
     "text": [
      "Enter your age.12\n",
      "you can go to home watch the movie with your family.\n"
     ]
    }
   ],
   "source": [
    "# write a program if your is age is 20 above then you can watch movie in theater \n",
    "# otherwise you can watch movie at your home with family.\n",
    "\n",
    "age=int(input('Enter your age.'))\n",
    "\n",
    "if age>=20:\n",
    "    \n",
    "    print('you can watch the movie in therater.')\n",
    "    \n",
    "    \n",
    "else:\n",
    "    \n",
    "    print('you can go to home watch the movie with your family.')"
   ]
  },
  {
   "cell_type": "code",
   "execution_count": 33,
   "id": "aa2074ed",
   "metadata": {},
   "outputs": [
    {
     "name": "stdout",
     "output_type": "stream",
     "text": [
      "Enter your number.25\n",
      "You entered odd number.\n"
     ]
    }
   ],
   "source": [
    "# Write a program to check whether a number is entered by user is even or odd.\n",
    "\n",
    "number=int(input('Enter your number.'))\n",
    "\n",
    "\n",
    "if number%2==0:\n",
    "    print('You entered even number.')\n",
    "    \n",
    "    \n",
    "else:\n",
    "     print('You entered odd number.')\n"
   ]
  },
  {
   "cell_type": "code",
   "execution_count": 35,
   "id": "036c0d84",
   "metadata": {},
   "outputs": [
    {
     "name": "stdout",
     "output_type": "stream",
     "text": [
      "Enter your number.5166161615616\n",
      "Your number is not divided by 7.\n"
     ]
    }
   ],
   "source": [
    "# Write a program to check whether a number is divisible by 7 or not.\n",
    "\n",
    "num=int(input('Enter your number.'))\n",
    "if num%7==0:\n",
    "    print('Your number is divided by 7.')\n",
    "else:\n",
    "    print('Your number is not divided by 7.')"
   ]
  },
  {
   "cell_type": "code",
   "execution_count": 36,
   "id": "c26c4025",
   "metadata": {},
   "outputs": [
    {
     "name": "stdout",
     "output_type": "stream",
     "text": [
      "Enter your number.23\n",
      "Your name is not found.\n"
     ]
    }
   ],
   "source": [
    "# Write a progtram to display your name if a number is entered by the user is a multiple of 5.\n",
    "\n",
    "num=int(input('Enter your number.'))\n",
    "if num%5==0:\n",
    "    print('Your name is Jayshree.')\n",
    "else:\n",
    "     print('Your name is not found.')"
   ]
  },
  {
   "cell_type": "code",
   "execution_count": 38,
   "id": "de6a8fad",
   "metadata": {},
   "outputs": [
    {
     "name": "stdout",
     "output_type": "stream",
     "text": [
      "Enter any number 1 to 7:5\n",
      "Friday\n"
     ]
    }
   ],
   "source": [
    "# Write a program to dispaly week name if you entered 1 to display \n",
    "# Monday and 2 to display Tuesday.\n",
    "\n",
    "\n",
    "num1=int(input('Enter any number 1 to 7:'))\n",
    "if num1==1:\n",
    "        print('Monday')\n",
    "        \n",
    "elif num1==2:\n",
    "    print('Tuesday')\n",
    "elif num1==3:\n",
    "    print('wednesday')\n",
    "elif num1==4:\n",
    "    print('Thursday')\n",
    "elif num1==5:\n",
    "    print('Friday')    \n",
    "elif num1==6:\n",
    "    print('Saturday')    \n",
    "elif num1==7:\n",
    "    print('Sunday')        \n",
    "else:\n",
    "    print('you enter the invalid number:')"
   ]
  },
  {
   "cell_type": "code",
   "execution_count": null,
   "id": "9b08f5a8",
   "metadata": {},
   "outputs": [],
   "source": []
  }
 ],
 "metadata": {
  "kernelspec": {
   "display_name": "Python 3 (ipykernel)",
   "language": "python",
   "name": "python3"
  },
  "language_info": {
   "codemirror_mode": {
    "name": "ipython",
    "version": 3
   },
   "file_extension": ".py",
   "mimetype": "text/x-python",
   "name": "python",
   "nbconvert_exporter": "python",
   "pygments_lexer": "ipython3",
   "version": "3.9.13"
  }
 },
 "nbformat": 4,
 "nbformat_minor": 5
}
