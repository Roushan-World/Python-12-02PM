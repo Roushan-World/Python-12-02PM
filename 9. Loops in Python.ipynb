{
 "cells": [
  {
   "cell_type": "markdown",
   "id": "ee09fac0",
   "metadata": {},
   "source": [
    "# 9. Loops in Python\n",
    "\n",
    " * A for loop is used for iterating over a sequence (that is either a list, a tuple, a dictionary, a set, or a string)\n",
    " * This is less like the for keyword in ohter programming language, and works more like an iterator method as found in other  object-oriented programming languges.\n",
    " * with the for loop we can execute a set of statements, once for each item in a list, tuple, set etc.\n",
    " * The for loops does not require an indexing variable to set beforehand.\n",
    " * with the while loop we can execute a set of statements as long as a condition is true.\n",
    " * Note: remember to increment i, or else the loop will continue forever.\n",
    " * The while loop require relevant variable to be ready, in this example we need to define an indexing variable, i which we set to 1."
   ]
  },
  {
   "cell_type": "markdown",
   "id": "701130d8",
   "metadata": {},
   "source": [
    "# range() function\n",
    "\n",
    " * It is helpful to think of the range object as an ordered list.\n",
    " * To loop though a sef ot code a specified number of times, We can use the range() function.\n",
    " * The range() function returns a sequence of numbers, starting from 0 by default, and increments by 1(by default) and ends at a specified number."
   ]
  },
  {
   "cell_type": "code",
   "execution_count": 9,
   "id": "d86d7591",
   "metadata": {},
   "outputs": [
    {
     "name": "stdout",
     "output_type": "stream",
     "text": [
      "range(0, 5)\n",
      "range(0, 10)\n"
     ]
    }
   ],
   "source": [
    "print(range(5))\n",
    "print(range(10))\n"
   ]
  },
  {
   "cell_type": "markdown",
   "id": "8eaa5d7a",
   "metadata": {},
   "source": [
    "# for loop\n",
    "\n",
    " The for loop enables you to execute a code block multiple times."
   ]
  },
  {
   "cell_type": "code",
   "execution_count": 10,
   "id": "8905c8ff",
   "metadata": {},
   "outputs": [
    {
     "name": "stdout",
     "output_type": "stream",
     "text": [
      "2001\n",
      "2002\n",
      "2003\n",
      "2004\n",
      "2005\n",
      "2006\n",
      "2007\n"
     ]
    }
   ],
   "source": [
    "years=[2001,2002,2003,2004,2005,2006,2007]\n",
    "\n",
    "\n",
    "for i in years:\n",
    "    print(i)"
   ]
  },
  {
   "cell_type": "code",
   "execution_count": 11,
   "id": "39ccf13b",
   "metadata": {},
   "outputs": [
    {
     "name": "stdout",
     "output_type": "stream",
     "text": [
      "2001\n",
      "2002\n",
      "2003\n",
      "2004\n",
      "2005\n",
      "2006\n",
      "2007\n"
     ]
    }
   ],
   "source": [
    "for jaishri in years:\n",
    "    print(jaishri)"
   ]
  },
  {
   "cell_type": "code",
   "execution_count": 12,
   "id": "520fb4d0",
   "metadata": {},
   "outputs": [
    {
     "name": "stdout",
     "output_type": "stream",
     "text": [
      "2001\n",
      "2002\n",
      "2003\n",
      "2004\n",
      "2005\n",
      "2006\n",
      "2007\n"
     ]
    }
   ],
   "source": [
    "for years in years:\n",
    "    print(years)"
   ]
  },
  {
   "cell_type": "code",
   "execution_count": 15,
   "id": "7fe81bb0",
   "metadata": {},
   "outputs": [
    {
     "name": "stdout",
     "output_type": "stream",
     "text": [
      "10\n",
      "11\n",
      "12\n",
      "13\n",
      "14\n",
      "15\n",
      "16\n",
      "17\n",
      "18\n",
      "19\n",
      "20\n",
      "21\n",
      "22\n",
      "23\n",
      "24\n",
      "25\n",
      "26\n",
      "27\n",
      "28\n",
      "29\n",
      "30\n",
      "31\n",
      "32\n",
      "33\n",
      "34\n",
      "35\n",
      "36\n",
      "37\n",
      "38\n",
      "39\n",
      "40\n"
     ]
    }
   ],
   "source": [
    "for i in range(10,41):\n",
    "    print(i)\n",
    "    "
   ]
  },
  {
   "cell_type": "code",
   "execution_count": 17,
   "id": "423f4a08",
   "metadata": {},
   "outputs": [
    {
     "name": "stdout",
     "output_type": "stream",
     "text": [
      "2\n",
      "4\n",
      "6\n",
      "8\n",
      "10\n"
     ]
    }
   ],
   "source": [
    "for i in range(2,12,2):\n",
    "    print(i)"
   ]
  },
  {
   "cell_type": "code",
   "execution_count": 20,
   "id": "b8ccce3a",
   "metadata": {},
   "outputs": [
    {
     "name": "stdout",
     "output_type": "stream",
     "text": [
      "0\n",
      "5\n",
      "10\n",
      "15\n",
      "20\n",
      "25\n",
      "30\n",
      "35\n",
      "40\n",
      "45\n",
      "50\n",
      "55\n",
      "60\n",
      "65\n",
      "70\n",
      "75\n",
      "80\n",
      "85\n",
      "90\n",
      "95\n",
      "100\n"
     ]
    }
   ],
   "source": [
    "for i in range(0,101,5):\n",
    "    print(i)"
   ]
  },
  {
   "cell_type": "code",
   "execution_count": 51,
   "id": "eef3c8e7",
   "metadata": {},
   "outputs": [
    {
     "name": "stdout",
     "output_type": "stream",
     "text": [
      "Java\n",
      "JavaScript\n",
      "Python\n",
      "Ruby on Rails\n"
     ]
    }
   ],
   "source": [
    "language=['Java','JavaScript','Python','Ruby on Rails']\n",
    "\n",
    "for i in range(len(language)):\n",
    "    print(language[i])"
   ]
  },
  {
   "cell_type": "code",
   "execution_count": 52,
   "id": "1cc46d3c",
   "metadata": {},
   "outputs": [
    {
     "name": "stdout",
     "output_type": "stream",
     "text": [
      "Java\n",
      "JavaScript\n",
      "Python\n",
      "Ruby on Rails\n"
     ]
    }
   ],
   "source": [
    "for i in language:\n",
    "    print(i)"
   ]
  },
  {
   "cell_type": "code",
   "execution_count": 53,
   "id": "92e67005",
   "metadata": {},
   "outputs": [
    {
     "name": "stdout",
     "output_type": "stream",
     "text": [
      "Before language: 0 Java\n",
      "After lanuage: 0 C++\n",
      "Before language: 1 JavaScript\n",
      "After lanuage: 1 C++\n",
      "Before language: 2 Python\n",
      "After lanuage: 2 C++\n",
      "Before language: 3 Ruby on Rails\n",
      "After lanuage: 3 C++\n"
     ]
    }
   ],
   "source": [
    "language=['Java','JavaScript','Python','Ruby on Rails']\n",
    "\n",
    "for i in range(len(language)):\n",
    "    print('Before language:',i,language[i])\n",
    "    language[i]='C++'\n",
    "    print('After lanuage:',i,language[i])"
   ]
  },
  {
   "cell_type": "code",
   "execution_count": 55,
   "id": "2865ac44",
   "metadata": {},
   "outputs": [
    {
     "name": "stdout",
     "output_type": "stream",
     "text": [
      "0 Java\n",
      "1 JavaScript\n",
      "2 Python\n",
      "3 Ruby on Rails\n"
     ]
    }
   ],
   "source": [
    "# Enumeration of the element is the list.\n",
    "language=['Java','JavaScript','Python','Ruby on Rails']\n",
    "for index, language in enumerate(language):\n",
    "    print(index, language)"
   ]
  },
  {
   "cell_type": "code",
   "execution_count": 56,
   "id": "3b3b493e",
   "metadata": {},
   "outputs": [
    {
     "name": "stdout",
     "output_type": "stream",
     "text": [
      "-3\n",
      "-2\n",
      "-1\n",
      "0\n",
      "1\n",
      "2\n",
      "3\n",
      "4\n",
      "5\n",
      "6\n",
      "7\n",
      "8\n",
      "9\n"
     ]
    }
   ],
   "source": [
    "for i in range(-3,10):\n",
    "    print(i)"
   ]
  },
  {
   "cell_type": "code",
   "execution_count": 64,
   "id": "8769c749",
   "metadata": {},
   "outputs": [
    {
     "name": "stdout",
     "output_type": "stream",
     "text": [
      "Enter any number: 5\n",
      "The enetered number is 5.\n",
      "5 x 1 = 5\n",
      "5 x 2 = 10\n",
      "5 x 3 = 15\n",
      "5 x 4 = 20\n",
      "5 x 5 = 25\n",
      "5 x 6 = 30\n",
      "5 x 7 = 35\n",
      "5 x 8 = 40\n",
      "5 x 9 = 45\n",
      "5 x 10 = 50\n"
     ]
    }
   ],
   "source": [
    "number=int(input('Enter any number: '))\n",
    "\n",
    "print(f'The enetered number is {number}.')\n",
    "\n",
    "for i in range(1,11):\n",
    "    print('%d x %d = %d'%(number,i,number*i))"
   ]
  },
  {
   "cell_type": "code",
   "execution_count": 69,
   "id": "3a967257",
   "metadata": {},
   "outputs": [
    {
     "name": "stdout",
     "output_type": "stream",
     "text": [
      "Enter any number: 5\n",
      "Enter second number: 6\n",
      "The enetered number is 5 and 6.\n",
      "5 x 1 = 5 , 6 x 1 = 6\n",
      "5 x 2 = 10 , 6 x 2 = 12\n",
      "5 x 3 = 15 , 6 x 3 = 18\n",
      "5 x 4 = 20 , 6 x 4 = 24\n",
      "5 x 5 = 25 , 6 x 5 = 30\n",
      "5 x 6 = 30 , 6 x 6 = 36\n",
      "5 x 7 = 35 , 6 x 7 = 42\n",
      "5 x 8 = 40 , 6 x 8 = 48\n",
      "5 x 9 = 45 , 6 x 9 = 54\n",
      "5 x 10 = 50 , 6 x 10 = 60\n"
     ]
    }
   ],
   "source": [
    "number=int(input('Enter any number: '))\n",
    "number2=int(input('Enter second number: '))\n",
    "\n",
    "print(f'The enetered number is {number} and {number2}.')\n",
    "\n",
    "for i in range(1,11):\n",
    "    print(('%d x %d = %d'%(number,i,number*i)),',',('%d x %d = %d'%(number2,i,number2*i)))"
   ]
  },
  {
   "cell_type": "code",
   "execution_count": null,
   "id": "51cd3d81",
   "metadata": {},
   "outputs": [],
   "source": []
  }
 ],
 "metadata": {
  "kernelspec": {
   "display_name": "Python 3 (ipykernel)",
   "language": "python",
   "name": "python3"
  },
  "language_info": {
   "codemirror_mode": {
    "name": "ipython",
    "version": 3
   },
   "file_extension": ".py",
   "mimetype": "text/x-python",
   "name": "python",
   "nbconvert_exporter": "python",
   "pygments_lexer": "ipython3",
   "version": "3.9.13"
  }
 },
 "nbformat": 4,
 "nbformat_minor": 5
}
