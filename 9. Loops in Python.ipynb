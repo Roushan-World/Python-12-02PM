{
 "cells": [
  {
   "cell_type": "markdown",
   "id": "ee09fac0",
   "metadata": {},
   "source": [
    "# 9. Loops in Python\n",
    "\n",
    " * A for loop is used for iterating over a sequence (that is either a list, a tuple, a dictionary, a set, or a string)\n",
    " * This is less like the for keyword in ohter programming language, and works more like an iterator method as found in other  object-oriented programming languges.\n",
    " * with the for loop we can execute a set of statements, once for each item in a list, tuple, set etc.\n",
    " * The for loops does not require an indexing variable to set beforehand.\n",
    " * with the while loop we can execute a set of statements as long as a condition is true.\n",
    " * Note: remember to increment i, or else the loop will continue forever.\n",
    " * The while loop require relevant variable to be ready, in this example we need to define an indexing variable, i which we set to 1."
   ]
  },
  {
   "cell_type": "markdown",
   "id": "701130d8",
   "metadata": {},
   "source": [
    "# range() function\n",
    "\n",
    " * It is helpful to think of the range object as an ordered list.\n",
    " * To loop though a sef ot code a specified number of times, We can use the range() function.\n",
    " * The range() function returns a sequence of numbers, starting from 0 by default, and increments by 1(by default) and ends at a specified number."
   ]
  },
  {
   "cell_type": "code",
   "execution_count": 9,
   "id": "d86d7591",
   "metadata": {},
   "outputs": [
    {
     "name": "stdout",
     "output_type": "stream",
     "text": [
      "range(0, 5)\n",
      "range(0, 10)\n"
     ]
    }
   ],
   "source": [
    "print(range(5))\n",
    "print(range(10))\n"
   ]
  },
  {
   "cell_type": "markdown",
   "id": "8eaa5d7a",
   "metadata": {},
   "source": [
    "# for loop\n",
    "\n",
    " The for loop enables you to execute a code block multiple times."
   ]
  },
  {
   "cell_type": "code",
   "execution_count": 10,
   "id": "8905c8ff",
   "metadata": {},
   "outputs": [
    {
     "name": "stdout",
     "output_type": "stream",
     "text": [
      "2001\n",
      "2002\n",
      "2003\n",
      "2004\n",
      "2005\n",
      "2006\n",
      "2007\n"
     ]
    }
   ],
   "source": [
    "years=[2001,2002,2003,2004,2005,2006,2007]\n",
    "\n",
    "\n",
    "for i in years:\n",
    "    print(i)"
   ]
  },
  {
   "cell_type": "code",
   "execution_count": 11,
   "id": "39ccf13b",
   "metadata": {},
   "outputs": [
    {
     "name": "stdout",
     "output_type": "stream",
     "text": [
      "2001\n",
      "2002\n",
      "2003\n",
      "2004\n",
      "2005\n",
      "2006\n",
      "2007\n"
     ]
    }
   ],
   "source": [
    "for jaishri in years:\n",
    "    print(jaishri)"
   ]
  },
  {
   "cell_type": "code",
   "execution_count": 12,
   "id": "520fb4d0",
   "metadata": {},
   "outputs": [
    {
     "name": "stdout",
     "output_type": "stream",
     "text": [
      "2001\n",
      "2002\n",
      "2003\n",
      "2004\n",
      "2005\n",
      "2006\n",
      "2007\n"
     ]
    }
   ],
   "source": [
    "for years in years:\n",
    "    print(years)"
   ]
  },
  {
   "cell_type": "code",
   "execution_count": 15,
   "id": "7fe81bb0",
   "metadata": {},
   "outputs": [
    {
     "name": "stdout",
     "output_type": "stream",
     "text": [
      "10\n",
      "11\n",
      "12\n",
      "13\n",
      "14\n",
      "15\n",
      "16\n",
      "17\n",
      "18\n",
      "19\n",
      "20\n",
      "21\n",
      "22\n",
      "23\n",
      "24\n",
      "25\n",
      "26\n",
      "27\n",
      "28\n",
      "29\n",
      "30\n",
      "31\n",
      "32\n",
      "33\n",
      "34\n",
      "35\n",
      "36\n",
      "37\n",
      "38\n",
      "39\n",
      "40\n"
     ]
    }
   ],
   "source": [
    "for i in range(10,41):\n",
    "    print(i)\n",
    "    "
   ]
  },
  {
   "cell_type": "code",
   "execution_count": 17,
   "id": "423f4a08",
   "metadata": {},
   "outputs": [
    {
     "name": "stdout",
     "output_type": "stream",
     "text": [
      "2\n",
      "4\n",
      "6\n",
      "8\n",
      "10\n"
     ]
    }
   ],
   "source": [
    "for i in range(2,12,2):\n",
    "    print(i)"
   ]
  },
  {
   "cell_type": "code",
   "execution_count": 20,
   "id": "b8ccce3a",
   "metadata": {},
   "outputs": [
    {
     "name": "stdout",
     "output_type": "stream",
     "text": [
      "0\n",
      "5\n",
      "10\n",
      "15\n",
      "20\n",
      "25\n",
      "30\n",
      "35\n",
      "40\n",
      "45\n",
      "50\n",
      "55\n",
      "60\n",
      "65\n",
      "70\n",
      "75\n",
      "80\n",
      "85\n",
      "90\n",
      "95\n",
      "100\n"
     ]
    }
   ],
   "source": [
    "for i in range(0,101,5):\n",
    "    print(i)"
   ]
  },
  {
   "cell_type": "code",
   "execution_count": 51,
   "id": "eef3c8e7",
   "metadata": {},
   "outputs": [
    {
     "name": "stdout",
     "output_type": "stream",
     "text": [
      "Java\n",
      "JavaScript\n",
      "Python\n",
      "Ruby on Rails\n"
     ]
    }
   ],
   "source": [
    "language=['Java','JavaScript','Python','Ruby on Rails']\n",
    "\n",
    "for i in range(len(language)):\n",
    "    print(language[i])"
   ]
  },
  {
   "cell_type": "code",
   "execution_count": 52,
   "id": "1cc46d3c",
   "metadata": {},
   "outputs": [
    {
     "name": "stdout",
     "output_type": "stream",
     "text": [
      "Java\n",
      "JavaScript\n",
      "Python\n",
      "Ruby on Rails\n"
     ]
    }
   ],
   "source": [
    "for i in language:\n",
    "    print(i)"
   ]
  },
  {
   "cell_type": "code",
   "execution_count": 53,
   "id": "92e67005",
   "metadata": {},
   "outputs": [
    {
     "name": "stdout",
     "output_type": "stream",
     "text": [
      "Before language: 0 Java\n",
      "After lanuage: 0 C++\n",
      "Before language: 1 JavaScript\n",
      "After lanuage: 1 C++\n",
      "Before language: 2 Python\n",
      "After lanuage: 2 C++\n",
      "Before language: 3 Ruby on Rails\n",
      "After lanuage: 3 C++\n"
     ]
    }
   ],
   "source": [
    "language=['Java','JavaScript','Python','Ruby on Rails']\n",
    "\n",
    "for i in range(len(language)):\n",
    "    print('Before language:',i,language[i])\n",
    "    language[i]='C++'\n",
    "    print('After lanuage:',i,language[i])"
   ]
  },
  {
   "cell_type": "code",
   "execution_count": 55,
   "id": "2865ac44",
   "metadata": {},
   "outputs": [
    {
     "name": "stdout",
     "output_type": "stream",
     "text": [
      "0 Java\n",
      "1 JavaScript\n",
      "2 Python\n",
      "3 Ruby on Rails\n"
     ]
    }
   ],
   "source": [
    "# Enumeration of the element is the list.\n",
    "language=['Java','JavaScript','Python','Ruby on Rails']\n",
    "for index, language in enumerate(language):\n",
    "    print(index, language)"
   ]
  },
  {
   "cell_type": "code",
   "execution_count": 56,
   "id": "3b3b493e",
   "metadata": {},
   "outputs": [
    {
     "name": "stdout",
     "output_type": "stream",
     "text": [
      "-3\n",
      "-2\n",
      "-1\n",
      "0\n",
      "1\n",
      "2\n",
      "3\n",
      "4\n",
      "5\n",
      "6\n",
      "7\n",
      "8\n",
      "9\n"
     ]
    }
   ],
   "source": [
    "for i in range(-3,10):\n",
    "    print(i)"
   ]
  },
  {
   "cell_type": "code",
   "execution_count": 64,
   "id": "8769c749",
   "metadata": {},
   "outputs": [
    {
     "name": "stdout",
     "output_type": "stream",
     "text": [
      "Enter any number: 5\n",
      "The enetered number is 5.\n",
      "5 x 1 = 5\n",
      "5 x 2 = 10\n",
      "5 x 3 = 15\n",
      "5 x 4 = 20\n",
      "5 x 5 = 25\n",
      "5 x 6 = 30\n",
      "5 x 7 = 35\n",
      "5 x 8 = 40\n",
      "5 x 9 = 45\n",
      "5 x 10 = 50\n"
     ]
    }
   ],
   "source": [
    "number=int(input('Enter any number: '))\n",
    "\n",
    "print(f'The enetered number is {number}.')\n",
    "\n",
    "for i in range(1,11):\n",
    "    print('%d x %d = %d'%(number,i,number*i))"
   ]
  },
  {
   "cell_type": "code",
   "execution_count": 69,
   "id": "3a967257",
   "metadata": {},
   "outputs": [
    {
     "name": "stdout",
     "output_type": "stream",
     "text": [
      "Enter any number: 5\n",
      "Enter second number: 6\n",
      "The enetered number is 5 and 6.\n",
      "5 x 1 = 5 , 6 x 1 = 6\n",
      "5 x 2 = 10 , 6 x 2 = 12\n",
      "5 x 3 = 15 , 6 x 3 = 18\n",
      "5 x 4 = 20 , 6 x 4 = 24\n",
      "5 x 5 = 25 , 6 x 5 = 30\n",
      "5 x 6 = 30 , 6 x 6 = 36\n",
      "5 x 7 = 35 , 6 x 7 = 42\n",
      "5 x 8 = 40 , 6 x 8 = 48\n",
      "5 x 9 = 45 , 6 x 9 = 54\n",
      "5 x 10 = 50 , 6 x 10 = 60\n"
     ]
    }
   ],
   "source": [
    "number=int(input('Enter any number: '))\n",
    "number2=int(input('Enter second number: '))\n",
    "\n",
    "print(f'The enetered number is {number} and {number2}.')\n",
    "\n",
    "for i in range(1,11):\n",
    "    print(('%d x %d = %d'%(number,i,number*i)),',',('%d x %d = %d'%(number2,i,number2*i)))"
   ]
  },
  {
   "cell_type": "code",
   "execution_count": 1,
   "id": "51cd3d81",
   "metadata": {},
   "outputs": [
    {
     "name": "stdout",
     "output_type": "stream",
     "text": [
      "Enter your number:4\n",
      "Enter your number:5\n",
      "Enter your number:6\n",
      "Enter your number:7\n",
      "Enter your number:8\n",
      "Enter your number:9\n",
      "Enter your number:10\n",
      "Enter your number:11\n",
      "Enter your number:12\n",
      "Enter your number:13\n",
      "4\n",
      "5\n",
      "6\n",
      "7\n",
      "9\n",
      "10\n",
      "11\n",
      "12\n",
      "13\n",
      "4 X 1= 4 , 5 X 1= 5 , 6 X 1= 6 , 7 X 1= 7 , 9 X 1= 9 , 10 X 1= 10 , 11 X 1= 11 , 12 X 1= 12 , 13 X 1= 13\n",
      "4 X 2= 8 , 5 X 2= 10 , 6 X 2= 12 , 7 X 2= 14 , 9 X 2= 18 , 10 X 2= 20 , 11 X 2= 22 , 12 X 2= 24 , 13 X 2= 26\n",
      "4 X 3= 12 , 5 X 3= 15 , 6 X 3= 18 , 7 X 3= 21 , 9 X 3= 27 , 10 X 3= 30 , 11 X 3= 33 , 12 X 3= 36 , 13 X 3= 39\n",
      "4 X 4= 16 , 5 X 4= 20 , 6 X 4= 24 , 7 X 4= 28 , 9 X 4= 36 , 10 X 4= 40 , 11 X 4= 44 , 12 X 4= 48 , 13 X 4= 52\n",
      "4 X 5= 20 , 5 X 5= 25 , 6 X 5= 30 , 7 X 5= 35 , 9 X 5= 45 , 10 X 5= 50 , 11 X 5= 55 , 12 X 5= 60 , 13 X 5= 65\n",
      "4 X 6= 24 , 5 X 6= 30 , 6 X 6= 36 , 7 X 6= 42 , 9 X 6= 54 , 10 X 6= 60 , 11 X 6= 66 , 12 X 6= 72 , 13 X 6= 78\n",
      "4 X 7= 28 , 5 X 7= 35 , 6 X 7= 42 , 7 X 7= 49 , 9 X 7= 63 , 10 X 7= 70 , 11 X 7= 77 , 12 X 7= 84 , 13 X 7= 91\n",
      "4 X 8= 32 , 5 X 8= 40 , 6 X 8= 48 , 7 X 8= 56 , 9 X 8= 72 , 10 X 8= 80 , 11 X 8= 88 , 12 X 8= 96 , 13 X 8= 104\n",
      "4 X 9= 36 , 5 X 9= 45 , 6 X 9= 54 , 7 X 9= 63 , 9 X 9= 81 , 10 X 9= 90 , 11 X 9= 99 , 12 X 9= 108 , 13 X 9= 117\n",
      "4 X 10= 40 , 5 X 10= 50 , 6 X 10= 60 , 7 X 10= 70 , 9 X 10= 90 , 10 X 10= 100 , 11 X 10= 110 , 12 X 10= 120 , 13 X 10= 130\n"
     ]
    }
   ],
   "source": [
    "num1=int(input('Enter your number:'))\n",
    "num2=int(input('Enter your number:'))\n",
    "num3=int(input('Enter your number:'))\n",
    "num4=int(input('Enter your number:'))\n",
    "num5=int(input('Enter your number:'))\n",
    "num5=int(input('Enter your number:'))\n",
    "num6=int(input('Enter your number:'))\n",
    "num7=int(input('Enter your number:'))\n",
    "num8=int(input('Enter your number:'))\n",
    "num9=int(input('Enter your number:'))\n",
    "print(num1)\n",
    "print(num2)\n",
    "print(num3)\n",
    "print(num4)\n",
    "print(num5)\n",
    "print(num6)\n",
    "print(num7)\n",
    "print(num8)\n",
    "print(num9)\n",
    "\n",
    "for i in range(1,11):\n",
    "    print(('%d X %d= %d'%(num1,i,num1*i))  ,',',('%d X %d= %d'%(num2,i,num2*i))  ,',',('%d X %d= %d'%(num3,i,num3*i))  ,',',('%d X %d= %d'%(num4,i,num4*i))  ,',',('%d X %d= %d'%(num5,i,num5*i))  ,',',('%d X %d= %d'%(num6,i,num6*i))  ,',',('%d X %d= %d'%(num7,i,num7*i))  ,',',('%d X %d= %d'%(num8,i,num8*i))  ,',',('%d X %d= %d'%(num9,i,num9*i)))"
   ]
  },
  {
   "cell_type": "markdown",
   "id": "02f8101b",
   "metadata": {},
   "source": [
    "# break in for loop"
   ]
  },
  {
   "cell_type": "code",
   "execution_count": 3,
   "id": "22653ced",
   "metadata": {},
   "outputs": [
    {
     "name": "stdout",
     "output_type": "stream",
     "text": [
      "1\n",
      "2\n",
      "3\n",
      "4\n",
      "5\n",
      "6\n",
      "7\n",
      "8\n"
     ]
    }
   ],
   "source": [
    "# Take a list.\n",
    "\n",
    "\n",
    "x = [1,2,3,4,5,6,7,8,9,10,11,12]\n",
    "for i in x:\n",
    "    if i==9:\n",
    "        break\n",
    "    print(i)\n",
    "\n",
    "    ''' \n",
    "    You see that the output includes the numbers before 8.\n",
    "    The break function terminate the loop when it meets with reference.\n",
    "    '''"
   ]
  },
  {
   "cell_type": "code",
   "execution_count": 4,
   "id": "191d38af",
   "metadata": {},
   "outputs": [
    {
     "name": "stdout",
     "output_type": "stream",
     "text": [
      "1\n",
      "2\n",
      "3\n",
      "4\n",
      "5\n",
      "6\n",
      "7\n",
      "8\n",
      "9\n",
      "10\n"
     ]
    }
   ],
   "source": [
    "for i in x:\n",
    "    if i == 11:\n",
    "        break\n",
    "    print(i)"
   ]
  },
  {
   "cell_type": "markdown",
   "id": "1a33c184",
   "metadata": {},
   "source": [
    "# continue in for loop"
   ]
  },
  {
   "cell_type": "code",
   "execution_count": 7,
   "id": "66aa3ae3",
   "metadata": {},
   "outputs": [
    {
     "name": "stdout",
     "output_type": "stream",
     "text": [
      "1\n",
      "2\n",
      "3\n",
      "4\n",
      "6\n",
      "7\n",
      "8\n",
      "9\n",
      "10\n",
      "11\n",
      "12\n"
     ]
    }
   ],
   "source": [
    "x1=[1,2,3,4,5,6,7,8,9,10,11,12]\n",
    "\n",
    "for i in x1:\n",
    "    if i==5:\n",
    "        continue\n",
    "    print(i)\n",
    "    \n",
    "    \n",
    "    '''\n",
    "    You see that the output inludes the numbers without 5.\n",
    "    The continue function jumps when it meets with the reference.\n",
    "    '''"
   ]
  },
  {
   "cell_type": "markdown",
   "id": "30ce8e24",
   "metadata": {},
   "source": [
    "# While loop\n",
    "\n",
    " * The while loop exists as a tool for repeated execution based on a condition. The code block will keep\n",
    " being executed until the given logical condition returns a False boolean value."
   ]
  },
  {
   "cell_type": "code",
   "execution_count": 8,
   "id": "e66d02da",
   "metadata": {},
   "outputs": [
    {
     "name": "stdout",
     "output_type": "stream",
     "text": [
      "20\n",
      "21\n",
      "22\n",
      "23\n",
      "24\n",
      "25\n",
      "26\n"
     ]
    }
   ],
   "source": [
    "# Take an example\n",
    "\n",
    "i = 20\n",
    "\n",
    "while i<27:\n",
    "    print(i)\n",
    "    i+=1    #Iteration value."
   ]
  },
  {
   "cell_type": "code",
   "execution_count": 9,
   "id": "7d60c556",
   "metadata": {},
   "outputs": [
    {
     "name": "stdout",
     "output_type": "stream",
     "text": [
      "22\n",
      "21\n",
      "20\n",
      "19\n",
      "18\n",
      "17\n"
     ]
    }
   ],
   "source": [
    "# Second Example\n",
    "\n",
    "i = 22\n",
    "\n",
    "while i>=17:\n",
    "    print(i)\n",
    "    i-=1"
   ]
  },
  {
   "cell_type": "code",
   "execution_count": 23,
   "id": "322f922f",
   "metadata": {},
   "outputs": [
    {
     "name": "stdout",
     "output_type": "stream",
     "text": [
      "8.0\n",
      "1\n",
      "7.0\n",
      "2\n",
      "6.5\n",
      "3\n"
     ]
    }
   ],
   "source": [
    "# Printing the movie rating greater then 6.\n",
    "movie_rating=[8.0,7.0,6.5,2.4,4.6,9.0,8.5,4.3,2.3]\n",
    "\n",
    "\n",
    "index=0\n",
    "rating=movie_rating[0]\n",
    "\n",
    "while rating>=6:\n",
    "    print(rating)\n",
    "    index+=1\n",
    "    rating=movie_rating[index]\n",
    "    print(index)"
   ]
  },
  {
   "cell_type": "code",
   "execution_count": 26,
   "id": "2b74dc72",
   "metadata": {},
   "outputs": [
    {
     "name": "stdout",
     "output_type": "stream",
     "text": [
      "Enter any number: 8\n",
      "The entered number are 8\n",
      "8 x 1 = 8\n",
      "8 x 2 = 16\n",
      "8 x 3 = 24\n",
      "8 x 4 = 32\n",
      "8 x 5 = 40\n",
      "8 x 6 = 48\n",
      "8 x 7 = 56\n",
      "8 x 8 = 64\n",
      "8 x 9 = 72\n",
      "8 x 10 = 80\n"
     ]
    }
   ],
   "source": [
    "number=int(input('Enter any number: '))\n",
    "\n",
    "print(f'The entered number are {number}')\n",
    "\n",
    "i=1\n",
    "while i<=10:\n",
    "    print('%d x %d = %d'%(number,i,number*i))\n",
    "    i+=1"
   ]
  },
  {
   "cell_type": "code",
   "execution_count": 28,
   "id": "8c1c5ace",
   "metadata": {},
   "outputs": [
    {
     "name": "stdout",
     "output_type": "stream",
     "text": [
      "0\n",
      "1\n",
      "2\n",
      "3\n",
      "4\n",
      "5\n",
      "6\n",
      "7\n",
      "8\n",
      "9\n",
      "10\n",
      "It gives us the number between 0 to 10\n"
     ]
    }
   ],
   "source": [
    "# 0,1,2,3,4,5,6,7,8,9,10\n",
    "i=0\n",
    " \n",
    "while i<11:\n",
    "    print(i)\n",
    "    i+=1\n",
    "else:\n",
    "    print('It gives us the number between 0 to 10')"
   ]
  },
  {
   "cell_type": "code",
   "execution_count": 29,
   "id": "8db9a630",
   "metadata": {},
   "outputs": [
    {
     "name": "stdout",
     "output_type": "stream",
     "text": [
      "0\n",
      "1\n",
      "2\n"
     ]
    }
   ],
   "source": [
    "i = 0\n",
    "\n",
    "while i<=5:\n",
    "    print(i)\n",
    "    i+=1\n",
    "    if i==3:\n",
    "        break"
   ]
  },
  {
   "cell_type": "code",
   "execution_count": 30,
   "id": "e71bd798",
   "metadata": {},
   "outputs": [
    {
     "name": "stdout",
     "output_type": "stream",
     "text": [
      "0\n",
      "1\n",
      "2\n",
      "3\n",
      "4\n",
      "5\n"
     ]
    }
   ],
   "source": [
    "i = 0\n",
    "\n",
    "while i<=5:\n",
    "    print(i)\n",
    "    i+=1\n",
    "    if i==3:\n",
    "        continue"
   ]
  },
  {
   "cell_type": "code",
   "execution_count": 31,
   "id": "7b6b0dc3",
   "metadata": {},
   "outputs": [
    {
     "name": "stdout",
     "output_type": "stream",
     "text": [
      "0\n",
      "2\n",
      "4\n",
      "6\n",
      "8\n",
      "10\n",
      "12\n",
      "14\n",
      "16\n",
      "18\n",
      "20\n"
     ]
    }
   ],
   "source": [
    "# Example: Write a program to print all the even numbers within the given range 20.\n",
    "i=0\n",
    "while i<22:\n",
    "    \n",
    "    print(i)\n",
    "    i+=2"
   ]
  },
  {
   "cell_type": "code",
   "execution_count": 33,
   "id": "ad7b9632",
   "metadata": {},
   "outputs": [
    {
     "name": "stdout",
     "output_type": "stream",
     "text": [
      "0\n",
      "2\n",
      "4\n",
      "6\n",
      "8\n",
      "10\n",
      "12\n",
      "14\n",
      "16\n",
      "18\n",
      "20\n"
     ]
    }
   ],
   "source": [
    "# Other method\n",
    "\n",
    "given_number=22\n",
    "\n",
    "\n",
    "for i in range(0,given_number):\n",
    "    \n",
    "    if i%2==0:\n",
    "        print(i)"
   ]
  },
  {
   "cell_type": "code",
   "execution_count": 34,
   "id": "5d2869ba",
   "metadata": {},
   "outputs": [
    {
     "name": "stdout",
     "output_type": "stream",
     "text": [
      "0\n",
      "3\n",
      "6\n",
      "9\n",
      "12\n",
      "15\n",
      "18\n",
      "21\n"
     ]
    }
   ],
   "source": [
    "# print odd number\n",
    "\n",
    "number=22\n",
    "\n",
    "for i in range(0,22):\n",
    "\n",
    "    if i%3==0:\n",
    "        print(i)"
   ]
  },
  {
   "cell_type": "code",
   "execution_count": 35,
   "id": "b198e664",
   "metadata": {},
   "outputs": [
    {
     "name": "stdout",
     "output_type": "stream",
     "text": [
      "0\n",
      "3\n",
      "6\n",
      "9\n",
      "12\n",
      "15\n",
      "18\n",
      "21\n"
     ]
    }
   ],
   "source": [
    "i=0\n",
    "\n",
    "while i<22:\n",
    "    print(i)\n",
    "    i+=3"
   ]
  },
  {
   "cell_type": "code",
   "execution_count": 43,
   "id": "09d89180",
   "metadata": {},
   "outputs": [
    {
     "name": "stdout",
     "output_type": "stream",
     "text": [
      "465\n"
     ]
    }
   ],
   "source": [
    "# Write a program to calculate the sum of all the numbers from 1 to given number 30.\n",
    "\n",
    "\n",
    "given_number=30\n",
    "\n",
    "sum=0\n",
    "\n",
    "for i in range(1,given_number+1):\n",
    "    sum+=i\n",
    "    \n",
    "print(sum)"
   ]
  },
  {
   "cell_type": "code",
   "execution_count": 2,
   "id": "9b882402",
   "metadata": {},
   "outputs": [
    {
     "name": "stdout",
     "output_type": "stream",
     "text": [
      "0\n",
      "3\n",
      "6\n",
      "9\n",
      "12\n",
      "15\n",
      "18\n",
      "21\n",
      "24\n",
      "27\n",
      "30\n"
     ]
    }
   ],
   "source": [
    "# Write a program to print all the odd numbers between 30.\n",
    "i=0\n",
    "while i<33:\n",
    "    print(i)\n",
    "    i+=3"
   ]
  },
  {
   "cell_type": "code",
   "execution_count": 4,
   "id": "0c84c84e",
   "metadata": {},
   "outputs": [
    {
     "name": "stdout",
     "output_type": "stream",
     "text": [
      "1\n",
      "2\n",
      "4\n",
      "5\n",
      "7\n",
      "8\n",
      "10\n",
      "11\n",
      "13\n",
      "14\n",
      "16\n",
      "17\n",
      "19\n",
      "20\n",
      "22\n",
      "23\n",
      "25\n",
      "26\n",
      "28\n",
      "29\n",
      "31\n",
      "32\n"
     ]
    }
   ],
   "source": [
    "num=30\n",
    "for i in range(0,33):\n",
    "\n",
    "    if i%3!=0:\n",
    "        print(i)"
   ]
  },
  {
   "cell_type": "code",
   "execution_count": null,
   "id": "6f2e5476",
   "metadata": {},
   "outputs": [],
   "source": []
  }
 ],
 "metadata": {
  "kernelspec": {
   "display_name": "Python 3 (ipykernel)",
   "language": "python",
   "name": "python3"
  },
  "language_info": {
   "codemirror_mode": {
    "name": "ipython",
    "version": 3
   },
   "file_extension": ".py",
   "mimetype": "text/x-python",
   "name": "python",
   "nbconvert_exporter": "python",
   "pygments_lexer": "ipython3",
   "version": "3.9.13"
  }
 },
 "nbformat": 4,
 "nbformat_minor": 5
}
