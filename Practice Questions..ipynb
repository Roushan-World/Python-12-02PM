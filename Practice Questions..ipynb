{
 "cells": [
  {
   "cell_type": "code",
   "execution_count": null,
   "id": "d561f0c3",
   "metadata": {},
   "outputs": [],
   "source": [
    "# Write a python program to find the simple interest.  # (p*r*t)/100\n",
    "# write a python program to swap any number.\n",
    "# write a python program to find the square of any number.\n",
    "# Write a program to find the area of circle based on the radius entered by \n",
    "# the user. (pi*r**2)\n",
    "# Write the python program to display the first and last colors from the \n",
    "# followig list. color_list['Red','Green','White','Black']\n",
    "# Write a python program will accept the base and height of a triangle and \n",
    "# compute its area. \n",
    "\n",
    "# Write a python program to count the number of each character in a text file.\n",
    "\n",
    "# write a python program to add two positive integer without using the '+' \n",
    "# operator.\n",
    "\n",
    "# write a python program to find out what the version of Python you are using.\n",
    "\n",
    "# Write a python program that accepts the user's first and last name and prints \n",
    "# them in reverse order with a space betwwn them.\n",
    "\n",
    "# Write a python program to test whether a number is within 100 of 1000 or 2000.\n",
    "\n",
    "\n",
    "# Write a python program to enter a string to float or integer.\n",
    "\n"
   ]
  },
  {
   "cell_type": "code",
   "execution_count": 3,
   "id": "7f18a90f",
   "metadata": {},
   "outputs": [
    {
     "name": "stdout",
     "output_type": "stream",
     "text": [
      "Enter your principal:10000\n",
      "Enter your rate:3\n",
      "Enter your time:2\n",
      "The simple interest is: 600.0\n",
      "10600.0\n"
     ]
    }
   ],
   "source": [
    "principal=int(input('Enter your principal:'))\n",
    "rate=int(input('Enter your rate:'))\n",
    "time=int(input('Enter your time:'))\n",
    "total=(principal*rate*time)/100\n",
    "\n",
    "\n",
    "print('The simple interest is:',total)\n",
    "print(principal+total)"
   ]
  },
  {
   "cell_type": "code",
   "execution_count": 5,
   "id": "7f0a9529",
   "metadata": {},
   "outputs": [
    {
     "name": "stdout",
     "output_type": "stream",
     "text": [
      "Enter any value: 2\n",
      "Enter second value: 3\n",
      "Value Before Swaping: a 2\n",
      "Value Before Swaping: b 3\n",
      "a =  3 and b=  2\n"
     ]
    }
   ],
   "source": [
    "a = input('Enter any value: ')\n",
    "b = input('Enter second value: ')\n",
    "\n",
    "print('Value Before Swaping: a',a)\n",
    "print('Value Before Swaping: b',b)\n",
    "\n",
    "z = a\n",
    "a = b\n",
    "b = z\n",
    "\n",
    "print('a = ',a, 'and', 'b= ',b)\n",
    "\n"
   ]
  },
  {
   "cell_type": "code",
   "execution_count": 6,
   "id": "6270f774",
   "metadata": {},
   "outputs": [
    {
     "name": "stdout",
     "output_type": "stream",
     "text": [
      "Enter any value: 2\n",
      "Enter second value: 3\n",
      "Value Before Swaping: a 2\n",
      "Value Before Swaping: b 3\n",
      "a =  3 and b=  2\n"
     ]
    }
   ],
   "source": [
    "a = input('Enter any value: ')\n",
    "b = input('Enter second value: ')\n",
    "\n",
    "print('Value Before Swaping: a',a)\n",
    "print('Value Before Swaping: b',b)\n",
    "\n",
    "\n",
    "a,b=b,a\n",
    "\n",
    "print('a = ',a, 'and', 'b= ',b)"
   ]
  },
  {
   "cell_type": "code",
   "execution_count": 10,
   "id": "1189c01e",
   "metadata": {},
   "outputs": [
    {
     "name": "stdout",
     "output_type": "stream",
     "text": [
      "Enter any number:3\n",
      "The number of square is: 9\n"
     ]
    }
   ],
   "source": [
    "num=int(input('Enter any number:'))\n",
    "square=num**2\n",
    "print('The number of square is:',square)"
   ]
  },
  {
   "cell_type": "code",
   "execution_count": 12,
   "id": "6bb56334",
   "metadata": {},
   "outputs": [
    {
     "ename": "ModuleNotFoundError",
     "evalue": "No module named 'fcntl'",
     "output_type": "error",
     "traceback": [
      "\u001b[1;31m---------------------------------------------------------------------------\u001b[0m",
      "\u001b[1;31mModuleNotFoundError\u001b[0m                       Traceback (most recent call last)",
      "\u001b[1;32m~\\AppData\\Local\\Temp\\ipykernel_12228\\4219072015.py\u001b[0m in \u001b[0;36m<module>\u001b[1;34m\u001b[0m\n\u001b[1;32m----> 1\u001b[1;33m \u001b[1;32mimport\u001b[0m \u001b[0mfcntl\u001b[0m\u001b[1;33m\u001b[0m\u001b[1;33m\u001b[0m\u001b[0m\n\u001b[0m\u001b[0;32m      2\u001b[0m \u001b[1;32mdef\u001b[0m \u001b[0mterminal_size\u001b[0m\u001b[1;33m(\u001b[0m\u001b[1;33m)\u001b[0m\u001b[1;33m:\u001b[0m\u001b[1;33m\u001b[0m\u001b[1;33m\u001b[0m\u001b[0m\n\u001b[0;32m      3\u001b[0m     \u001b[1;32mimport\u001b[0m \u001b[0mfcntl\u001b[0m\u001b[1;33m,\u001b[0m \u001b[0mtermios\u001b[0m\u001b[1;33m,\u001b[0m \u001b[0mstruct\u001b[0m\u001b[1;33m\u001b[0m\u001b[1;33m\u001b[0m\u001b[0m\n\u001b[0;32m      4\u001b[0m     th, tw, hp, wp = struct.unpack('HHHH',\n\u001b[0;32m      5\u001b[0m         fcntl.ioctl(0, termios.TIOCGWINSZ,\n",
      "\u001b[1;31mModuleNotFoundError\u001b[0m: No module named 'fcntl'"
     ]
    }
   ],
   "source": [
    "import fcntl\n",
    "def terminal_size():\n",
    "    import fcntl, termios, struct\n",
    "    th, tw, hp, wp = struct.unpack('HHHH',\n",
    "        fcntl.ioctl(0, termios.TIOCGWINSZ,\n",
    "        struct.pack('HHHH', 0, 0, 0, 0)))\n",
    "    return tw, th\n",
    "\n",
    "print('Number of columns and Rows: ',terminal_size())"
   ]
  },
  {
   "cell_type": "code",
   "execution_count": null,
   "id": "02f1590c",
   "metadata": {},
   "outputs": [],
   "source": []
  }
 ],
 "metadata": {
  "kernelspec": {
   "display_name": "Python 3 (ipykernel)",
   "language": "python",
   "name": "python3"
  },
  "language_info": {
   "codemirror_mode": {
    "name": "ipython",
    "version": 3
   },
   "file_extension": ".py",
   "mimetype": "text/x-python",
   "name": "python",
   "nbconvert_exporter": "python",
   "pygments_lexer": "ipython3",
   "version": "3.9.13"
  }
 },
 "nbformat": 4,
 "nbformat_minor": 5
}
